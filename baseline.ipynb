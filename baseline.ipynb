{
 "cells": [
  {
   "cell_type": "code",
   "execution_count": 46,
   "metadata": {},
   "outputs": [],
   "source": [
    "import numpy as np\n",
    "import optuna\n",
    "\n",
    "from sklearn.feature_extraction.text import TfidfVectorizer\n",
    "from sklearn.model_selection import train_test_split, cross_val_score\n",
    "from sklearn.metrics import mean_squared_error\n",
    "from sklearn.decomposition import TruncatedSVD\n",
    "\n",
    "from xgboost import XGBRegressor\n",
    "\n",
    "from env import DATA_DIR\n",
    "from utils import load_jsons_data, delete_parts_of_lyrics\n",
    "from language_detect import safe_decode"
   ]
  },
  {
   "cell_type": "code",
   "execution_count": 61,
   "metadata": {},
   "outputs": [],
   "source": [
    "df = load_jsons_data(data_dir=DATA_DIR, \n",
    "                    columns=[\"lyrics\", \"popularity\", 'track_name'])"
   ]
  },
  {
   "cell_type": "code",
   "execution_count": 62,
   "metadata": {},
   "outputs": [
    {
     "name": "stderr",
     "output_type": "stream",
     "text": [
      "/var/folders/xf/fbkckkm10_318h1crwz_j60m0000gn/T/ipykernel_71434/972120007.py:4: UserWarning: This pattern is interpreted as a regular expression, and has match groups. To actually get the groups, use str.extract.\n",
      "  df = df[~df['track_name'].str.contains(pattern, regex=True)]\n"
     ]
    }
   ],
   "source": [
    "df=df[df['popularity']>2]\n",
    "\n",
    "pattern = r' - (live|acoustic|acoustic version)$'\n",
    "df = df[~df['track_name'].str.contains(pattern, regex=True)]"
   ]
  },
  {
   "cell_type": "code",
   "execution_count": 63,
   "metadata": {},
   "outputs": [],
   "source": [
    "df[\"lyrics\"] = df[\"lyrics\"].apply(safe_decode)\n",
    "df[\"lyrics\"] = df[\"lyrics\"].str.lower()\n",
    "df[\"lyrics\"] = df[\"lyrics\"].str.replace(r'[^\\w\\s]', '')\n",
    "df[\"lyrics\"] = df[\"lyrics\"].apply(delete_parts_of_lyrics)\n",
    "df[\"lyrics\"] = df[\"lyrics\"].str.replace(r'\\d+', '')\n",
    "df[\"lyrics\"] = df[\"lyrics\"].str.strip()\n",
    "# Может стоит удалить цифры?\n",
    "# Может стоит использовать лемматизацию или стемминг?\n",
    "# Фильтрация стоп-слов?"
   ]
  },
  {
   "cell_type": "code",
   "execution_count": 64,
   "metadata": {},
   "outputs": [],
   "source": [
    "X_train, X_test, y_train, y_test = train_test_split(df[\"lyrics\"], df[\"popularity\"], test_size=0.2, random_state=42)"
   ]
  },
  {
   "cell_type": "code",
   "execution_count": 65,
   "metadata": {},
   "outputs": [],
   "source": [
    "# TF-IDF: используем слова + символы, без `stop_words`\n",
    "word_vectorizer = TfidfVectorizer(ngram_range=(2, 4), \n",
    "                                  max_features=75000, \n",
    "                                  min_df=2, \n",
    "                                  max_df=0.95)\n",
    "char_vectorizer = TfidfVectorizer(analyzer='char_wb', \n",
    "                                  ngram_range=(3, 6), \n",
    "                                  max_features=20000,\n",
    "                                  min_df=2,\n",
    "                                  max_df=0.95)"
   ]
  },
  {
   "cell_type": "code",
   "execution_count": 66,
   "metadata": {},
   "outputs": [],
   "source": [
    "# Обучаем TF-IDF\n",
    "X_train_word = word_vectorizer.fit_transform(X_train)\n",
    "X_train_char  = char_vectorizer.fit_transform(X_train)\n",
    "X_train_tfidf = np.hstack((X_train_word.toarray(), X_train_char.toarray()))\n",
    "\n",
    "X_test_word = word_vectorizer.transform(X_test)\n",
    "X_test_char = char_vectorizer.transform(X_test)\n",
    "X_test_tfidf = np.hstack((X_test_word.toarray(), X_test_char.toarray()))"
   ]
  },
  {
   "cell_type": "code",
   "execution_count": 53,
   "metadata": {},
   "outputs": [],
   "source": [
    "# Снижаем размерность (ускоряем XGBoost)\n",
    "svd = TruncatedSVD(n_components=700)\n",
    "X_train_tfidf = svd.fit_transform(X_train_tfidf)\n",
    "X_test_tfidf = svd.transform(X_test_tfidf)"
   ]
  },
  {
   "cell_type": "code",
   "execution_count": 54,
   "metadata": {},
   "outputs": [
    {
     "name": "stderr",
     "output_type": "stream",
     "text": [
      "[I 2025-04-08 19:29:09,852] A new study created in memory with name: no-name-7048ff64-5289-420b-8152-7d2505761e5c\n",
      "[I 2025-04-08 19:29:30,489] Trial 0 finished with value: 17.36873944600423 and parameters: {'n_estimators': 839, 'max_depth': 2, 'learning_rate': 0.006019924851477963, 'subsample': 0.7306335148013986, 'colsample_bytree': 0.6992722105886697, 'gamma': 5.1973888928670435, 'reg_alpha': 0.44953253521852676, 'reg_lambda': 0.3612623801462084}. Best is trial 0 with value: 17.36873944600423.\n",
      "[I 2025-04-08 19:30:05,065] Trial 1 finished with value: 17.092056274414062 and parameters: {'n_estimators': 650, 'max_depth': 4, 'learning_rate': 0.012879491886962668, 'subsample': 0.7204779637398986, 'colsample_bytree': 0.6010352585657243, 'gamma': 3.4428993376674035, 'reg_alpha': 0.44516865067998507, 'reg_lambda': 0.2360814420531145}. Best is trial 1 with value: 17.092056274414062.\n",
      "[I 2025-04-08 19:30:47,745] Trial 2 finished with value: 17.222214380900066 and parameters: {'n_estimators': 390, 'max_depth': 5, 'learning_rate': 0.006245020855447995, 'subsample': 0.9281056076084054, 'colsample_bytree': 0.9155586153252719, 'gamma': 6.6448268744084515, 'reg_alpha': 0.32234305456929696, 'reg_lambda': 0.21217414174821692}. Best is trial 1 with value: 17.092056274414062.\n",
      "[I 2025-04-08 19:32:14,635] Trial 3 finished with value: 17.135595957438152 and parameters: {'n_estimators': 887, 'max_depth': 5, 'learning_rate': 0.008621534583401216, 'subsample': 0.6935436943805945, 'colsample_bytree': 0.796591543350806, 'gamma': 6.91376720088363, 'reg_alpha': 0.4172398187544203, 'reg_lambda': 0.2084760670209604}. Best is trial 1 with value: 17.092056274414062.\n",
      "[I 2025-04-08 19:32:39,907] Trial 4 finished with value: 17.212120691935223 and parameters: {'n_estimators': 766, 'max_depth': 3, 'learning_rate': 0.008867448414237984, 'subsample': 0.9737732519276088, 'colsample_bytree': 0.7959807771686256, 'gamma': 5.800225747884046, 'reg_alpha': 0.3629223631026401, 'reg_lambda': 0.31623520783060227}. Best is trial 1 with value: 17.092056274414062.\n",
      "[I 2025-04-08 19:32:47,359] Trial 5 finished with value: 18.211894989013672 and parameters: {'n_estimators': 396, 'max_depth': 2, 'learning_rate': 0.0018497949530681933, 'subsample': 0.7885177028379273, 'colsample_bytree': 0.9536312774857568, 'gamma': 3.0401761500932305, 'reg_alpha': 0.3804188331965274, 'reg_lambda': 0.3641054501788047}. Best is trial 1 with value: 17.092056274414062.\n",
      "[I 2025-04-08 19:33:42,266] Trial 6 finished with value: 17.259183883666992 and parameters: {'n_estimators': 475, 'max_depth': 5, 'learning_rate': 0.004486948892945381, 'subsample': 0.6711990553399679, 'colsample_bytree': 0.8952643820805417, 'gamma': 5.291651623683477, 'reg_alpha': 0.4050325660832316, 'reg_lambda': 0.3579072087071109}. Best is trial 1 with value: 17.092056274414062.\n",
      "[I 2025-04-08 19:33:54,511] Trial 7 finished with value: 18.123642603556316 and parameters: {'n_estimators': 339, 'max_depth': 3, 'learning_rate': 0.0018718067427370647, 'subsample': 0.8959035059007798, 'colsample_bytree': 0.8783435134355605, 'gamma': 3.7298278593792378, 'reg_alpha': 0.3321353275723744, 'reg_lambda': 0.20389566336197462}. Best is trial 1 with value: 17.092056274414062.\n",
      "[I 2025-04-08 19:34:00,757] Trial 8 finished with value: 17.54150454203288 and parameters: {'n_estimators': 314, 'max_depth': 2, 'learning_rate': 0.008935363297000263, 'subsample': 0.7331340056400865, 'colsample_bytree': 0.648544522325133, 'gamma': 3.371851715257301, 'reg_alpha': 0.31583984582352853, 'reg_lambda': 0.2871186938768733}. Best is trial 1 with value: 17.092056274414062.\n",
      "[I 2025-04-08 19:34:58,748] Trial 9 finished with value: 17.353603998819988 and parameters: {'n_estimators': 921, 'max_depth': 4, 'learning_rate': 0.026581877400313224, 'subsample': 0.7450638040826156, 'colsample_bytree': 0.7726580305146578, 'gamma': 5.767783557083366, 'reg_alpha': 0.4158650182039755, 'reg_lambda': 0.28419852474473833}. Best is trial 1 with value: 17.092056274414062.\n",
      "[I 2025-04-08 19:35:30,095] Trial 10 finished with value: 17.197025299072266 and parameters: {'n_estimators': 599, 'max_depth': 4, 'learning_rate': 0.02501684873996662, 'subsample': 0.6151646303072622, 'colsample_bytree': 0.6110968445601428, 'gamma': 3.9269692516630617, 'reg_alpha': 0.49511415266570763, 'reg_lambda': 0.24838925488395142}. Best is trial 1 with value: 17.092056274414062.\n",
      "[I 2025-04-08 19:36:44,293] Trial 11 finished with value: 17.217753092447918 and parameters: {'n_estimators': 659, 'max_depth': 5, 'learning_rate': 0.014542497187902388, 'subsample': 0.6567157203305214, 'colsample_bytree': 0.7061462893402021, 'gamma': 4.39269281551358, 'reg_alpha': 0.4515522568504989, 'reg_lambda': 0.2413427777251731}. Best is trial 1 with value: 17.092056274414062.\n",
      "[I 2025-04-08 19:37:27,830] Trial 12 finished with value: 17.11715571085612 and parameters: {'n_estimators': 684, 'max_depth': 4, 'learning_rate': 0.014636018817844574, 'subsample': 0.8218830153919477, 'colsample_bytree': 0.836594213749681, 'gamma': 6.763016852571054, 'reg_alpha': 0.444603950162305, 'reg_lambda': 0.2402255179925465}. Best is trial 1 with value: 17.092056274414062.\n",
      "[I 2025-04-08 19:38:08,600] Trial 13 finished with value: 17.135535558064777 and parameters: {'n_estimators': 649, 'max_depth': 4, 'learning_rate': 0.01495247437032757, 'subsample': 0.852316487045756, 'colsample_bytree': 0.845233160436516, 'gamma': 4.710110182215202, 'reg_alpha': 0.4624852836550663, 'reg_lambda': 0.24309748352013963}. Best is trial 1 with value: 17.092056274414062.\n",
      "[I 2025-04-08 19:38:26,151] Trial 14 finished with value: 17.1150639851888 and parameters: {'n_estimators': 541, 'max_depth': 3, 'learning_rate': 0.017661260965426643, 'subsample': 0.8218535640674528, 'colsample_bytree': 0.7131563375068598, 'gamma': 6.2295455562350215, 'reg_alpha': 0.49562222993044364, 'reg_lambda': 0.2657974958178783}. Best is trial 1 with value: 17.092056274414062.\n",
      "[I 2025-04-08 19:38:43,093] Trial 15 finished with value: 17.533053080240887 and parameters: {'n_estimators': 526, 'max_depth': 3, 'learning_rate': 0.003283283240890857, 'subsample': 0.7894671576082569, 'colsample_bytree': 0.7284659265543073, 'gamma': 6.198920749044715, 'reg_alpha': 0.4976967948500304, 'reg_lambda': 0.2759446960751569}. Best is trial 1 with value: 17.092056274414062.\n",
      "[I 2025-04-08 19:38:59,211] Trial 16 finished with value: 18.255221048990887 and parameters: {'n_estimators': 537, 'max_depth': 3, 'learning_rate': 0.0010068562112580625, 'subsample': 0.8648955853635072, 'colsample_bytree': 0.6056231712007825, 'gamma': 4.4317073218128105, 'reg_alpha': 0.4742333429940963, 'reg_lambda': 0.3235150513153297}. Best is trial 1 with value: 17.092056274414062.\n",
      "[I 2025-04-08 19:39:26,676] Trial 17 finished with value: 17.094497680664062 and parameters: {'n_estimators': 763, 'max_depth': 3, 'learning_rate': 0.019978208588203088, 'subsample': 0.600551403608284, 'colsample_bytree': 0.6550369849852016, 'gamma': 6.143169653312415, 'reg_alpha': 0.4831981399432159, 'reg_lambda': 0.26501268102124803}. Best is trial 1 with value: 17.092056274414062.\n",
      "[I 2025-04-08 19:40:06,622] Trial 18 finished with value: 17.196805318196613 and parameters: {'n_estimators': 749, 'max_depth': 4, 'learning_rate': 0.020686871591427028, 'subsample': 0.6007536715309253, 'colsample_bytree': 0.6552266274227248, 'gamma': 5.582992939559228, 'reg_alpha': 0.42359673026660877, 'reg_lambda': 0.30837604384990797}. Best is trial 1 with value: 17.092056274414062.\n",
      "[I 2025-04-08 19:40:39,207] Trial 19 finished with value: 17.101664861043293 and parameters: {'n_estimators': 999, 'max_depth': 3, 'learning_rate': 0.011019613902703989, 'subsample': 0.6350917609888932, 'colsample_bytree': 0.6619473208703502, 'gamma': 3.9442096392334753, 'reg_alpha': 0.4789731915374879, 'reg_lambda': 0.3392489561430504}. Best is trial 1 with value: 17.092056274414062.\n",
      "[I 2025-04-08 19:41:30,316] Trial 20 finished with value: 17.310569127400715 and parameters: {'n_estimators': 760, 'max_depth': 4, 'learning_rate': 0.02905207486316611, 'subsample': 0.7035878854701778, 'colsample_bytree': 0.7588324334183395, 'gamma': 4.83388883400673, 'reg_alpha': 0.42964689819848206, 'reg_lambda': 0.3946626279732147}. Best is trial 1 with value: 17.092056274414062.\n",
      "[I 2025-04-08 19:42:01,087] Trial 21 finished with value: 17.10377248128255 and parameters: {'n_estimators': 980, 'max_depth': 3, 'learning_rate': 0.009991799995953803, 'subsample': 0.6509231323161425, 'colsample_bytree': 0.6522874575432446, 'gamma': 3.899483577321951, 'reg_alpha': 0.4659043127505118, 'reg_lambda': 0.3371236169611637}. Best is trial 1 with value: 17.092056274414062.\n",
      "[I 2025-04-08 19:42:30,316] Trial 22 finished with value: 17.104163487752277 and parameters: {'n_estimators': 1000, 'max_depth': 3, 'learning_rate': 0.011825726307330045, 'subsample': 0.6380961610473956, 'colsample_bytree': 0.6793772315777574, 'gamma': 3.536460320675652, 'reg_alpha': 0.47687803326867045, 'reg_lambda': 0.2571620384144235}. Best is trial 1 with value: 17.092056274414062.\n",
      "[I 2025-04-08 19:42:44,313] Trial 23 finished with value: 17.133216857910156 and parameters: {'n_estimators': 834, 'max_depth': 2, 'learning_rate': 0.019835760481226407, 'subsample': 0.6289481806909786, 'colsample_bytree': 0.625249452807375, 'gamma': 3.0459204092135947, 'reg_alpha': 0.48194370917653084, 'reg_lambda': 0.22046734176683255}. Best is trial 1 with value: 17.092056274414062.\n",
      "[I 2025-04-08 19:43:05,047] Trial 24 finished with value: 17.14069430033366 and parameters: {'n_estimators': 712, 'max_depth': 3, 'learning_rate': 0.011334764157967232, 'subsample': 0.6815360300591053, 'colsample_bytree': 0.6761112514881356, 'gamma': 4.249785109053238, 'reg_alpha': 0.44260251967803893, 'reg_lambda': 0.29778039181505644}. Best is trial 1 with value: 17.092056274414062.\n",
      "[I 2025-04-08 19:43:38,167] Trial 25 finished with value: 17.132125854492188 and parameters: {'n_estimators': 616, 'max_depth': 4, 'learning_rate': 0.007123162441061809, 'subsample': 0.7595539050565618, 'colsample_bytree': 0.7431847162267599, 'gamma': 3.4867939473656198, 'reg_alpha': 0.38539252651974243, 'reg_lambda': 0.2283472197555272}. Best is trial 1 with value: 17.092056274414062.\n",
      "[I 2025-04-08 19:44:08,616] Trial 26 finished with value: 17.294077555338543 and parameters: {'n_estimators': 841, 'max_depth': 3, 'learning_rate': 0.004267523358607023, 'subsample': 0.7105057971048888, 'colsample_bytree': 0.9983082412943654, 'gamma': 4.11241621985977, 'reg_alpha': 0.4628935153236501, 'reg_lambda': 0.340509815584604}. Best is trial 1 with value: 17.092056274414062.\n",
      "[I 2025-04-08 19:44:24,629] Trial 27 finished with value: 17.18239148457845 and parameters: {'n_estimators': 942, 'max_depth': 2, 'learning_rate': 0.013358073219851767, 'subsample': 0.6008695686067163, 'colsample_bytree': 0.630455747805038, 'gamma': 4.6477853538371665, 'reg_alpha': 0.48505891657364925, 'reg_lambda': 0.2673307094845463}. Best is trial 1 with value: 17.092056274414062.\n",
      "[I 2025-04-08 19:45:06,651] Trial 28 finished with value: 17.159260431925457 and parameters: {'n_estimators': 798, 'max_depth': 4, 'learning_rate': 0.018303335474919167, 'subsample': 0.6379007603338138, 'colsample_bytree': 0.6016704309717078, 'gamma': 3.284787420703181, 'reg_alpha': 0.4345496952752924, 'reg_lambda': 0.3996282863038658}. Best is trial 1 with value: 17.092056274414062.\n",
      "[I 2025-04-08 19:45:23,885] Trial 29 finished with value: 17.321257909138996 and parameters: {'n_estimators': 888, 'max_depth': 2, 'learning_rate': 0.0070380014258631714, 'subsample': 0.7210182537158091, 'colsample_bytree': 0.6819692459146318, 'gamma': 5.027913690944745, 'reg_alpha': 0.4547515297013114, 'reg_lambda': 0.38018447991685383}. Best is trial 1 with value: 17.092056274414062.\n",
      "[I 2025-04-08 19:45:45,771] Trial 30 finished with value: 17.10960642496745 and parameters: {'n_estimators': 713, 'max_depth': 3, 'learning_rate': 0.022681996297735783, 'subsample': 0.668176723271426, 'colsample_bytree': 0.6400029910350595, 'gamma': 5.3658450850957005, 'reg_alpha': 0.4694175247248515, 'reg_lambda': 0.2289346454042474}. Best is trial 1 with value: 17.092056274414062.\n",
      "[I 2025-04-08 19:46:16,905] Trial 31 finished with value: 17.103382746378582 and parameters: {'n_estimators': 999, 'max_depth': 3, 'learning_rate': 0.010644818178363121, 'subsample': 0.644594964535438, 'colsample_bytree': 0.6602884165680503, 'gamma': 3.9499957904983884, 'reg_alpha': 0.4610074306776277, 'reg_lambda': 0.3372706534561567}. Best is trial 1 with value: 17.092056274414062.\n",
      "[I 2025-04-08 19:46:46,297] Trial 32 finished with value: 17.214637756347656 and parameters: {'n_estimators': 932, 'max_depth': 3, 'learning_rate': 0.005402173704339433, 'subsample': 0.628980110836413, 'colsample_bytree': 0.6803058456396348, 'gamma': 3.7184407760250697, 'reg_alpha': 0.4848036805842614, 'reg_lambda': 0.3496266995371696}. Best is trial 1 with value: 17.092056274414062.\n",
      "[I 2025-04-08 19:47:12,296] Trial 33 finished with value: 17.113719940185547 and parameters: {'n_estimators': 835, 'max_depth': 3, 'learning_rate': 0.011230090518662866, 'subsample': 0.6893182502409028, 'colsample_bytree': 0.6624021488468085, 'gamma': 4.103488235311586, 'reg_alpha': 0.44208283108295043, 'reg_lambda': 0.32696739577544065}. Best is trial 1 with value: 17.092056274414062.\n",
      "[I 2025-04-08 19:47:43,183] Trial 34 finished with value: 17.08966318766276 and parameters: {'n_estimators': 965, 'max_depth': 3, 'learning_rate': 0.016933451552045956, 'subsample': 0.7687094762942901, 'colsample_bytree': 0.7064611659246383, 'gamma': 6.363461660812275, 'reg_alpha': 0.4559335994022725, 'reg_lambda': 0.37322554691805326}. Best is trial 34 with value: 17.08966318766276.\n",
      "[I 2025-04-08 19:48:32,371] Trial 35 finished with value: 17.206396102905273 and parameters: {'n_estimators': 883, 'max_depth': 4, 'learning_rate': 0.01758720122503188, 'subsample': 0.7684223713782043, 'colsample_bytree': 0.7011872190764746, 'gamma': 6.387881786533252, 'reg_alpha': 0.4025405421177907, 'reg_lambda': 0.3711106644448693}. Best is trial 34 with value: 17.08966318766276.\n",
      "[I 2025-04-08 20:00:04,625] Trial 36 finished with value: 17.202609380086262 and parameters: {'n_estimators': 958, 'max_depth': 5, 'learning_rate': 0.007586940197807803, 'subsample': 0.9959781499357679, 'colsample_bytree': 0.7307586512686982, 'gamma': 6.552449461511144, 'reg_alpha': 0.34872012243482875, 'reg_lambda': 0.3899841812994236}. Best is trial 34 with value: 17.08966318766276.\n"
     ]
    },
    {
     "name": "stdout",
     "output_type": "stream",
     "text": [
      "Лучшие параметры:\n",
      "{'n_estimators': 965, 'max_depth': 3, 'learning_rate': 0.016933451552045956, 'subsample': 0.7687094762942901, 'colsample_bytree': 0.7064611659246383, 'gamma': 6.363461660812275, 'reg_alpha': 0.4559335994022725, 'reg_lambda': 0.37322554691805326}\n",
      "Лучший RMSE: 17.0897\n"
     ]
    }
   ],
   "source": [
    "def objective(trial):\n",
    "    params = {\n",
    "        'n_estimators': trial.suggest_int('n_estimators', 300, 1000),\n",
    "        'max_depth': trial.suggest_int('max_depth', 2, 5),\n",
    "        'learning_rate': trial.suggest_float('learning_rate', 0.001, 0.03, log=True),\n",
    "        'subsample': trial.suggest_float('subsample', 0.6, 1.0),\n",
    "        'colsample_bytree': trial.suggest_float('colsample_bytree', 0.6, 1.0),\n",
    "        'gamma': trial.suggest_float('gamma', 3, 7),\n",
    "        'reg_alpha': trial.suggest_float('reg_alpha', 0.3, 0.5),\n",
    "        'reg_lambda': trial.suggest_float('reg_lambda', 0.2, 0.4),\n",
    "        'objective': 'reg:squarederror',\n",
    "        'random_state': 42,\n",
    "        'n_jobs': -1\n",
    "    }\n",
    "\n",
    "    model = XGBRegressor(**params)\n",
    "    \n",
    "    # Кросс-валидация\n",
    "    score = cross_val_score(\n",
    "        model, X_train_tfidf, y_train,\n",
    "        scoring='neg_root_mean_squared_error',\n",
    "        cv=3,\n",
    "        n_jobs=-1\n",
    "    )\n",
    "    \n",
    "    return -score.mean()  # хотим минимизировать RMSE\n",
    "\n",
    "study = optuna.create_study(direction='minimize')\n",
    "study.optimize(objective, n_trials=100, timeout=1500)\n",
    "\n",
    "print(\"Лучшие параметры:\")\n",
    "print(study.best_params)\n",
    "print(f\"Лучший RMSE: {study.best_value:.4f}\")"
   ]
  },
  {
   "cell_type": "code",
   "execution_count": null,
   "metadata": {},
   "outputs": [],
   "source": [
    "best_model = XGBRegressor(\n",
    "    **study.best_params,\n",
    "    n_jobs=-1,\n",
    "    random_state=42\n",
    ")\n",
    "\n",
    "best_model.fit(X_train_tfidf, y_train)\n",
    "y_pred = best_model.predict(X_test_tfidf)\n",
    "\n",
    "rmse = mean_squared_error(y_test, y_pred, squared=False)\n",
    "print(f\"RMSE на тесте: {rmse:.4f}\")"
   ]
  }
 ],
 "metadata": {
  "kernelspec": {
   "display_name": "Lyric2Popularity-6iiCWxZN",
   "language": "python",
   "name": "python3"
  },
  "language_info": {
   "codemirror_mode": {
    "name": "ipython",
    "version": 3
   },
   "file_extension": ".py",
   "mimetype": "text/x-python",
   "name": "python",
   "nbconvert_exporter": "python",
   "pygments_lexer": "ipython3",
   "version": "3.9.6"
  }
 },
 "nbformat": 4,
 "nbformat_minor": 2
}
