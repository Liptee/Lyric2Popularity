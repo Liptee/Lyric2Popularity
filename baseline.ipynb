{
 "cells": [
  {
   "cell_type": "code",
   "execution_count": 1,
   "metadata": {},
   "outputs": [
    {
     "name": "stderr",
     "output_type": "stream",
     "text": [
      "/Users/mac/.local/share/virtualenvs/Recommended_System-b--jxVTG/lib/python3.8/site-packages/tqdm/auto.py:21: TqdmWarning: IProgress not found. Please update jupyter and ipywidgets. See https://ipywidgets.readthedocs.io/en/stable/user_install.html\n",
      "  from .autonotebook import tqdm as notebook_tqdm\n"
     ]
    },
    {
     "name": "stdout",
     "output_type": "stream",
     "text": [
      "/Users/mac/.local/share/virtualenvs/Recommended_System-b--jxVTG/lib/python3.8/site-packages\n"
     ]
    }
   ],
   "source": [
    "import numpy as np\n",
    "import optuna\n",
    "\n",
    "from sklearn.feature_extraction.text import TfidfVectorizer\n",
    "from sklearn.model_selection import train_test_split, cross_val_score\n",
    "from sklearn.metrics import mean_squared_error\n",
    "from sklearn.decomposition import TruncatedSVD\n",
    "\n",
    "from xgboost import XGBRegressor\n",
    "\n",
    "from env import DATA_DIR\n",
    "from src.utils import load_jsons_data, delete_parts_of_lyrics\n",
    "from src.lang_identification import safe_decode\n",
    "from src.df_filters import DFFilters"
   ]
  },
  {
   "cell_type": "code",
   "execution_count": 2,
   "metadata": {},
   "outputs": [],
   "source": [
    "df = load_jsons_data(data_dir=DATA_DIR, \n",
    "                    columns=[\"lyrics\", \n",
    "                             \"popularity\", \n",
    "                             \"track_name\", \n",
    "                             \"track_id\",\n",
    "                             \"release_date\", \n",
    "                             \"track_artist\"])"
   ]
  },
  {
   "cell_type": "code",
   "execution_count": 3,
   "metadata": {},
   "outputs": [
    {
     "name": "stderr",
     "output_type": "stream",
     "text": [
      "/Users/mac/Desktop/Lyric2Popularity/src/df_filters.py:72: UserWarning: This pattern is interpreted as a regular expression, and has match groups. To actually get the groups, use str.extract.\n",
      "  df[\"is_live\"] = df[\"track_name\"].str.contains(LIVE_REGEX)\n",
      "Smart cover: 100%|██████████| 7782/7782 [00:05<00:00, 1477.45it/s]\n"
     ]
    }
   ],
   "source": [
    "dffilter = DFFilters()\n",
    "df = dffilter.popularity(df, 2)\n",
    "df = dffilter.language(df, \"tracks/language_mapping_trh-0.8.json\", white_list=[\"en\"])\n",
    "df = dffilter.release_date(df, end_year = 2020)\n",
    "df = dffilter.live(df)\n",
    "df = dffilter.acoustic(df)\n",
    "df = dffilter.remix(df)\n",
    "df = dffilter.cover(df)\n",
    "df = dffilter.smart_cover(df, sim_threshold=0.75)"
   ]
  },
  {
   "cell_type": "code",
   "execution_count": 4,
   "metadata": {},
   "outputs": [],
   "source": [
    "df[\"lyrics\"] = df[\"lyrics\"].apply(safe_decode)\n",
    "df[\"lyrics\"] = df[\"lyrics\"].str.lower()\n",
    "df[\"lyrics\"] = df[\"lyrics\"].str.replace(r'[^\\w\\s]', '')\n",
    "df[\"lyrics\"] = df[\"lyrics\"].apply(delete_parts_of_lyrics)\n",
    "df[\"lyrics\"] = df[\"lyrics\"].str.replace(r'\\d+', '')\n",
    "df[\"lyrics\"] = df[\"lyrics\"].str.strip()"
   ]
  },
  {
   "cell_type": "code",
   "execution_count": 5,
   "metadata": {},
   "outputs": [],
   "source": [
    "X_train, X_test, y_train, y_test = train_test_split(df[\"lyrics\"], df[\"popularity\"], test_size=0.2, random_state=42)"
   ]
  },
  {
   "cell_type": "code",
   "execution_count": 6,
   "metadata": {},
   "outputs": [],
   "source": [
    "# TF-IDF: используем слова + символы, без `stop_words`\n",
    "word_vectorizer = TfidfVectorizer(ngram_range=(2, 4), \n",
    "                                  max_features=75000, \n",
    "                                  min_df=2, \n",
    "                                  max_df=0.95)\n",
    "char_vectorizer = TfidfVectorizer(analyzer='char_wb', \n",
    "                                  ngram_range=(3, 6), \n",
    "                                  max_features=20000,\n",
    "                                  min_df=2,\n",
    "                                  max_df=0.95)"
   ]
  },
  {
   "cell_type": "code",
   "execution_count": 9,
   "metadata": {},
   "outputs": [],
   "source": [
    "# Обучаем TF-IDF\n",
    "X_train_word = word_vectorizer.fit_transform(X_train)\n",
    "X_train_char  = char_vectorizer.fit_transform(X_train)\n",
    "X_train_tfidf = np.hstack((X_train_word.toarray(), X_train_char.toarray()))\n",
    "\n",
    "X_test_word = word_vectorizer.transform(X_test)\n",
    "X_test_char = char_vectorizer.transform(X_test)\n",
    "X_test_tfidf = np.hstack((X_test_word.toarray(), X_test_char.toarray()))"
   ]
  },
  {
   "cell_type": "code",
   "execution_count": 10,
   "metadata": {},
   "outputs": [],
   "source": [
    "# Снижаем размерность (ускоряем XGBoost)\n",
    "svd = TruncatedSVD(n_components=700)\n",
    "X_train_tfidf = svd.fit_transform(X_train_tfidf)\n",
    "X_test_tfidf = svd.transform(X_test_tfidf)"
   ]
  },
  {
   "cell_type": "code",
   "execution_count": 11,
   "metadata": {},
   "outputs": [
    {
     "name": "stderr",
     "output_type": "stream",
     "text": [
      "[I 2025-04-17 22:43:26,536] A new study created in memory with name: no-name-a82263fd-4b74-45fa-b780-04c13b5af612\n",
      "[I 2025-04-17 22:43:33,832] Trial 0 finished with value: 17.68401023826266 and parameters: {'n_estimators': 523, 'max_depth': 2, 'learning_rate': 0.01141670561714172, 'subsample': 0.9055574046252444, 'colsample_bytree': 0.8161463233767876, 'gamma': 3.7494807305212103, 'reg_alpha': 0.3083322660062723, 'reg_lambda': 0.2753468534633884}. Best is trial 0 with value: 17.68401023826266.\n",
      "[I 2025-04-17 22:43:38,998] Trial 1 finished with value: 17.8397363506886 and parameters: {'n_estimators': 473, 'max_depth': 2, 'learning_rate': 0.0043477620768367226, 'subsample': 0.8059051853129856, 'colsample_bytree': 0.8256284061498117, 'gamma': 4.9062131414204, 'reg_alpha': 0.3207393926773418, 'reg_lambda': 0.20917927719648619}. Best is trial 0 with value: 17.68401023826266.\n",
      "[I 2025-04-17 22:43:44,991] Trial 2 finished with value: 17.614080045946803 and parameters: {'n_estimators': 770, 'max_depth': 2, 'learning_rate': 0.013322600069506628, 'subsample': 0.8980800187649085, 'colsample_bytree': 0.6054901328892671, 'gamma': 4.103987375618512, 'reg_alpha': 0.3744068342729857, 'reg_lambda': 0.2974460266830836}. Best is trial 2 with value: 17.614080045946803.\n",
      "[I 2025-04-17 22:43:55,205] Trial 3 finished with value: 17.982681651394774 and parameters: {'n_estimators': 515, 'max_depth': 3, 'learning_rate': 0.0012752924617723458, 'subsample': 0.6748194401401726, 'colsample_bytree': 0.9877897745913915, 'gamma': 3.97241000308309, 'reg_alpha': 0.3265195867308515, 'reg_lambda': 0.3169816050566463}. Best is trial 2 with value: 17.614080045946803.\n",
      "[I 2025-04-17 22:44:02,903] Trial 4 finished with value: 17.584288908563945 and parameters: {'n_estimators': 754, 'max_depth': 2, 'learning_rate': 0.014970438301335908, 'subsample': 0.6249814800504685, 'colsample_bytree': 0.892620889137902, 'gamma': 4.642048049001401, 'reg_alpha': 0.44446732825053537, 'reg_lambda': 0.2581256808520556}. Best is trial 4 with value: 17.584288908563945.\n",
      "[I 2025-04-17 22:44:45,255] Trial 5 finished with value: 17.550993812666885 and parameters: {'n_estimators': 797, 'max_depth': 5, 'learning_rate': 0.020440835790710633, 'subsample': 0.6401921257303537, 'colsample_bytree': 0.9031793091444318, 'gamma': 3.9517879165758383, 'reg_alpha': 0.3069357580859777, 'reg_lambda': 0.3540298711565363}. Best is trial 5 with value: 17.550993812666885.\n",
      "[I 2025-04-17 22:44:50,543] Trial 6 finished with value: 17.56774591817705 and parameters: {'n_estimators': 385, 'max_depth': 3, 'learning_rate': 0.018937879242633626, 'subsample': 0.8314502567934794, 'colsample_bytree': 0.6101685045705415, 'gamma': 3.17193206680187, 'reg_alpha': 0.31279315035397515, 'reg_lambda': 0.20841538892776879}. Best is trial 5 with value: 17.550993812666885.\n",
      "[I 2025-04-17 22:45:14,873] Trial 7 finished with value: 17.87210159681966 and parameters: {'n_estimators': 478, 'max_depth': 5, 'learning_rate': 0.0018977033550104407, 'subsample': 0.9803699937956153, 'colsample_bytree': 0.790792027158733, 'gamma': 5.8758353113023825, 'reg_alpha': 0.42171669406973866, 'reg_lambda': 0.23439560964973083}. Best is trial 5 with value: 17.550993812666885.\n",
      "[I 2025-04-17 22:45:54,037] Trial 8 finished with value: 17.493100200015903 and parameters: {'n_estimators': 972, 'max_depth': 5, 'learning_rate': 0.010840093134126106, 'subsample': 0.6986175352059152, 'colsample_bytree': 0.6159794905564887, 'gamma': 4.016746859262852, 'reg_alpha': 0.3338188298689107, 'reg_lambda': 0.303262492732274}. Best is trial 8 with value: 17.493100200015903.\n",
      "[I 2025-04-17 22:45:59,858] Trial 9 finished with value: 17.954985973303682 and parameters: {'n_estimators': 681, 'max_depth': 2, 'learning_rate': 0.0017268704728591042, 'subsample': 0.9095020006917545, 'colsample_bytree': 0.6860073161802558, 'gamma': 5.831169272770301, 'reg_alpha': 0.36879135473065416, 'reg_lambda': 0.38513538899217503}. Best is trial 8 with value: 17.493100200015903.\n",
      "[I 2025-04-17 22:46:24,421] Trial 10 finished with value: 17.564918804217996 and parameters: {'n_estimators': 976, 'max_depth': 4, 'learning_rate': 0.005195624590671708, 'subsample': 0.7158746774859303, 'colsample_bytree': 0.7088445645966553, 'gamma': 6.467679175686868, 'reg_alpha': 0.37361168103482195, 'reg_lambda': 0.3299303478636074}. Best is trial 8 with value: 17.493100200015903.\n",
      "[I 2025-04-17 22:47:17,628] Trial 11 finished with value: 17.582975979397702 and parameters: {'n_estimators': 968, 'max_depth': 5, 'learning_rate': 0.026681467398161383, 'subsample': 0.7178914522349583, 'colsample_bytree': 0.951359825757127, 'gamma': 3.075959453844698, 'reg_alpha': 0.4880189119901481, 'reg_lambda': 0.36223374133815756}. Best is trial 8 with value: 17.493100200015903.\n",
      "[I 2025-04-17 22:47:43,983] Trial 12 finished with value: 17.48636634056552 and parameters: {'n_estimators': 880, 'max_depth': 4, 'learning_rate': 0.008745409478523685, 'subsample': 0.6081236764946905, 'colsample_bytree': 0.9087460488215858, 'gamma': 4.376764967917356, 'reg_alpha': 0.3469267150384696, 'reg_lambda': 0.35085015999528557}. Best is trial 12 with value: 17.48636634056552.\n",
      "[I 2025-04-17 22:48:08,092] Trial 13 finished with value: 17.50207064559765 and parameters: {'n_estimators': 899, 'max_depth': 4, 'learning_rate': 0.008017462770825217, 'subsample': 0.6033980421212607, 'colsample_bytree': 0.7517294406893025, 'gamma': 5.353264122621333, 'reg_alpha': 0.347913551031526, 'reg_lambda': 0.3394630705548708}. Best is trial 12 with value: 17.48636634056552.\n",
      "[I 2025-04-17 22:48:34,155] Trial 14 finished with value: 17.635486220185854 and parameters: {'n_estimators': 876, 'max_depth': 4, 'learning_rate': 0.003258034079894967, 'subsample': 0.73644332482152, 'colsample_bytree': 0.8683750783728847, 'gamma': 4.5772038826595205, 'reg_alpha': 0.34743386035802354, 'reg_lambda': 0.3977419271488921}. Best is trial 12 with value: 17.48636634056552.\n",
      "[I 2025-04-17 22:49:11,508] Trial 15 finished with value: 17.52710092206524 and parameters: {'n_estimators': 880, 'max_depth': 5, 'learning_rate': 0.006912835831553918, 'subsample': 0.6793575580156573, 'colsample_bytree': 0.6612882220886186, 'gamma': 3.565674656130285, 'reg_alpha': 0.41946539516375114, 'reg_lambda': 0.2982792190357566}. Best is trial 12 with value: 17.48636634056552.\n",
      "[I 2025-04-17 22:49:31,555] Trial 16 finished with value: 17.5578692210994 and parameters: {'n_estimators': 639, 'max_depth': 4, 'learning_rate': 0.00858671901099281, 'subsample': 0.759229845012521, 'colsample_bytree': 0.9503642133596316, 'gamma': 4.4357933126672355, 'reg_alpha': 0.3453387332902564, 'reg_lambda': 0.370651169917518}. Best is trial 12 with value: 17.48636634056552.\n",
      "[I 2025-04-17 22:49:46,174] Trial 17 finished with value: 17.6926910653527 and parameters: {'n_estimators': 985, 'max_depth': 3, 'learning_rate': 0.0031135312774729037, 'subsample': 0.6675622223234404, 'colsample_bytree': 0.7492993264335266, 'gamma': 5.360938456397785, 'reg_alpha': 0.395454011916089, 'reg_lambda': 0.2777869299626828}. Best is trial 12 with value: 17.48636634056552.\n",
      "[I 2025-04-17 22:50:29,348] Trial 18 finished with value: 17.522606376226463 and parameters: {'n_estimators': 838, 'max_depth': 5, 'learning_rate': 0.01073914564059177, 'subsample': 0.7810199002172503, 'colsample_bytree': 0.8568032104719212, 'gamma': 3.495718911186442, 'reg_alpha': 0.3378825962575004, 'reg_lambda': 0.3169155468071137}. Best is trial 12 with value: 17.48636634056552.\n",
      "[I 2025-04-17 22:50:45,788] Trial 19 finished with value: 17.59446796331345 and parameters: {'n_estimators': 680, 'max_depth': 4, 'learning_rate': 0.006247339876791613, 'subsample': 0.6480786954623621, 'colsample_bytree': 0.6514973640454813, 'gamma': 6.835924643236852, 'reg_alpha': 0.39424849940380335, 'reg_lambda': 0.34352910980906015}. Best is trial 12 with value: 17.48636634056552.\n",
      "[I 2025-04-17 22:51:00,736] Trial 20 finished with value: 17.61030109923416 and parameters: {'n_estimators': 306, 'max_depth': 5, 'learning_rate': 0.02816642653631963, 'subsample': 0.6062751745144249, 'colsample_bytree': 0.7525807610636444, 'gamma': 4.2531307323063965, 'reg_alpha': 0.36257948105573445, 'reg_lambda': 0.31612330838666775}. Best is trial 12 with value: 17.48636634056552.\n",
      "[I 2025-04-17 22:51:23,951] Trial 21 finished with value: 17.50258774090157 and parameters: {'n_estimators': 908, 'max_depth': 4, 'learning_rate': 0.008534285219222957, 'subsample': 0.6182218323323758, 'colsample_bytree': 0.7391416563935646, 'gamma': 5.149584491059573, 'reg_alpha': 0.35378629442483994, 'reg_lambda': 0.33969831937081996}. Best is trial 12 with value: 17.48636634056552.\n",
      "[I 2025-04-17 22:51:49,050] Trial 22 finished with value: 17.49399085854656 and parameters: {'n_estimators': 918, 'max_depth': 4, 'learning_rate': 0.009235114535956174, 'subsample': 0.6910944990502441, 'colsample_bytree': 0.792687600483139, 'gamma': 5.591907734637955, 'reg_alpha': 0.3299033545457743, 'reg_lambda': 0.3747903747081036}. Best is trial 12 with value: 17.48636634056552.\n",
      "[I 2025-04-17 22:52:04,939] Trial 23 finished with value: 17.635687178025734 and parameters: {'n_estimators': 946, 'max_depth': 3, 'learning_rate': 0.0043655879869998315, 'subsample': 0.6859796546740642, 'colsample_bytree': 0.9270619018782579, 'gamma': 5.799720328379762, 'reg_alpha': 0.33313156357260093, 'reg_lambda': 0.37675954737849643}. Best is trial 12 with value: 17.48636634056552.\n",
      "[I 2025-04-17 22:52:31,569] Trial 24 finished with value: 17.477173990799997 and parameters: {'n_estimators': 819, 'max_depth': 4, 'learning_rate': 0.016280985105156357, 'subsample': 0.70451043388317, 'colsample_bytree': 0.997696934554322, 'gamma': 4.854985021394024, 'reg_alpha': 0.30344218005728835, 'reg_lambda': 0.3550039892274216}. Best is trial 24 with value: 17.477173990799997.\n",
      "[I 2025-04-17 22:52:58,123] Trial 25 finished with value: 17.50398888275119 and parameters: {'n_estimators': 827, 'max_depth': 4, 'learning_rate': 0.01633878708980489, 'subsample': 0.7372602258984936, 'colsample_bytree': 0.9996227566747695, 'gamma': 4.9185845733799525, 'reg_alpha': 0.30892680828906766, 'reg_lambda': 0.39770821511708226}. Best is trial 24 with value: 17.477173990799997.\n",
      "[I 2025-04-17 22:53:32,428] Trial 26 finished with value: 17.537680515972614 and parameters: {'n_estimators': 616, 'max_depth': 5, 'learning_rate': 0.02148298200112194, 'subsample': 0.6552121245131728, 'colsample_bytree': 0.9635750369818211, 'gamma': 4.799382350828219, 'reg_alpha': 0.3240126544899597, 'reg_lambda': 0.3558535662702559}. Best is trial 24 with value: 17.477173990799997.\n",
      "[I 2025-04-17 22:53:44,955] Trial 27 finished with value: 17.548038800702844 and parameters: {'n_estimators': 711, 'max_depth': 3, 'learning_rate': 0.012420497953829917, 'subsample': 0.8408262496409594, 'colsample_bytree': 0.9213867109302789, 'gamma': 4.345068438230144, 'reg_alpha': 0.30299319381895623, 'reg_lambda': 0.28792414024851765}. Best is trial 24 with value: 17.477173990799997.\n",
      "[I 2025-04-17 22:54:08,284] Trial 28 finished with value: 17.52765495360336 and parameters: {'n_estimators': 828, 'max_depth': 4, 'learning_rate': 0.017666465423509133, 'subsample': 0.772047226699894, 'colsample_bytree': 0.847703074113368, 'gamma': 3.4752948428819765, 'reg_alpha': 0.49731325416764327, 'reg_lambda': 0.3286310876269792}. Best is trial 24 with value: 17.477173990799997.\n",
      "[I 2025-04-17 22:54:50,313] Trial 29 finished with value: 17.504064321153248 and parameters: {'n_estimators': 741, 'max_depth': 5, 'learning_rate': 0.011007491283672854, 'subsample': 0.7143496751852875, 'colsample_bytree': 0.9742758264225937, 'gamma': 3.9125233117525964, 'reg_alpha': 0.3811577115763446, 'reg_lambda': 0.24118818153827098}. Best is trial 24 with value: 17.477173990799997.\n",
      "[I 2025-04-17 22:55:08,467] Trial 30 finished with value: 17.52188914783295 and parameters: {'n_estimators': 588, 'max_depth': 4, 'learning_rate': 0.010554945932035766, 'subsample': 0.7460236039761704, 'colsample_bytree': 0.8825138111846187, 'gamma': 5.184181621696122, 'reg_alpha': 0.3000450458555597, 'reg_lambda': 0.27720225159264555}. Best is trial 24 with value: 17.477173990799997.\n",
      "[I 2025-04-17 22:55:33,980] Trial 31 finished with value: 17.517148963877435 and parameters: {'n_estimators': 927, 'max_depth': 4, 'learning_rate': 0.009418661667161543, 'subsample': 0.6973909639197532, 'colsample_bytree': 0.786652543729453, 'gamma': 5.545186624130198, 'reg_alpha': 0.32849553970432716, 'reg_lambda': 0.38237588546883244}. Best is trial 24 with value: 17.477173990799997.\n",
      "[I 2025-04-17 22:56:02,095] Trial 32 finished with value: 17.50963144359739 and parameters: {'n_estimators': 997, 'max_depth': 4, 'learning_rate': 0.0068577868335953154, 'subsample': 0.6420666863535417, 'colsample_bytree': 0.8288563397703316, 'gamma': 4.735036127428944, 'reg_alpha': 0.31948332752464326, 'reg_lambda': 0.3661926626514312}. Best is trial 24 with value: 17.477173990799997.\n",
      "[I 2025-04-17 22:56:17,030] Trial 33 finished with value: 17.513408102090178 and parameters: {'n_estimators': 858, 'max_depth': 3, 'learning_rate': 0.013409056990697983, 'subsample': 0.8069759568994203, 'colsample_bytree': 0.9212014507061742, 'gamma': 6.1536351124292965, 'reg_alpha': 0.33341458698028703, 'reg_lambda': 0.3569652175242023}. Best is trial 24 with value: 17.477173990799997.\n",
      "[I 2025-04-17 22:56:38,723] Trial 34 finished with value: 17.478920488648455 and parameters: {'n_estimators': 788, 'max_depth': 4, 'learning_rate': 0.013805190175319854, 'subsample': 0.7015165556509745, 'colsample_bytree': 0.8044766093253574, 'gamma': 4.213812495419522, 'reg_alpha': 0.35603645655590827, 'reg_lambda': 0.34682297636929055}. Best is trial 24 with value: 17.477173990799997.\n",
      "[I 2025-04-17 22:57:19,427] Trial 35 finished with value: 17.52512972908665 and parameters: {'n_estimators': 793, 'max_depth': 5, 'learning_rate': 0.014969699231288115, 'subsample': 0.7898966876881625, 'colsample_bytree': 0.8425142561877049, 'gamma': 4.15462386253251, 'reg_alpha': 0.35471870233272035, 'reg_lambda': 0.3155116390362788}. Best is trial 24 with value: 17.477173990799997.\n",
      "[I 2025-04-17 22:57:39,389] Trial 36 finished with value: 17.501806644368028 and parameters: {'n_estimators': 787, 'max_depth': 4, 'learning_rate': 0.013199550491720733, 'subsample': 0.6310770684332274, 'colsample_bytree': 0.7131225166207719, 'gamma': 3.6988106272813983, 'reg_alpha': 0.38309781405877513, 'reg_lambda': 0.3064087997435053}. Best is trial 24 with value: 17.477173990799997.\n",
      "[I 2025-04-17 22:57:51,205] Trial 37 finished with value: 17.45875742160249 and parameters: {'n_estimators': 723, 'max_depth': 3, 'learning_rate': 0.02354488670077883, 'subsample': 0.6674420979110127, 'colsample_bytree': 0.8196247568155655, 'gamma': 4.024993223520536, 'reg_alpha': 0.3188541125419953, 'reg_lambda': 0.3470885820348283}. Best is trial 37 with value: 17.45875742160249.\n",
      "[I 2025-04-17 22:58:03,274] Trial 38 finished with value: 17.480940291373926 and parameters: {'n_estimators': 740, 'max_depth': 3, 'learning_rate': 0.024234949386010313, 'subsample': 0.667261002232364, 'colsample_bytree': 0.8168196993534462, 'gamma': 4.582300657719421, 'reg_alpha': 0.3167911429618581, 'reg_lambda': 0.3478583596489097}. Best is trial 37 with value: 17.45875742160249.\n",
      "[I 2025-04-17 22:58:15,164] Trial 39 finished with value: 17.509781791249498 and parameters: {'n_estimators': 743, 'max_depth': 3, 'learning_rate': 0.022193237704550756, 'subsample': 0.8674917998311049, 'colsample_bytree': 0.7772430426270216, 'gamma': 4.615563267759305, 'reg_alpha': 0.31669043647648815, 'reg_lambda': 0.3277526719268037}. Best is trial 37 with value: 17.45875742160249.\n",
      "[I 2025-04-17 22:58:21,540] Trial 40 finished with value: 17.52293769124319 and parameters: {'n_estimators': 709, 'max_depth': 2, 'learning_rate': 0.0245679371966122, 'subsample': 0.6725920805392496, 'colsample_bytree': 0.8214710708607252, 'gamma': 4.972830081967007, 'reg_alpha': 0.3144121775794305, 'reg_lambda': 0.3462465717439063}. Best is trial 37 with value: 17.45875742160249.\n",
      "[I 2025-04-17 22:58:34,066] Trial 41 finished with value: 17.499125228142145 and parameters: {'n_estimators': 768, 'max_depth': 3, 'learning_rate': 0.01838364954792338, 'subsample': 0.6579149790181464, 'colsample_bytree': 0.8748115646440976, 'gamma': 4.466449447058484, 'reg_alpha': 0.341273379307742, 'reg_lambda': 0.34866501597556243}. Best is trial 37 with value: 17.45875742160249.\n",
      "[I 2025-04-17 22:58:46,832] Trial 42 finished with value: 17.50336193452259 and parameters: {'n_estimators': 812, 'max_depth': 3, 'learning_rate': 0.02299720975801101, 'subsample': 0.6319612851867987, 'colsample_bytree': 0.8088242888037177, 'gamma': 4.174056030419267, 'reg_alpha': 0.3580059793151452, 'reg_lambda': 0.3341611099372652}. Best is trial 37 with value: 17.45875742160249.\n",
      "[I 2025-04-17 22:58:58,632] Trial 43 finished with value: 17.509000999888666 and parameters: {'n_estimators': 713, 'max_depth': 3, 'learning_rate': 0.028353673553068063, 'subsample': 0.7085957279713531, 'colsample_bytree': 0.8954306435644195, 'gamma': 3.7324846323579766, 'reg_alpha': 0.3189372581036051, 'reg_lambda': 0.3600459409295632}. Best is trial 37 with value: 17.45875742160249.\n",
      "[I 2025-04-17 22:59:04,538] Trial 44 finished with value: 17.662411172903532 and parameters: {'n_estimators': 578, 'max_depth': 2, 'learning_rate': 0.01491574486130277, 'subsample': 0.9919937180852093, 'colsample_bytree': 0.8295607422708143, 'gamma': 3.9859899903329703, 'reg_alpha': 0.3116877905224041, 'reg_lambda': 0.3524290382089008}. Best is trial 37 with value: 17.45875742160249.\n",
      "[I 2025-04-17 22:59:16,316] Trial 45 finished with value: 17.520330453581252 and parameters: {'n_estimators': 763, 'max_depth': 3, 'learning_rate': 0.018935230860371306, 'subsample': 0.6226908276375746, 'colsample_bytree': 0.7739498978173587, 'gamma': 4.377204675208151, 'reg_alpha': 0.46047844054033893, 'reg_lambda': 0.3842334694776457}. Best is trial 37 with value: 17.45875742160249.\n",
      "[I 2025-04-17 22:59:26,928] Trial 46 finished with value: 17.54292301452536 and parameters: {'n_estimators': 674, 'max_depth': 3, 'learning_rate': 0.02947473132367189, 'subsample': 0.7272397161673289, 'colsample_bytree': 0.8055304285464796, 'gamma': 3.3337027026081922, 'reg_alpha': 0.3648217306840093, 'reg_lambda': 0.32608812379201213}. Best is trial 37 with value: 17.45875742160249.\n",
      "[I 2025-04-17 22:59:53,170] Trial 47 finished with value: 17.88644221334593 and parameters: {'n_estimators': 859, 'max_depth': 4, 'learning_rate': 0.001048448181226269, 'subsample': 0.6015373664719811, 'colsample_bytree': 0.9047052464975973, 'gamma': 3.837356235968571, 'reg_alpha': 0.4141642833932453, 'reg_lambda': 0.3647664991858061}. Best is trial 37 with value: 17.45875742160249.\n",
      "[I 2025-04-17 23:00:05,536] Trial 48 finished with value: 17.539815633552518 and parameters: {'n_estimators': 729, 'max_depth': 3, 'learning_rate': 0.015335476956777908, 'subsample': 0.9499077407127287, 'colsample_bytree': 0.9384322180852402, 'gamma': 4.560992377849045, 'reg_alpha': 0.32333930499108615, 'reg_lambda': 0.34006243953487036}. Best is trial 37 with value: 17.45875742160249.\n",
      "[I 2025-04-17 23:00:12,553] Trial 49 finished with value: 17.546828090662917 and parameters: {'n_estimators': 645, 'max_depth': 2, 'learning_rate': 0.019390874586074202, 'subsample': 0.6657129293872545, 'colsample_bytree': 0.9898506023899781, 'gamma': 4.775962585436493, 'reg_alpha': 0.30627791672099774, 'reg_lambda': 0.3499506906131524}. Best is trial 37 with value: 17.45875742160249.\n"
     ]
    },
    {
     "name": "stdout",
     "output_type": "stream",
     "text": [
      "Лучшие параметры:\n",
      "{'n_estimators': 723, 'max_depth': 3, 'learning_rate': 0.02354488670077883, 'subsample': 0.6674420979110127, 'colsample_bytree': 0.8196247568155655, 'gamma': 4.024993223520536, 'reg_alpha': 0.3188541125419953, 'reg_lambda': 0.3470885820348283}\n",
      "Лучший RMSE: 17.4588\n"
     ]
    }
   ],
   "source": [
    "def objective(trial):\n",
    "    params = {\n",
    "        'n_estimators': trial.suggest_int('n_estimators', 300, 1000),\n",
    "        'max_depth': trial.suggest_int('max_depth', 2, 5),\n",
    "        'learning_rate': trial.suggest_float('learning_rate', 0.001, 0.03, log=True),\n",
    "        'subsample': trial.suggest_float('subsample', 0.6, 1.0),\n",
    "        'colsample_bytree': trial.suggest_float('colsample_bytree', 0.6, 1.0),\n",
    "        'gamma': trial.suggest_float('gamma', 3, 7),\n",
    "        'reg_alpha': trial.suggest_float('reg_alpha', 0.3, 0.5),\n",
    "        'reg_lambda': trial.suggest_float('reg_lambda', 0.2, 0.4),\n",
    "        'objective': 'reg:squarederror',\n",
    "        'random_state': 42,\n",
    "        'n_jobs': -1\n",
    "    }\n",
    "\n",
    "    model = XGBRegressor(**params)\n",
    "    \n",
    "    # Кросс-валидация\n",
    "    score = cross_val_score(\n",
    "        model, X_train_tfidf, y_train,\n",
    "        scoring='neg_root_mean_squared_error',\n",
    "        cv=3,\n",
    "        n_jobs=-1\n",
    "    )\n",
    "    \n",
    "    return -score.mean()  # хотим минимизировать RMSE\n",
    "\n",
    "study = optuna.create_study(direction='minimize')\n",
    "study.optimize(objective, n_trials=100, timeout=1000)\n",
    "\n",
    "print(\"Лучшие параметры:\")\n",
    "print(study.best_params)\n",
    "print(f\"Лучший RMSE: {study.best_value:.4f}\")"
   ]
  },
  {
   "cell_type": "code",
   "execution_count": 12,
   "metadata": {},
   "outputs": [
    {
     "name": "stdout",
     "output_type": "stream",
     "text": [
      "RMSE на тесте: 17.5855\n"
     ]
    }
   ],
   "source": [
    "best_model = XGBRegressor(\n",
    "    **study.best_params,\n",
    "    n_jobs=-1,\n",
    "    random_state=42\n",
    ")\n",
    "\n",
    "best_model.fit(X_train_tfidf, y_train)\n",
    "y_pred = best_model.predict(X_test_tfidf)\n",
    "\n",
    "rmse = mean_squared_error(y_test, y_pred, squared=False)\n",
    "print(f\"RMSE на тесте: {rmse:.4f}\")"
   ]
  },
  {
   "cell_type": "code",
   "execution_count": null,
   "metadata": {},
   "outputs": [],
   "source": []
  }
 ],
 "metadata": {
  "kernelspec": {
   "display_name": "Recommended_System-b--jxVTG",
   "language": "python",
   "name": "python3"
  },
  "language_info": {
   "codemirror_mode": {
    "name": "ipython",
    "version": 3
   },
   "file_extension": ".py",
   "mimetype": "text/x-python",
   "name": "python",
   "nbconvert_exporter": "python",
   "pygments_lexer": "ipython3",
   "version": "3.8.20"
  }
 },
 "nbformat": 4,
 "nbformat_minor": 2
}
