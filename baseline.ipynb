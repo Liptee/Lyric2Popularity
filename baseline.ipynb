{
 "cells": [
  {
   "cell_type": "code",
   "execution_count": 1,
   "metadata": {},
   "outputs": [
    {
     "name": "stderr",
     "output_type": "stream",
     "text": [
      "/Users/mac/.local/share/virtualenvs/Recommended_System-b--jxVTG/lib/python3.8/site-packages/tqdm/auto.py:21: TqdmWarning: IProgress not found. Please update jupyter and ipywidgets. See https://ipywidgets.readthedocs.io/en/stable/user_install.html\n",
      "  from .autonotebook import tqdm as notebook_tqdm\n"
     ]
    }
   ],
   "source": [
    "import numpy as np\n",
    "import optuna\n",
    "\n",
    "from sklearn.feature_extraction.text import TfidfVectorizer\n",
    "from sklearn.model_selection import train_test_split, cross_val_score\n",
    "from sklearn.metrics import mean_squared_error\n",
    "from sklearn.decomposition import TruncatedSVD\n",
    "\n",
    "from xgboost import XGBRegressor\n",
    "\n",
    "from env import DATA_DIR\n",
    "from utils import load_jsons_data, delete_parts_of_lyrics\n",
    "from language_detect import safe_decode"
   ]
  },
  {
   "cell_type": "code",
   "execution_count": 4,
   "metadata": {},
   "outputs": [],
   "source": [
    "df = load_jsons_data(data_dir=DATA_DIR, \n",
    "                    columns=[\"lyrics\", \"popularity\"])"
   ]
  },
  {
   "cell_type": "code",
   "execution_count": 8,
   "metadata": {},
   "outputs": [],
   "source": [
    "df[\"lyrics\"] = df[\"lyrics\"].apply(safe_decode)\n",
    "df[\"lyrics\"] = df[\"lyrics\"].str.lower()\n",
    "df[\"lyrics\"] = df[\"lyrics\"].str.replace(r'[^\\w\\s]', '')\n",
    "df[\"lyrics\"] = df[\"lyrics\"].apply(delete_parts_of_lyrics)\n",
    "df[\"lyrics\"] = df[\"lyrics\"].str.replace(r'\\d+', '')\n",
    "df[\"lyrics\"] = df[\"lyrics\"].str.strip()\n",
    "# Может стоит удалить цифры?\n",
    "# Может стоит использовать лемматизацию или стемминг?\n",
    "# Фильтрация стоп-слов?"
   ]
  },
  {
   "cell_type": "code",
   "execution_count": 9,
   "metadata": {},
   "outputs": [],
   "source": [
    "X_train, X_test, y_train, y_test = train_test_split(df[\"lyrics\"], df[\"popularity\"], test_size=0.2, random_state=42)"
   ]
  },
  {
   "cell_type": "code",
   "execution_count": 10,
   "metadata": {},
   "outputs": [],
   "source": [
    "# TF-IDF: используем слова + символы, без `stop_words`\n",
    "word_vectorizer = TfidfVectorizer(ngram_range=(2, 4), \n",
    "                                  max_features=75000, \n",
    "                                  min_df=2, \n",
    "                                  max_df=0.95)\n",
    "char_vectorizer = TfidfVectorizer(analyzer='char_wb', \n",
    "                                  ngram_range=(3, 6), \n",
    "                                  max_features=20000,\n",
    "                                  min_df=2,\n",
    "                                  max_df=0.95)"
   ]
  },
  {
   "cell_type": "code",
   "execution_count": 11,
   "metadata": {},
   "outputs": [],
   "source": [
    "# Обучаем TF-IDF\n",
    "X_train_word = word_vectorizer.fit_transform(X_train)\n",
    "X_train_char  = char_vectorizer.fit_transform(X_train)\n",
    "X_train_tfidf = np.hstack((X_train_word.toarray(), X_train_char.toarray()))\n",
    "\n",
    "X_test_word = word_vectorizer.transform(X_test)\n",
    "X_test_char = char_vectorizer.transform(X_test)\n",
    "X_test_tfidf = np.hstack((X_test_word.toarray(), X_test_char.toarray()))"
   ]
  },
  {
   "cell_type": "code",
   "execution_count": 12,
   "metadata": {},
   "outputs": [],
   "source": [
    "# Снижаем размерность (ускоряем XGBoost)\n",
    "svd = TruncatedSVD(n_components=700)\n",
    "X_train_tfidf = svd.fit_transform(X_train_tfidf)\n",
    "X_test_tfidf = svd.transform(X_test_tfidf)"
   ]
  },
  {
   "cell_type": "code",
   "execution_count": 13,
   "metadata": {},
   "outputs": [
    {
     "name": "stderr",
     "output_type": "stream",
     "text": [
      "[I 2025-03-25 01:44:23,715] A new study created in memory with name: no-name-e8231bdc-6eca-4264-a353-c3b45d1ca084\n",
      "[I 2025-03-25 01:44:31,279] Trial 0 finished with value: 24.05092163861521 and parameters: {'n_estimators': 551, 'max_depth': 2, 'learning_rate': 0.02435479894600591, 'subsample': 0.6253686576179355, 'colsample_bytree': 0.8539913151551519, 'gamma': 5.035526623962243, 'reg_alpha': 0.341098830723397, 'reg_lambda': 0.20136320607827773}. Best is trial 0 with value: 24.05092163861521.\n",
      "[I 2025-03-25 01:44:45,502] Trial 1 finished with value: 24.180449896882994 and parameters: {'n_estimators': 744, 'max_depth': 3, 'learning_rate': 0.004477840306287856, 'subsample': 0.9225867492455198, 'colsample_bytree': 0.9459393739837837, 'gamma': 5.672172153018584, 'reg_alpha': 0.3437764540290475, 'reg_lambda': 0.2550134616616448}. Best is trial 0 with value: 24.05092163861521.\n",
      "[I 2025-03-25 01:44:52,551] Trial 2 finished with value: 24.744864654798686 and parameters: {'n_estimators': 383, 'max_depth': 3, 'learning_rate': 0.0020490301183083985, 'subsample': 0.979114685887353, 'colsample_bytree': 0.8126033803316841, 'gamma': 6.62170524963476, 'reg_alpha': 0.3003192248154366, 'reg_lambda': 0.23472339307850917}. Best is trial 0 with value: 24.05092163861521.\n",
      "[I 2025-03-25 01:44:58,261] Trial 3 finished with value: 24.18098382597297 and parameters: {'n_estimators': 498, 'max_depth': 2, 'learning_rate': 0.010153602066325311, 'subsample': 0.777681879988549, 'colsample_bytree': 0.9909951609509886, 'gamma': 5.841006867048723, 'reg_alpha': 0.3757430201946982, 'reg_lambda': 0.3519914462830296}. Best is trial 0 with value: 24.05092163861521.\n",
      "[I 2025-03-25 01:45:05,404] Trial 4 finished with value: 24.740991773606837 and parameters: {'n_estimators': 719, 'max_depth': 2, 'learning_rate': 0.0013762419564530943, 'subsample': 0.7444412754814556, 'colsample_bytree': 0.6876325578619342, 'gamma': 5.764764421744969, 'reg_alpha': 0.3099200544789846, 'reg_lambda': 0.2879147044614736}. Best is trial 0 with value: 24.05092163861521.\n",
      "[I 2025-03-25 01:45:09,756] Trial 5 finished with value: 25.12238394641999 and parameters: {'n_estimators': 464, 'max_depth': 2, 'learning_rate': 0.001003781221771794, 'subsample': 0.7580628501684681, 'colsample_bytree': 0.7064063643186651, 'gamma': 3.785035895772148, 'reg_alpha': 0.4830432769133144, 'reg_lambda': 0.36970924718027964}. Best is trial 0 with value: 24.05092163861521.\n",
      "[I 2025-03-25 01:45:43,896] Trial 6 finished with value: 24.39847701153739 and parameters: {'n_estimators': 569, 'max_depth': 5, 'learning_rate': 0.00219704672514544, 'subsample': 0.8687740434312038, 'colsample_bytree': 0.91251923296666, 'gamma': 3.652592688146855, 'reg_alpha': 0.37215057866179774, 'reg_lambda': 0.37020885533952685}. Best is trial 0 with value: 24.05092163861521.\n",
      "[I 2025-03-25 01:46:01,968] Trial 7 finished with value: 24.516093710912173 and parameters: {'n_estimators': 626, 'max_depth': 4, 'learning_rate': 0.00171430850523231, 'subsample': 0.906669065393497, 'colsample_bytree': 0.7581219280107815, 'gamma': 4.36149565987238, 'reg_alpha': 0.37752160362362297, 'reg_lambda': 0.28509215903212093}. Best is trial 0 with value: 24.05092163861521.\n",
      "[I 2025-03-25 01:46:11,749] Trial 8 finished with value: 24.84509640189062 and parameters: {'n_estimators': 318, 'max_depth': 4, 'learning_rate': 0.0019172879432834502, 'subsample': 0.791740660993987, 'colsample_bytree': 0.7725978352040908, 'gamma': 6.985707077532323, 'reg_alpha': 0.4193387358941531, 'reg_lambda': 0.20176647258382813}. Best is trial 0 with value: 24.05092163861521.\n",
      "[I 2025-03-25 01:46:32,708] Trial 9 finished with value: 24.502649827045246 and parameters: {'n_estimators': 365, 'max_depth': 5, 'learning_rate': 0.0028206258170056396, 'subsample': 0.8478140418642405, 'colsample_bytree': 0.8906538791966698, 'gamma': 6.846733215531941, 'reg_alpha': 0.33281423008734984, 'reg_lambda': 0.2620694527121715}. Best is trial 0 with value: 24.05092163861521.\n",
      "[I 2025-03-25 01:46:49,795] Trial 10 finished with value: 24.456858246732214 and parameters: {'n_estimators': 990, 'max_depth': 3, 'learning_rate': 0.025230603101154946, 'subsample': 0.6045725912851455, 'colsample_bytree': 0.8362180004431758, 'gamma': 4.741456660980262, 'reg_alpha': 0.4419868556532439, 'reg_lambda': 0.32709011323381854}. Best is trial 0 with value: 24.05092163861521.\n",
      "[I 2025-03-25 01:47:01,486] Trial 11 finished with value: 24.088812957371584 and parameters: {'n_estimators': 786, 'max_depth': 3, 'learning_rate': 0.0063951398485742866, 'subsample': 0.6468766043584899, 'colsample_bytree': 0.6038282660358909, 'gamma': 5.469196027736372, 'reg_alpha': 0.35022912275593776, 'reg_lambda': 0.2036999930860739}. Best is trial 0 with value: 24.05092163861521.\n",
      "[I 2025-03-25 01:47:09,629] Trial 12 finished with value: 24.08804939692214 and parameters: {'n_estimators': 852, 'max_depth': 2, 'learning_rate': 0.028945666896351755, 'subsample': 0.6181982263254193, 'colsample_bytree': 0.6091136264282792, 'gamma': 5.268015410962737, 'reg_alpha': 0.3432717189012295, 'reg_lambda': 0.2002357899084924}. Best is trial 0 with value: 24.05092163861521.\n",
      "[I 2025-03-25 01:47:18,122] Trial 13 finished with value: 24.08623885343086 and parameters: {'n_estimators': 898, 'max_depth': 2, 'learning_rate': 0.028737926803578197, 'subsample': 0.6591103153825464, 'colsample_bytree': 0.6249133298972843, 'gamma': 4.920454986901279, 'reg_alpha': 0.4087777941128646, 'reg_lambda': 0.22313197207080387}. Best is trial 0 with value: 24.05092163861521.\n",
      "[I 2025-03-25 01:47:28,478] Trial 14 finished with value: 24.02716923161239 and parameters: {'n_estimators': 995, 'max_depth': 2, 'learning_rate': 0.01638464037562877, 'subsample': 0.6938135636695474, 'colsample_bytree': 0.8607639793695976, 'gamma': 4.58047375894096, 'reg_alpha': 0.41710490752841145, 'reg_lambda': 0.23526142599541408}. Best is trial 14 with value: 24.02716923161239.\n",
      "[I 2025-03-25 01:47:34,796] Trial 15 finished with value: 24.05456066345789 and parameters: {'n_estimators': 611, 'max_depth': 2, 'learning_rate': 0.015740954404575513, 'subsample': 0.6970098048005492, 'colsample_bytree': 0.8577446305669763, 'gamma': 4.30276465159059, 'reg_alpha': 0.44368225362839797, 'reg_lambda': 0.23992797210978306}. Best is trial 14 with value: 24.02716923161239.\n",
      "[I 2025-03-25 01:47:50,462] Trial 16 finished with value: 24.198510064450705 and parameters: {'n_estimators': 493, 'max_depth': 4, 'learning_rate': 0.0156724209304337, 'subsample': 0.6971757306135662, 'colsample_bytree': 0.855604046987466, 'gamma': 3.213424990119173, 'reg_alpha': 0.47351945685976793, 'reg_lambda': 0.26672641318412715}. Best is trial 14 with value: 24.02716923161239.\n",
      "[I 2025-03-25 01:48:08,676] Trial 17 finished with value: 24.191982184013014 and parameters: {'n_estimators': 943, 'max_depth': 3, 'learning_rate': 0.016130512711927676, 'subsample': 0.6976306796778083, 'colsample_bytree': 0.9369907356754136, 'gamma': 6.264007984735795, 'reg_alpha': 0.4418733135743023, 'reg_lambda': 0.30468526029996773}. Best is trial 14 with value: 24.02716923161239.\n",
      "[I 2025-03-25 01:48:15,705] Trial 18 finished with value: 24.123335839335756 and parameters: {'n_estimators': 696, 'max_depth': 2, 'learning_rate': 0.009246100604529614, 'subsample': 0.7189327158770685, 'colsample_bytree': 0.7717230288522086, 'gamma': 4.3815204974207935, 'reg_alpha': 0.4035800404186804, 'reg_lambda': 0.22502762849891944}. Best is trial 14 with value: 24.02716923161239.\n",
      "[I 2025-03-25 01:48:31,371] Trial 19 finished with value: 24.189564369415937 and parameters: {'n_estimators': 831, 'max_depth': 3, 'learning_rate': 0.019689150608466006, 'subsample': 0.6515374365929723, 'colsample_bytree': 0.9834841324627438, 'gamma': 4.719609540218186, 'reg_alpha': 0.38780381600061775, 'reg_lambda': 0.31694537608212947}. Best is trial 14 with value: 24.02716923161239.\n",
      "[I 2025-03-25 01:48:37,484] Trial 20 finished with value: 24.125760911326477 and parameters: {'n_estimators': 580, 'max_depth': 2, 'learning_rate': 0.010348932662652719, 'subsample': 0.6647561489152767, 'colsample_bytree': 0.879108645198049, 'gamma': 3.8446734087196868, 'reg_alpha': 0.4271523171559925, 'reg_lambda': 0.24629224069899858}. Best is trial 14 with value: 24.02716923161239.\n",
      "[I 2025-03-25 01:48:43,902] Trial 21 finished with value: 24.077303260168392 and parameters: {'n_estimators': 627, 'max_depth': 2, 'learning_rate': 0.014143354104276296, 'subsample': 0.715710114623584, 'colsample_bytree': 0.8274325351513123, 'gamma': 4.344128827997851, 'reg_alpha': 0.453851318369555, 'reg_lambda': 0.2213260619865314}. Best is trial 14 with value: 24.02716923161239.\n",
      "[I 2025-03-25 01:48:50,058] Trial 22 finished with value: 24.063210049092078 and parameters: {'n_estimators': 543, 'max_depth': 2, 'learning_rate': 0.02010457264550431, 'subsample': 0.8147103781524055, 'colsample_bytree': 0.8675970897735962, 'gamma': 5.124375957801059, 'reg_alpha': 0.47034052496702194, 'reg_lambda': 0.23993211896738012}. Best is trial 14 with value: 24.02716923161239.\n",
      "[I 2025-03-25 01:48:57,350] Trial 23 finished with value: 24.07649938174851 and parameters: {'n_estimators': 669, 'max_depth': 2, 'learning_rate': 0.012291401532804634, 'subsample': 0.6842890808229768, 'colsample_bytree': 0.9067579490362042, 'gamma': 4.211087786176095, 'reg_alpha': 0.42956411799730676, 'reg_lambda': 0.2203569604600925}. Best is trial 14 with value: 24.02716923161239.\n",
      "[I 2025-03-25 01:49:05,132] Trial 24 finished with value: 24.180663760256948 and parameters: {'n_estimators': 431, 'max_depth': 3, 'learning_rate': 0.007323926467184578, 'subsample': 0.6307255617752597, 'colsample_bytree': 0.7936851873294005, 'gamma': 3.060434770003323, 'reg_alpha': 0.45369470282600416, 'reg_lambda': 0.278144630278846}. Best is trial 14 with value: 24.02716923161239.\n",
      "[I 2025-03-25 01:49:11,507] Trial 25 finished with value: 24.30844172169672 and parameters: {'n_estimators': 616, 'max_depth': 2, 'learning_rate': 0.004687217851604483, 'subsample': 0.6037290763064079, 'colsample_bytree': 0.7333058117737143, 'gamma': 4.701701417399894, 'reg_alpha': 0.39398061566402987, 'reg_lambda': 0.24715563870897006}. Best is trial 14 with value: 24.02716923161239.\n",
      "[I 2025-03-25 01:49:21,632] Trial 26 finished with value: 24.094101232224734 and parameters: {'n_estimators': 541, 'max_depth': 3, 'learning_rate': 0.02030721059931715, 'subsample': 0.7377125712328476, 'colsample_bytree': 0.850433151073648, 'gamma': 4.104494582269329, 'reg_alpha': 0.4963330626900824, 'reg_lambda': 0.3964355290748983}. Best is trial 14 with value: 24.02716923161239.\n",
      "[I 2025-03-25 01:49:29,789] Trial 27 finished with value: 24.057301604813645 and parameters: {'n_estimators': 768, 'max_depth': 2, 'learning_rate': 0.02182572939050724, 'subsample': 0.6787439332863322, 'colsample_bytree': 0.9513164907724784, 'gamma': 3.5843009261184076, 'reg_alpha': 0.4127021282668322, 'reg_lambda': 0.21597696662164703}. Best is trial 14 with value: 24.02716923161239.\n",
      "[I 2025-03-25 01:49:50,149] Trial 28 finished with value: 24.114820537699046 and parameters: {'n_estimators': 672, 'max_depth': 4, 'learning_rate': 0.0076415227067308834, 'subsample': 0.633749457489786, 'colsample_bytree': 0.8005968622701235, 'gamma': 5.111623430812001, 'reg_alpha': 0.36050858470187697, 'reg_lambda': 0.27135551853795503}. Best is trial 14 with value: 24.02716923161239.\n",
      "[I 2025-03-25 01:50:03,638] Trial 29 finished with value: 24.23527181646209 and parameters: {'n_estimators': 732, 'max_depth': 3, 'learning_rate': 0.0033666984159650393, 'subsample': 0.7175186420841773, 'colsample_bytree': 0.9420472408884171, 'gamma': 6.008268128496603, 'reg_alpha': 0.3253008560932104, 'reg_lambda': 0.25594445312032077}. Best is trial 14 with value: 24.02716923161239.\n",
      "[I 2025-03-25 01:50:12,104] Trial 30 finished with value: 24.079137052292097 and parameters: {'n_estimators': 810, 'max_depth': 2, 'learning_rate': 0.012081051618411425, 'subsample': 0.8221661847674878, 'colsample_bytree': 0.9054569748990835, 'gamma': 5.349751884007235, 'reg_alpha': 0.4383384421730302, 'reg_lambda': 0.23370856607694424}. Best is trial 14 with value: 24.02716923161239.\n",
      "[I 2025-03-25 01:50:20,737] Trial 31 finished with value: 24.032461895772382 and parameters: {'n_estimators': 762, 'max_depth': 2, 'learning_rate': 0.021945603670580106, 'subsample': 0.6732482416667662, 'colsample_bytree': 0.9660427662403925, 'gamma': 3.4368618440556644, 'reg_alpha': 0.42082982022047755, 'reg_lambda': 0.21298306615390164}. Best is trial 14 with value: 24.02716923161239.\n",
      "[I 2025-03-25 01:50:31,823] Trial 32 finished with value: 24.059133832555784 and parameters: {'n_estimators': 990, 'max_depth': 2, 'learning_rate': 0.016052055888606354, 'subsample': 0.9846112072995504, 'colsample_bytree': 0.9647627776437588, 'gamma': 3.3945332066643186, 'reg_alpha': 0.4223871277460499, 'reg_lambda': 0.21239438094121862}. Best is trial 14 with value: 24.02716923161239.\n",
      "[I 2025-03-25 01:50:40,456] Trial 33 finished with value: 24.05230867286528 and parameters: {'n_estimators': 879, 'max_depth': 2, 'learning_rate': 0.0239281772585323, 'subsample': 0.6701063467256339, 'colsample_bytree': 0.8303739495292903, 'gamma': 3.96506282061783, 'reg_alpha': 0.4555521929800749, 'reg_lambda': 0.23304698712915575}. Best is trial 14 with value: 24.02716923161239.\n",
      "[I 2025-03-25 01:50:49,204] Trial 34 finished with value: 24.058685237983273 and parameters: {'n_estimators': 888, 'max_depth': 2, 'learning_rate': 0.024121317594375722, 'subsample': 0.6721731193748447, 'colsample_bytree': 0.8253982919407643, 'gamma': 4.073041713967952, 'reg_alpha': 0.3992421492353066, 'reg_lambda': 0.23190467258693773}. Best is trial 14 with value: 24.02716923161239.\n",
      "[I 2025-03-25 01:51:06,475] Trial 35 finished with value: 24.233413573496218 and parameters: {'n_estimators': 934, 'max_depth': 3, 'learning_rate': 0.01921144316393232, 'subsample': 0.7629909299495367, 'colsample_bytree': 0.9247994474855532, 'gamma': 3.914563071963449, 'reg_alpha': 0.45520085916466935, 'reg_lambda': 0.21133122837706134}. Best is trial 14 with value: 24.02716923161239.\n",
      "[I 2025-03-25 01:51:16,189] Trial 36 finished with value: 24.085784380334953 and parameters: {'n_estimators': 869, 'max_depth': 2, 'learning_rate': 0.029816440061025854, 'subsample': 0.6308901472912539, 'colsample_bytree': 0.9984171351079201, 'gamma': 3.4993930292827176, 'reg_alpha': 0.46695480012636, 'reg_lambda': 0.2299194868131518}. Best is trial 14 with value: 24.02716923161239.\n",
      "[I 2025-03-25 01:51:26,067] Trial 37 finished with value: 24.078833463044322 and parameters: {'n_estimators': 942, 'max_depth': 2, 'learning_rate': 0.024266831729422015, 'subsample': 0.7390382415742835, 'colsample_bytree': 0.8873109652398053, 'gamma': 4.587420594955448, 'reg_alpha': 0.3105217791501998, 'reg_lambda': 0.25319935797583165}. Best is trial 14 with value: 24.02716923161239.\n",
      "[I 2025-03-25 01:51:37,416] Trial 38 finished with value: 24.063027649832634 and parameters: {'n_estimators': 754, 'max_depth': 3, 'learning_rate': 0.012580968571291597, 'subsample': 0.6478997761964681, 'colsample_bytree': 0.6725473345125168, 'gamma': 3.366396182553203, 'reg_alpha': 0.3864223933667766, 'reg_lambda': 0.2957043687148807}. Best is trial 14 with value: 24.02716923161239.\n",
      "[I 2025-03-25 01:52:24,147] Trial 39 finished with value: 24.997687944337077 and parameters: {'n_estimators': 923, 'max_depth': 5, 'learning_rate': 0.017644025037554373, 'subsample': 0.9490910780998687, 'colsample_bytree': 0.8102393396054907, 'gamma': 3.9412793119154625, 'reg_alpha': 0.3691805834341678, 'reg_lambda': 0.2075423749913077}. Best is trial 14 with value: 24.02716923161239.\n",
      "[I 2025-03-25 01:52:33,383] Trial 40 finished with value: 24.061403297413715 and parameters: {'n_estimators': 997, 'max_depth': 2, 'learning_rate': 0.009308844354258338, 'subsample': 0.7755471316429675, 'colsample_bytree': 0.7137967778710569, 'gamma': 4.5330729566548875, 'reg_alpha': 0.4131593064612195, 'reg_lambda': 0.21411722812330602}. Best is trial 14 with value: 24.02716923161239.\n",
      "[I 2025-03-25 01:52:39,681] Trial 41 finished with value: 24.06521161198886 and parameters: {'n_estimators': 583, 'max_depth': 2, 'learning_rate': 0.023922901177878843, 'subsample': 0.694307921973473, 'colsample_bytree': 0.8444378901415395, 'gamma': 4.926108325914178, 'reg_alpha': 0.4345900423035245, 'reg_lambda': 0.24308094113865697}. Best is trial 14 with value: 24.02716923161239.\n",
      "[I 2025-03-25 01:52:47,356] Trial 42 finished with value: 24.05900248272235 and parameters: {'n_estimators': 715, 'max_depth': 2, 'learning_rate': 0.01372171548374486, 'subsample': 0.7092506737456241, 'colsample_bytree': 0.8711015097033641, 'gamma': 3.754234252682517, 'reg_alpha': 0.4499070919854364, 'reg_lambda': 0.23642453988983528}. Best is trial 14 with value: 24.02716923161239.\n",
      "[I 2025-03-25 01:52:55,416] Trial 43 finished with value: 24.03276295435158 and parameters: {'n_estimators': 829, 'max_depth': 2, 'learning_rate': 0.018191782795759052, 'subsample': 0.6655897550054727, 'colsample_bytree': 0.7948736557764903, 'gamma': 5.55192869410086, 'reg_alpha': 0.4870006515141274, 'reg_lambda': 0.2528243785315466}. Best is trial 14 with value: 24.02716923161239.\n",
      "[I 2025-03-25 01:53:03,236] Trial 44 finished with value: 24.077469921606227 and parameters: {'n_estimators': 799, 'max_depth': 2, 'learning_rate': 0.027052534083062005, 'subsample': 0.6175692169953898, 'colsample_bytree': 0.7881511105791349, 'gamma': 5.867690356081068, 'reg_alpha': 0.49765757475082345, 'reg_lambda': 0.257494536084289}. Best is trial 14 with value: 24.02716923161239.\n",
      "[I 2025-03-25 01:53:11,983] Trial 45 finished with value: 24.03759370766872 and parameters: {'n_estimators': 840, 'max_depth': 2, 'learning_rate': 0.022698753000564974, 'subsample': 0.6714906311036883, 'colsample_bytree': 0.8192175506123619, 'gamma': 5.469367782790647, 'reg_alpha': 0.478055945654533, 'reg_lambda': 0.3363042665827669}. Best is trial 14 with value: 24.02716923161239.\n",
      "[I 2025-03-25 01:53:19,948] Trial 46 finished with value: 24.023711160255726 and parameters: {'n_estimators': 823, 'max_depth': 2, 'learning_rate': 0.017825527834244428, 'subsample': 0.6387961568134864, 'colsample_bytree': 0.7458793654538877, 'gamma': 5.463800369628833, 'reg_alpha': 0.48454231628194266, 'reg_lambda': 0.3428449787183815}. Best is trial 46 with value: 24.023711160255726.\n",
      "[I 2025-03-25 01:53:33,349] Trial 47 finished with value: 24.067708066732347 and parameters: {'n_estimators': 847, 'max_depth': 3, 'learning_rate': 0.011046546271746631, 'subsample': 0.6421232510129485, 'colsample_bytree': 0.7568400699414596, 'gamma': 5.599185007635323, 'reg_alpha': 0.4857624558862131, 'reg_lambda': 0.3406677736279528}. Best is trial 46 with value: 24.023711160255726.\n",
      "[I 2025-03-25 01:53:41,488] Trial 48 finished with value: 24.027343584145267 and parameters: {'n_estimators': 825, 'max_depth': 2, 'learning_rate': 0.01798379763714303, 'subsample': 0.6012976162619608, 'colsample_bytree': 0.7426025572534944, 'gamma': 5.498481480112069, 'reg_alpha': 0.48345821013991946, 'reg_lambda': 0.3592732079955548}. Best is trial 46 with value: 24.023711160255726.\n",
      "[I 2025-03-25 01:53:48,629] Trial 49 finished with value: 24.806057680217435 and parameters: {'n_estimators': 774, 'max_depth': 2, 'learning_rate': 0.001124512782966354, 'subsample': 0.6000852337327639, 'colsample_bytree': 0.6894397131348744, 'gamma': 6.218443563092871, 'reg_alpha': 0.48746319224602924, 'reg_lambda': 0.36468041073214086}. Best is trial 46 with value: 24.023711160255726.\n",
      "[I 2025-03-25 01:54:01,914] Trial 50 finished with value: 24.140586380621595 and parameters: {'n_estimators': 812, 'max_depth': 3, 'learning_rate': 0.017507266750247115, 'subsample': 0.6209628682519022, 'colsample_bytree': 0.7542048132871902, 'gamma': 6.01920526888609, 'reg_alpha': 0.4879216894499303, 'reg_lambda': 0.3983992344266376}. Best is trial 46 with value: 24.023711160255726.\n",
      "[I 2025-03-25 01:54:09,623] Trial 51 finished with value: 24.03496290089829 and parameters: {'n_estimators': 831, 'max_depth': 2, 'learning_rate': 0.013852749999373696, 'subsample': 0.6575493915056401, 'colsample_bytree': 0.733589195539545, 'gamma': 5.644586568901769, 'reg_alpha': 0.4763517880186543, 'reg_lambda': 0.3467247460985844}. Best is trial 46 with value: 24.023711160255726.\n",
      "[I 2025-03-25 01:54:18,002] Trial 52 finished with value: 24.019898149386155 and parameters: {'n_estimators': 899, 'max_depth': 2, 'learning_rate': 0.013581848535991772, 'subsample': 0.6570339168948571, 'colsample_bytree': 0.7272974222058094, 'gamma': 5.612355252595861, 'reg_alpha': 0.46567778840970797, 'reg_lambda': 0.3512215675865863}. Best is trial 52 with value: 24.019898149386155.\n",
      "[I 2025-03-25 01:54:26,838] Trial 53 finished with value: 24.024375883757262 and parameters: {'n_estimators': 963, 'max_depth': 2, 'learning_rate': 0.01697999936911142, 'subsample': 0.6151492780447096, 'colsample_bytree': 0.7341988904936119, 'gamma': 5.368215458864291, 'reg_alpha': 0.4618505872316232, 'reg_lambda': 0.3617789668076893}. Best is trial 52 with value: 24.019898149386155.\n",
      "[I 2025-03-25 01:54:35,575] Trial 54 finished with value: 24.082762262621213 and parameters: {'n_estimators': 966, 'max_depth': 2, 'learning_rate': 0.008677127737575046, 'subsample': 0.6163952171283381, 'colsample_bytree': 0.647020175380168, 'gamma': 5.339964643859406, 'reg_alpha': 0.46950572144273445, 'reg_lambda': 0.3628085238674834}. Best is trial 52 with value: 24.019898149386155.\n",
      "[I 2025-03-25 01:54:44,462] Trial 55 finished with value: 24.01815032022341 and parameters: {'n_estimators': 907, 'max_depth': 2, 'learning_rate': 0.014887240601239323, 'subsample': 0.6406422692374534, 'colsample_bytree': 0.7341424380747151, 'gamma': 5.2154141852508245, 'reg_alpha': 0.4609575673870993, 'reg_lambda': 0.37685235097198794}. Best is trial 55 with value: 24.01815032022341.\n",
      "[I 2025-03-25 01:54:53,125] Trial 56 finished with value: 24.035024069851683 and parameters: {'n_estimators': 909, 'max_depth': 2, 'learning_rate': 0.01482174987331701, 'subsample': 0.6139112956655088, 'colsample_bytree': 0.7360463311431373, 'gamma': 5.201219145012958, 'reg_alpha': 0.466378695499799, 'reg_lambda': 0.38077588649609156}. Best is trial 55 with value: 24.01815032022341.\n",
      "[I 2025-03-25 01:55:01,652] Trial 57 finished with value: 24.04561866398383 and parameters: {'n_estimators': 899, 'max_depth': 2, 'learning_rate': 0.011016272729627668, 'subsample': 0.6395390927839124, 'colsample_bytree': 0.7190567373781799, 'gamma': 5.755613818287255, 'reg_alpha': 0.46347294409189976, 'reg_lambda': 0.3790861905616116}. Best is trial 55 with value: 24.01815032022341.\n",
      "[I 2025-03-25 01:55:27,620] Trial 58 finished with value: 24.08840813421077 and parameters: {'n_estimators': 968, 'max_depth': 4, 'learning_rate': 0.005766132187812915, 'subsample': 0.6511744211376427, 'colsample_bytree': 0.6880070652397169, 'gamma': 4.980131080190996, 'reg_alpha': 0.45982484458420303, 'reg_lambda': 0.35939385816762465}. Best is trial 55 with value: 24.01815032022341.\n",
      "[I 2025-03-25 01:55:37,037] Trial 59 finished with value: 24.041645220009727 and parameters: {'n_estimators': 968, 'max_depth': 2, 'learning_rate': 0.017096686721213745, 'subsample': 0.8921453594672795, 'colsample_bytree': 0.7740385877942015, 'gamma': 4.798163210249694, 'reg_alpha': 0.47890984784989665, 'reg_lambda': 0.32561413790810856}. Best is trial 55 with value: 24.01815032022341.\n",
      "[I 2025-03-25 01:55:44,792] Trial 60 finished with value: 24.044884418398908 and parameters: {'n_estimators': 868, 'max_depth': 2, 'learning_rate': 0.012561653696716961, 'subsample': 0.6312173308018073, 'colsample_bytree': 0.6722044337788162, 'gamma': 6.458778896006546, 'reg_alpha': 0.4919646975200564, 'reg_lambda': 0.3756562301919828}. Best is trial 55 with value: 24.01815032022341.\n",
      "[I 2025-03-25 01:55:53,428] Trial 61 finished with value: 24.060808099693386 and parameters: {'n_estimators': 953, 'max_depth': 2, 'learning_rate': 0.021096874022476248, 'subsample': 0.6864525465166187, 'colsample_bytree': 0.6999783938962865, 'gamma': 5.410487392158393, 'reg_alpha': 0.47903261790607854, 'reg_lambda': 0.35444580845023965}. Best is trial 55 with value: 24.01815032022341.\n",
      "[I 2025-03-25 01:56:02,257] Trial 62 finished with value: 24.020428328113525 and parameters: {'n_estimators': 907, 'max_depth': 2, 'learning_rate': 0.01451788905373273, 'subsample': 0.6080655935450211, 'colsample_bytree': 0.7675808755055392, 'gamma': 5.854956368646237, 'reg_alpha': 0.44393368074357564, 'reg_lambda': 0.3708518769666684}. Best is trial 55 with value: 24.01815032022341.\n",
      "[I 2025-03-25 01:56:10,818] Trial 63 finished with value: 24.025072387190647 and parameters: {'n_estimators': 914, 'max_depth': 2, 'learning_rate': 0.014800575667246385, 'subsample': 0.617059238547548, 'colsample_bytree': 0.7418909575192923, 'gamma': 5.894634540013818, 'reg_alpha': 0.44543033876598953, 'reg_lambda': 0.37169170256557504}. Best is trial 55 with value: 24.01815032022341.\n",
      "[I 2025-03-25 01:56:19,326] Trial 64 finished with value: 24.032531223346506 and parameters: {'n_estimators': 916, 'max_depth': 2, 'learning_rate': 0.014299328281434636, 'subsample': 0.6238871592221779, 'colsample_bytree': 0.720762342061444, 'gamma': 5.870796908579015, 'reg_alpha': 0.44671879515727053, 'reg_lambda': 0.3681933543359738}. Best is trial 55 with value: 24.01815032022341.\n",
      "[I 2025-03-25 01:57:08,273] Trial 65 finished with value: 24.525776227730898 and parameters: {'n_estimators': 1000, 'max_depth': 5, 'learning_rate': 0.01015829562513663, 'subsample': 0.6439829209503601, 'colsample_bytree': 0.7686327563274502, 'gamma': 6.155765262223917, 'reg_alpha': 0.43425596292164587, 'reg_lambda': 0.39221895902286946}. Best is trial 55 with value: 24.01815032022341.\n",
      "[I 2025-03-25 01:57:17,329] Trial 66 finished with value: 24.096012051121317 and parameters: {'n_estimators': 927, 'max_depth': 2, 'learning_rate': 0.00803066976361546, 'subsample': 0.611098794947125, 'colsample_bytree': 0.7477177039829153, 'gamma': 5.240984829139128, 'reg_alpha': 0.4618543299523366, 'reg_lambda': 0.38739143758627675}. Best is trial 55 with value: 24.01815032022341.\n",
      "[I 2025-03-25 01:57:26,191] Trial 67 finished with value: 24.012802297479695 and parameters: {'n_estimators': 897, 'max_depth': 2, 'learning_rate': 0.01563874899417507, 'subsample': 0.6565570809161319, 'colsample_bytree': 0.7809999681625184, 'gamma': 5.72163629769901, 'reg_alpha': 0.44408078144014745, 'reg_lambda': 0.35072257567027587}. Best is trial 67 with value: 24.012802297479695.\n",
      "[I 2025-03-25 01:57:41,351] Trial 68 finished with value: 24.06795367020507 and parameters: {'n_estimators': 889, 'max_depth': 3, 'learning_rate': 0.011370106282010812, 'subsample': 0.6582921008425636, 'colsample_bytree': 0.7836217583912265, 'gamma': 5.7211204324090215, 'reg_alpha': 0.4434593342291517, 'reg_lambda': 0.3507348874870669}. Best is trial 67 with value: 24.012802297479695.\n",
      "[I 2025-03-25 01:57:50,097] Trial 69 finished with value: 24.038480730196767 and parameters: {'n_estimators': 870, 'max_depth': 2, 'learning_rate': 0.013226228737017618, 'subsample': 0.6292398354838673, 'colsample_bytree': 0.7640862863632158, 'gamma': 6.405349653993097, 'reg_alpha': 0.4495012176339555, 'reg_lambda': 0.37248458915921806}. Best is trial 67 with value: 24.012802297479695.\n",
      "[I 2025-03-25 01:57:58,850] Trial 70 finished with value: 24.02121735837983 and parameters: {'n_estimators': 908, 'max_depth': 2, 'learning_rate': 0.015402348304728506, 'subsample': 0.652497081698007, 'colsample_bytree': 0.7259569499576787, 'gamma': 6.068369363197557, 'reg_alpha': 0.4284399394969921, 'reg_lambda': 0.3863589994737479}. Best is trial 67 with value: 24.012802297479695.\n",
      "[I 2025-03-25 01:58:08,356] Trial 71 finished with value: 24.008842945764304 and parameters: {'n_estimators': 959, 'max_depth': 2, 'learning_rate': 0.015616998322782292, 'subsample': 0.6416964877752129, 'colsample_bytree': 0.7093356342840186, 'gamma': 5.95215280097236, 'reg_alpha': 0.4288120265060383, 'reg_lambda': 0.38160712432873833}. Best is trial 71 with value: 24.008842945764304.\n",
      "[I 2025-03-25 01:58:17,408] Trial 72 finished with value: 24.023955336912035 and parameters: {'n_estimators': 960, 'max_depth': 2, 'learning_rate': 0.016043079164955617, 'subsample': 0.6414135240758038, 'colsample_bytree': 0.7043352714132843, 'gamma': 6.040936049610649, 'reg_alpha': 0.42810608467679684, 'reg_lambda': 0.3851205357956507}. Best is trial 71 with value: 24.008842945764304.\n",
      "[I 2025-03-25 01:58:25,346] Trial 73 finished with value: 24.030355770362167 and parameters: {'n_estimators': 857, 'max_depth': 2, 'learning_rate': 0.015537008753418412, 'subsample': 0.6576564029374141, 'colsample_bytree': 0.7056065008064746, 'gamma': 6.048867770439356, 'reg_alpha': 0.4278699818092927, 'reg_lambda': 0.3842868445381859}. Best is trial 71 with value: 24.008842945764304.\n",
      "[I 2025-03-25 01:58:33,978] Trial 74 finished with value: 24.029186427114983 and parameters: {'n_estimators': 934, 'max_depth': 2, 'learning_rate': 0.019327316835033543, 'subsample': 0.6836702328934054, 'colsample_bytree': 0.6712347728812167, 'gamma': 6.3429442102495335, 'reg_alpha': 0.43834012215225315, 'reg_lambda': 0.391829561820205}. Best is trial 71 with value: 24.008842945764304.\n",
      "[I 2025-03-25 01:58:42,588] Trial 75 finished with value: 24.36350660459239 and parameters: {'n_estimators': 895, 'max_depth': 2, 'learning_rate': 0.0026429421203963363, 'subsample': 0.7059829042408303, 'colsample_bytree': 0.7207790381933505, 'gamma': 6.5691018111991815, 'reg_alpha': 0.4232472481823243, 'reg_lambda': 0.3878894045481667}. Best is trial 71 with value: 24.008842945764304.\n",
      "[I 2025-03-25 01:58:51,490] Trial 76 finished with value: 24.113756062033726 and parameters: {'n_estimators': 974, 'max_depth': 2, 'learning_rate': 0.006799668954781776, 'subsample': 0.640090095606674, 'colsample_bytree': 0.6995912498076887, 'gamma': 6.090196659074769, 'reg_alpha': 0.40952931126190706, 'reg_lambda': 0.3374277841496101}. Best is trial 71 with value: 24.008842945764304.\n",
      "[I 2025-03-25 01:59:00,590] Trial 77 finished with value: 24.03544138783069 and parameters: {'n_estimators': 934, 'max_depth': 2, 'learning_rate': 0.011789613593214173, 'subsample': 0.6514709377830609, 'colsample_bytree': 0.7262010714754057, 'gamma': 5.698982019246047, 'reg_alpha': 0.4329750849799384, 'reg_lambda': 0.34600126249047664}. Best is trial 71 with value: 24.008842945764304.\n",
      "[I 2025-03-25 01:59:09,028] Trial 78 finished with value: 24.100579714801537 and parameters: {'n_estimators': 905, 'max_depth': 2, 'learning_rate': 0.026584983557926583, 'subsample': 0.8515707769395584, 'colsample_bytree': 0.6566195726316577, 'gamma': 6.8767659188376955, 'reg_alpha': 0.4037919678465402, 'reg_lambda': 0.3772924784228977}. Best is trial 71 with value: 24.008842945764304.\n",
      "[I 2025-03-25 01:59:18,200] Trial 79 finished with value: 24.230734453197638 and parameters: {'n_estimators': 950, 'max_depth': 2, 'learning_rate': 0.004020414409477723, 'subsample': 0.6356280168426963, 'colsample_bytree': 0.7805587652656075, 'gamma': 5.905214633312173, 'reg_alpha': 0.4168445374794786, 'reg_lambda': 0.3254767198710449}. Best is trial 71 with value: 24.008842945764304.\n",
      "[I 2025-03-25 01:59:33,239] Trial 80 finished with value: 24.1576945840721 and parameters: {'n_estimators': 983, 'max_depth': 3, 'learning_rate': 0.01568462802129902, 'subsample': 0.6751159829626646, 'colsample_bytree': 0.7091235180359357, 'gamma': 5.974458868396608, 'reg_alpha': 0.45474552979794736, 'reg_lambda': 0.3693837971599612}. Best is trial 71 with value: 24.008842945764304.\n",
      "[I 2025-03-25 01:59:42,762] Trial 81 finished with value: 24.02040151889914 and parameters: {'n_estimators': 967, 'max_depth': 2, 'learning_rate': 0.016576139519234433, 'subsample': 0.6079475212836064, 'colsample_bytree': 0.7505033715707058, 'gamma': 5.780571775645418, 'reg_alpha': 0.4598322765408559, 'reg_lambda': 0.3651596655574363}. Best is trial 71 with value: 24.008842945764304.\n",
      "[I 2025-03-25 01:59:51,150] Trial 82 finished with value: 24.084445382000094 and parameters: {'n_estimators': 881, 'max_depth': 2, 'learning_rate': 0.018987759864561613, 'subsample': 0.9997849630877165, 'colsample_bytree': 0.7544684384570182, 'gamma': 5.6046903127903285, 'reg_alpha': 0.4736647293081344, 'reg_lambda': 0.38245495805041946}. Best is trial 71 with value: 24.008842945764304.\n",
      "[I 2025-03-25 02:00:00,254] Trial 83 finished with value: 24.026661407700374 and parameters: {'n_estimators': 949, 'max_depth': 2, 'learning_rate': 0.012917968964900285, 'subsample': 0.6295930984829766, 'colsample_bytree': 0.8043124300546467, 'gamma': 6.2338588514136335, 'reg_alpha': 0.4391834464313678, 'reg_lambda': 0.3533417995444466}. Best is trial 71 with value: 24.008842945764304.\n",
      "[I 2025-03-25 02:00:09,032] Trial 84 finished with value: 24.074592934918787 and parameters: {'n_estimators': 914, 'max_depth': 2, 'learning_rate': 0.009311533470400018, 'subsample': 0.6081205379071729, 'colsample_bytree': 0.7476052282028577, 'gamma': 5.776010573399359, 'reg_alpha': 0.4576445487483624, 'reg_lambda': 0.39166961159669395}. Best is trial 71 with value: 24.008842945764304.\n",
      "[I 2025-03-25 02:00:17,672] Trial 85 finished with value: 24.04305908509487 and parameters: {'n_estimators': 858, 'max_depth': 2, 'learning_rate': 0.020772632638922074, 'subsample': 0.6609789582585083, 'colsample_bytree': 0.7618686070553699, 'gamma': 5.77255400315613, 'reg_alpha': 0.4302764115168952, 'reg_lambda': 0.3671787330866522}. Best is trial 71 with value: 24.008842945764304.\n",
      "[I 2025-03-25 02:00:26,992] Trial 86 finished with value: 24.026494319232196 and parameters: {'n_estimators': 985, 'max_depth': 2, 'learning_rate': 0.016582273557188623, 'subsample': 0.6438324304869814, 'colsample_bytree': 0.7265290604873877, 'gamma': 6.146185093314502, 'reg_alpha': 0.4509499550454454, 'reg_lambda': 0.3753091892277917}. Best is trial 71 with value: 24.008842945764304.\n",
      "[I 2025-03-25 02:00:35,652] Trial 87 finished with value: 24.02690179595515 and parameters: {'n_estimators': 951, 'max_depth': 2, 'learning_rate': 0.01498451939771453, 'subsample': 0.6252101316806262, 'colsample_bytree': 0.6961766175060206, 'gamma': 5.103317258313471, 'reg_alpha': 0.4700216988534132, 'reg_lambda': 0.3193565423712579}. Best is trial 71 with value: 24.008842945764304.\n",
      "[I 2025-03-25 02:00:44,328] Trial 88 finished with value: 24.032937334308873 and parameters: {'n_estimators': 880, 'max_depth': 2, 'learning_rate': 0.013826740173035116, 'subsample': 0.724940912617855, 'colsample_bytree': 0.7772691672675226, 'gamma': 5.53978906685197, 'reg_alpha': 0.42500028507320237, 'reg_lambda': 0.3567694302392017}. Best is trial 71 with value: 24.008842945764304.\n",
      "[I 2025-03-25 02:00:52,887] Trial 89 finished with value: 24.050527523685222 and parameters: {'n_estimators': 935, 'max_depth': 2, 'learning_rate': 0.010585619498511658, 'subsample': 0.6660779842280377, 'colsample_bytree': 0.7119779295272922, 'gamma': 5.943640334864525, 'reg_alpha': 0.4385041801846701, 'reg_lambda': 0.3470525691259459}. Best is trial 71 with value: 24.008842945764304.\n",
      "[I 2025-03-25 02:01:00,525] Trial 90 finished with value: 24.03019362703344 and parameters: {'n_estimators': 785, 'max_depth': 2, 'learning_rate': 0.01869047400331675, 'subsample': 0.6870116200565838, 'colsample_bytree': 0.7471351549916143, 'gamma': 5.453165530334474, 'reg_alpha': 0.44682043146232475, 'reg_lambda': 0.33362828029811537}. Best is trial 71 with value: 24.008842945764304.\n",
      "[I 2025-03-25 02:01:09,366] Trial 91 finished with value: 24.027040664922154 and parameters: {'n_estimators': 967, 'max_depth': 2, 'learning_rate': 0.01674477512760255, 'subsample': 0.6083733528874846, 'colsample_bytree': 0.6788896038962625, 'gamma': 5.33614063766389, 'reg_alpha': 0.4645412175094347, 'reg_lambda': 0.3859850172588753}. Best is trial 71 with value: 24.008842945764304.\n",
      "[I 2025-03-25 02:01:18,502] Trial 92 finished with value: 24.013570461675595 and parameters: {'n_estimators': 955, 'max_depth': 2, 'learning_rate': 0.01661749825879695, 'subsample': 0.651282157419096, 'colsample_bytree': 0.7334241111788679, 'gamma': 5.812265764512654, 'reg_alpha': 0.4613703709627838, 'reg_lambda': 0.3616266608451079}. Best is trial 71 with value: 24.008842945764304.\n",
      "[I 2025-03-25 02:01:27,515] Trial 93 finished with value: 24.029395484926983 and parameters: {'n_estimators': 923, 'max_depth': 2, 'learning_rate': 0.013256112525292942, 'subsample': 0.6510231225087543, 'colsample_bytree': 0.7338324129540276, 'gamma': 5.79320540510038, 'reg_alpha': 0.4519178942883622, 'reg_lambda': 0.3992134810685831}. Best is trial 71 with value: 24.008842945764304.\n",
      "[I 2025-03-25 02:01:36,186] Trial 94 finished with value: 24.02876014432533 and parameters: {'n_estimators': 899, 'max_depth': 2, 'learning_rate': 0.012033435803711535, 'subsample': 0.6377776688578057, 'colsample_bytree': 0.7268382220978999, 'gamma': 5.634394972928266, 'reg_alpha': 0.4586796365514598, 'reg_lambda': 0.34230336112433857}. Best is trial 71 with value: 24.008842945764304.\n",
      "[I 2025-03-25 02:01:39,493] Trial 95 finished with value: 24.191612984631277 and parameters: {'n_estimators': 309, 'max_depth': 2, 'learning_rate': 0.015031409913075913, 'subsample': 0.6218577302647894, 'colsample_bytree': 0.7613980381109503, 'gamma': 5.826864259390344, 'reg_alpha': 0.4729522330196843, 'reg_lambda': 0.36660867719733703}. Best is trial 71 with value: 24.008842945764304.\n",
      "[I 2025-03-25 02:01:43,270] Trial 96 finished with value: 24.100783788192643 and parameters: {'n_estimators': 348, 'max_depth': 2, 'learning_rate': 0.0204822047004378, 'subsample': 0.677251350626544, 'colsample_bytree': 0.7891394818342253, 'gamma': 6.09536466771068, 'reg_alpha': 0.43192696042084866, 'reg_lambda': 0.37280655211354197}. Best is trial 71 with value: 24.008842945764304.\n",
      "[I 2025-03-25 02:02:09,347] Trial 97 finished with value: 24.796538018080266 and parameters: {'n_estimators': 977, 'max_depth': 4, 'learning_rate': 0.02214241890640981, 'subsample': 0.6004597853254385, 'colsample_bytree': 0.7150243896469457, 'gamma': 6.317528801341613, 'reg_alpha': 0.4173196425743459, 'reg_lambda': 0.35908819757071103}. Best is trial 71 with value: 24.008842945764304.\n",
      "[I 2025-03-25 02:02:18,229] Trial 98 finished with value: 24.013809389172977 and parameters: {'n_estimators': 951, 'max_depth': 2, 'learning_rate': 0.01828361412526536, 'subsample': 0.6469026633476991, 'colsample_bytree': 0.741342553384911, 'gamma': 5.669039490315725, 'reg_alpha': 0.44169200785971385, 'reg_lambda': 0.38070655729653374}. Best is trial 71 with value: 24.008842945764304.\n",
      "[I 2025-03-25 02:02:26,363] Trial 99 finished with value: 24.022632651214135 and parameters: {'n_estimators': 848, 'max_depth': 2, 'learning_rate': 0.017980474203281516, 'subsample': 0.6656297185612701, 'colsample_bytree': 0.7704400323214295, 'gamma': 5.547687549503032, 'reg_alpha': 0.44368381678906216, 'reg_lambda': 0.380050341432004}. Best is trial 71 with value: 24.008842945764304.\n"
     ]
    },
    {
     "name": "stdout",
     "output_type": "stream",
     "text": [
      "Лучшие параметры:\n",
      "{'n_estimators': 959, 'max_depth': 2, 'learning_rate': 0.015616998322782292, 'subsample': 0.6416964877752129, 'colsample_bytree': 0.7093356342840186, 'gamma': 5.95215280097236, 'reg_alpha': 0.4288120265060383, 'reg_lambda': 0.38160712432873833}\n",
      "Лучший RMSE: 24.0088\n"
     ]
    }
   ],
   "source": [
    "def objective(trial):\n",
    "    params = {\n",
    "        'n_estimators': trial.suggest_int('n_estimators', 300, 1000),\n",
    "        'max_depth': trial.suggest_int('max_depth', 2, 5),\n",
    "        'learning_rate': trial.suggest_float('learning_rate', 0.001, 0.03, log=True),\n",
    "        'subsample': trial.suggest_float('subsample', 0.6, 1.0),\n",
    "        'colsample_bytree': trial.suggest_float('colsample_bytree', 0.6, 1.0),\n",
    "        'gamma': trial.suggest_float('gamma', 3, 7),\n",
    "        'reg_alpha': trial.suggest_float('reg_alpha', 0.3, 0.5),\n",
    "        'reg_lambda': trial.suggest_float('reg_lambda', 0.2, 0.4),\n",
    "        'objective': 'reg:squarederror',\n",
    "        'random_state': 42,\n",
    "        'n_jobs': -1\n",
    "    }\n",
    "\n",
    "    model = XGBRegressor(**params)\n",
    "    \n",
    "    # Кросс-валидация\n",
    "    score = cross_val_score(\n",
    "        model, X_train_tfidf, y_train,\n",
    "        scoring='neg_root_mean_squared_error',\n",
    "        cv=3,\n",
    "        n_jobs=-1\n",
    "    )\n",
    "    \n",
    "    return -score.mean()  # хотим минимизировать RMSE\n",
    "\n",
    "study = optuna.create_study(direction='minimize')\n",
    "study.optimize(objective, n_trials=100, timeout=1500)\n",
    "\n",
    "print(\"Лучшие параметры:\")\n",
    "print(study.best_params)\n",
    "print(f\"Лучший RMSE: {study.best_value:.4f}\")"
   ]
  },
  {
   "cell_type": "code",
   "execution_count": 14,
   "metadata": {},
   "outputs": [
    {
     "name": "stdout",
     "output_type": "stream",
     "text": [
      "📊 RMSE на тесте: 24.0056\n"
     ]
    }
   ],
   "source": [
    "best_model = XGBRegressor(\n",
    "    **study.best_params,\n",
    "    n_jobs=-1,\n",
    "    random_state=42\n",
    ")\n",
    "\n",
    "best_model.fit(X_train_tfidf, y_train)\n",
    "y_pred = best_model.predict(X_test_tfidf)\n",
    "\n",
    "rmse = mean_squared_error(y_test, y_pred, squared=False)\n",
    "print(f\"📊 RMSE на тесте: {rmse:.4f}\")"
   ]
  },
  {
   "cell_type": "code",
   "execution_count": null,
   "metadata": {},
   "outputs": [],
   "source": []
  }
 ],
 "metadata": {
  "kernelspec": {
   "display_name": "Recommended_System-b--jxVTG",
   "language": "python",
   "name": "python3"
  },
  "language_info": {
   "codemirror_mode": {
    "name": "ipython",
    "version": 3
   },
   "file_extension": ".py",
   "mimetype": "text/x-python",
   "name": "python",
   "nbconvert_exporter": "python",
   "pygments_lexer": "ipython3",
   "version": "3.8.20"
  }
 },
 "nbformat": 4,
 "nbformat_minor": 2
}
