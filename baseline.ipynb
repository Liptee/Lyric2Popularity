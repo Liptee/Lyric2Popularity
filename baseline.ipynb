{
 "cells": [
  {
   "cell_type": "code",
   "execution_count": 2,
   "metadata": {},
   "outputs": [],
   "source": [
    "import os\n",
    "import json\n",
    "import pandas as pd\n",
    "from sklearn.feature_extraction.text import TfidfVectorizer\n",
    "from sklearn.model_selection import train_test_split\n",
    "from xgboost import XGBRegressor\n",
    "from sklearn.metrics import mean_squared_error\n",
    "from glob import glob"
   ]
  },
  {
   "cell_type": "code",
   "execution_count": 3,
   "metadata": {},
   "outputs": [],
   "source": [
    "DATA_DIR = \"/Users/royalskifm/Desktop/with_lyrics\" \n",
    "data_list = []"
   ]
  },
  {
   "cell_type": "code",
   "execution_count": 4,
   "metadata": {},
   "outputs": [],
   "source": [
    "for file_path in glob(os.path.join(DATA_DIR, \"*.json\")):\n",
    "    with open(file_path, \"r\") as f:\n",
    "        data = json.load(f)\n",
    "        if \"lyrics\" in data and \"popularity\" in data:\n",
    "            data_list.append({\n",
    "                \"lyrics\": data[\"lyrics\"],\n",
    "                \"popularity\": data[\"popularity\"]\n",
    "            })\n",
    "\n",
    "df = pd.DataFrame(data_list)"
   ]
  },
  {
   "cell_type": "code",
   "execution_count": 5,
   "metadata": {},
   "outputs": [],
   "source": [
    "import re\n",
    "def delete_parts_of_lyrics(text: str) -> str:\n",
    "    parts_of_lyrics = re.findall(r'\\[(.*?)\\]', text)\n",
    "    for part in parts_of_lyrics:\n",
    "        text = text.replace(f\"[{part}]\", \"\")\n",
    "    return text"
   ]
  },
  {
   "cell_type": "code",
   "execution_count": 6,
   "metadata": {},
   "outputs": [
    {
     "data": {
      "text/html": [
       "<div>\n",
       "<style scoped>\n",
       "    .dataframe tbody tr th:only-of-type {\n",
       "        vertical-align: middle;\n",
       "    }\n",
       "\n",
       "    .dataframe tbody tr th {\n",
       "        vertical-align: top;\n",
       "    }\n",
       "\n",
       "    .dataframe thead th {\n",
       "        text-align: right;\n",
       "    }\n",
       "</style>\n",
       "<table border=\"1\" class=\"dataframe\">\n",
       "  <thead>\n",
       "    <tr style=\"text-align: right;\">\n",
       "      <th></th>\n",
       "      <th>lyrics</th>\n",
       "      <th>popularity</th>\n",
       "    </tr>\n",
       "  </thead>\n",
       "  <tbody>\n",
       "    <tr>\n",
       "      <th>0</th>\n",
       "      <td>[Verse 1]\\nSmoking cigarettes on the roof\\nYou...</td>\n",
       "      <td>4</td>\n",
       "    </tr>\n",
       "    <tr>\n",
       "      <th>1</th>\n",
       "      <td>[Bənd 1]\\nZoomaqazində, vağzalın tinində\\nBir ...</td>\n",
       "      <td>21</td>\n",
       "    </tr>\n",
       "    <tr>\n",
       "      <th>2</th>\n",
       "      <td>[Intro]\\nLife's alright in Devil Town\\nWe're r...</td>\n",
       "      <td>72</td>\n",
       "    </tr>\n",
       "    <tr>\n",
       "      <th>3</th>\n",
       "      <td>[Bölüm]\\nGel günahın boynuma gel\\nDur birazcık...</td>\n",
       "      <td>0</td>\n",
       "    </tr>\n",
       "    <tr>\n",
       "      <th>4</th>\n",
       "      <td>[Verse 1:]\\nI could chase after greatness\\nFir...</td>\n",
       "      <td>28</td>\n",
       "    </tr>\n",
       "    <tr>\n",
       "      <th>...</th>\n",
       "      <td>...</td>\n",
       "      <td>...</td>\n",
       "    </tr>\n",
       "    <tr>\n",
       "      <th>5722</th>\n",
       "      <td>[방탄소년단 Outro: Ego 가사]\\n\\n[Intro: RM, DJ Friz]\\...</td>\n",
       "      <td>63</td>\n",
       "    </tr>\n",
       "    <tr>\n",
       "      <th>5723</th>\n",
       "      <td>[Chorus]\\nYou thought I wouldn't come around t...</td>\n",
       "      <td>47</td>\n",
       "    </tr>\n",
       "    <tr>\n",
       "      <th>5724</th>\n",
       "      <td>[Bölüm 1]\\nAvcı değilim, vuramam, tuzak kurama...</td>\n",
       "      <td>26</td>\n",
       "    </tr>\n",
       "    <tr>\n",
       "      <th>5725</th>\n",
       "      <td>Seis ainda vão colar no meu show\\nSeis ainda v...</td>\n",
       "      <td>40</td>\n",
       "    </tr>\n",
       "    <tr>\n",
       "      <th>5726</th>\n",
       "      <td>[Verse 1]\\nI was pulling out my hair the day I...</td>\n",
       "      <td>65</td>\n",
       "    </tr>\n",
       "  </tbody>\n",
       "</table>\n",
       "<p>5727 rows × 2 columns</p>\n",
       "</div>"
      ],
      "text/plain": [
       "                                                 lyrics  popularity\n",
       "0     [Verse 1]\\nSmoking cigarettes on the roof\\nYou...           4\n",
       "1     [Bənd 1]\\nZoomaqazində, vağzalın tinində\\nBir ...          21\n",
       "2     [Intro]\\nLife's alright in Devil Town\\nWe're r...          72\n",
       "3     [Bölüm]\\nGel günahın boynuma gel\\nDur birazcık...           0\n",
       "4     [Verse 1:]\\nI could chase after greatness\\nFir...          28\n",
       "...                                                 ...         ...\n",
       "5722  [방탄소년단 Outro: Ego 가사]\\n\\n[Intro: RM, DJ Friz]\\...          63\n",
       "5723  [Chorus]\\nYou thought I wouldn't come around t...          47\n",
       "5724  [Bölüm 1]\\nAvcı değilim, vuramam, tuzak kurama...          26\n",
       "5725  Seis ainda vão colar no meu show\\nSeis ainda v...          40\n",
       "5726  [Verse 1]\\nI was pulling out my hair the day I...          65\n",
       "\n",
       "[5727 rows x 2 columns]"
      ]
     },
     "execution_count": 6,
     "metadata": {},
     "output_type": "execute_result"
    }
   ],
   "source": [
    "df"
   ]
  },
  {
   "cell_type": "code",
   "execution_count": 7,
   "metadata": {},
   "outputs": [],
   "source": [
    "df[\"lyrics\"] = df[\"lyrics\"].str.lower()\n",
    "df[\"lyrics\"] = df[\"lyrics\"].str.replace(r'[^\\w\\s]', '')\n",
    "df[\"lyrics\"] = df[\"lyrics\"].apply(delete_parts_of_lyrics)\n",
    "df[\"lyrics\"] = df[\"lyrics\"].str.replace(r'\\d+', '')\n",
    "df[\"lyrics\"] = df[\"lyrics\"].str.strip()\n"
   ]
  },
  {
   "cell_type": "code",
   "execution_count": 8,
   "metadata": {},
   "outputs": [],
   "source": [
    "X_train, X_test, y_train, y_test = train_test_split(df[\"lyrics\"], df[\"popularity\"], test_size=0.2, random_state=42)"
   ]
  },
  {
   "cell_type": "code",
   "execution_count": 9,
   "metadata": {},
   "outputs": [],
   "source": [
    "from sklearn.decomposition import TruncatedSVD\n",
    "import numpy as np\n",
    "\n",
    "# 📌 TF-IDF: используем слова + символы, без `stop_words`\n",
    "word_vectorizer = TfidfVectorizer(ngram_range=(1, 3), max_features=25000, min_df=2, max_df=0.95)\n",
    "char_vectorizer = TfidfVectorizer(analyzer='char_wb', ngram_range=(3, 6), max_features=200000)\n",
    "\n",
    "# 📌 Обучаем TF-IDF\n",
    "X_train_word = word_vectorizer.fit_transform(X_train)\n",
    "X_train_char = char_vectorizer.fit_transform(X_train)\n",
    "X_train_tfidf = np.hstack((X_train_word.toarray(), X_train_char.toarray()))\n",
    "\n",
    "X_test_word = word_vectorizer.transform(X_test)\n",
    "X_test_char = char_vectorizer.transform(X_test)\n",
    "X_test_tfidf = np.hstack((X_test_word.toarray(), X_test_char.toarray()))\n",
    "\n",
    "# 📌 Снижаем размерность (ускоряем XGBoost)\n",
    "svd = TruncatedSVD(n_components=300)\n",
    "X_train_tfidf = svd.fit_transform(X_train_tfidf)\n",
    "X_test_tfidf = svd.transform(X_test_tfidf)\n"
   ]
  },
  {
   "cell_type": "code",
   "execution_count": 10,
   "metadata": {},
   "outputs": [
    {
     "data": {
      "text/html": [
       "<style>#sk-container-id-1 {color: black;background-color: white;}#sk-container-id-1 pre{padding: 0;}#sk-container-id-1 div.sk-toggleable {background-color: white;}#sk-container-id-1 label.sk-toggleable__label {cursor: pointer;display: block;width: 100%;margin-bottom: 0;padding: 0.3em;box-sizing: border-box;text-align: center;}#sk-container-id-1 label.sk-toggleable__label-arrow:before {content: \"▸\";float: left;margin-right: 0.25em;color: #696969;}#sk-container-id-1 label.sk-toggleable__label-arrow:hover:before {color: black;}#sk-container-id-1 div.sk-estimator:hover label.sk-toggleable__label-arrow:before {color: black;}#sk-container-id-1 div.sk-toggleable__content {max-height: 0;max-width: 0;overflow: hidden;text-align: left;background-color: #f0f8ff;}#sk-container-id-1 div.sk-toggleable__content pre {margin: 0.2em;color: black;border-radius: 0.25em;background-color: #f0f8ff;}#sk-container-id-1 input.sk-toggleable__control:checked~div.sk-toggleable__content {max-height: 200px;max-width: 100%;overflow: auto;}#sk-container-id-1 input.sk-toggleable__control:checked~label.sk-toggleable__label-arrow:before {content: \"▾\";}#sk-container-id-1 div.sk-estimator input.sk-toggleable__control:checked~label.sk-toggleable__label {background-color: #d4ebff;}#sk-container-id-1 div.sk-label input.sk-toggleable__control:checked~label.sk-toggleable__label {background-color: #d4ebff;}#sk-container-id-1 input.sk-hidden--visually {border: 0;clip: rect(1px 1px 1px 1px);clip: rect(1px, 1px, 1px, 1px);height: 1px;margin: -1px;overflow: hidden;padding: 0;position: absolute;width: 1px;}#sk-container-id-1 div.sk-estimator {font-family: monospace;background-color: #f0f8ff;border: 1px dotted black;border-radius: 0.25em;box-sizing: border-box;margin-bottom: 0.5em;}#sk-container-id-1 div.sk-estimator:hover {background-color: #d4ebff;}#sk-container-id-1 div.sk-parallel-item::after {content: \"\";width: 100%;border-bottom: 1px solid gray;flex-grow: 1;}#sk-container-id-1 div.sk-label:hover label.sk-toggleable__label {background-color: #d4ebff;}#sk-container-id-1 div.sk-serial::before {content: \"\";position: absolute;border-left: 1px solid gray;box-sizing: border-box;top: 0;bottom: 0;left: 50%;z-index: 0;}#sk-container-id-1 div.sk-serial {display: flex;flex-direction: column;align-items: center;background-color: white;padding-right: 0.2em;padding-left: 0.2em;position: relative;}#sk-container-id-1 div.sk-item {position: relative;z-index: 1;}#sk-container-id-1 div.sk-parallel {display: flex;align-items: stretch;justify-content: center;background-color: white;position: relative;}#sk-container-id-1 div.sk-item::before, #sk-container-id-1 div.sk-parallel-item::before {content: \"\";position: absolute;border-left: 1px solid gray;box-sizing: border-box;top: 0;bottom: 0;left: 50%;z-index: -1;}#sk-container-id-1 div.sk-parallel-item {display: flex;flex-direction: column;z-index: 1;position: relative;background-color: white;}#sk-container-id-1 div.sk-parallel-item:first-child::after {align-self: flex-end;width: 50%;}#sk-container-id-1 div.sk-parallel-item:last-child::after {align-self: flex-start;width: 50%;}#sk-container-id-1 div.sk-parallel-item:only-child::after {width: 0;}#sk-container-id-1 div.sk-dashed-wrapped {border: 1px dashed gray;margin: 0 0.4em 0.5em 0.4em;box-sizing: border-box;padding-bottom: 0.4em;background-color: white;}#sk-container-id-1 div.sk-label label {font-family: monospace;font-weight: bold;display: inline-block;line-height: 1.2em;}#sk-container-id-1 div.sk-label-container {text-align: center;}#sk-container-id-1 div.sk-container {/* jupyter's `normalize.less` sets `[hidden] { display: none; }` but bootstrap.min.css set `[hidden] { display: none !important; }` so we also need the `!important` here to be able to override the default hidden behavior on the sphinx rendered scikit-learn.org. See: https://github.com/scikit-learn/scikit-learn/issues/21755 */display: inline-block !important;position: relative;}#sk-container-id-1 div.sk-text-repr-fallback {display: none;}</style><div id=\"sk-container-id-1\" class=\"sk-top-container\"><div class=\"sk-text-repr-fallback\"><pre>XGBRegressor(base_score=None, booster=None, callbacks=None,\n",
       "             colsample_bylevel=None, colsample_bynode=None,\n",
       "             colsample_bytree=None, device=None, early_stopping_rounds=None,\n",
       "             enable_categorical=False, eval_metric=None, feature_types=None,\n",
       "             feature_weights=None, gamma=None, grow_policy=None,\n",
       "             importance_type=None, interaction_constraints=None,\n",
       "             learning_rate=0.1, max_bin=None, max_cat_threshold=None,\n",
       "             max_cat_to_onehot=None, max_delta_step=None, max_depth=None,\n",
       "             max_leaves=None, min_child_weight=None, missing=nan,\n",
       "             monotone_constraints=None, multi_strategy=None, n_estimators=1000,\n",
       "             n_jobs=None, num_parallel_tree=None, ...)</pre><b>In a Jupyter environment, please rerun this cell to show the HTML representation or trust the notebook. <br />On GitHub, the HTML representation is unable to render, please try loading this page with nbviewer.org.</b></div><div class=\"sk-container\" hidden><div class=\"sk-item\"><div class=\"sk-estimator sk-toggleable\"><input class=\"sk-toggleable__control sk-hidden--visually\" id=\"sk-estimator-id-1\" type=\"checkbox\" checked><label for=\"sk-estimator-id-1\" class=\"sk-toggleable__label sk-toggleable__label-arrow\">XGBRegressor</label><div class=\"sk-toggleable__content\"><pre>XGBRegressor(base_score=None, booster=None, callbacks=None,\n",
       "             colsample_bylevel=None, colsample_bynode=None,\n",
       "             colsample_bytree=None, device=None, early_stopping_rounds=None,\n",
       "             enable_categorical=False, eval_metric=None, feature_types=None,\n",
       "             feature_weights=None, gamma=None, grow_policy=None,\n",
       "             importance_type=None, interaction_constraints=None,\n",
       "             learning_rate=0.1, max_bin=None, max_cat_threshold=None,\n",
       "             max_cat_to_onehot=None, max_delta_step=None, max_depth=None,\n",
       "             max_leaves=None, min_child_weight=None, missing=nan,\n",
       "             monotone_constraints=None, multi_strategy=None, n_estimators=1000,\n",
       "             n_jobs=None, num_parallel_tree=None, ...)</pre></div></div></div></div></div>"
      ],
      "text/plain": [
       "XGBRegressor(base_score=None, booster=None, callbacks=None,\n",
       "             colsample_bylevel=None, colsample_bynode=None,\n",
       "             colsample_bytree=None, device=None, early_stopping_rounds=None,\n",
       "             enable_categorical=False, eval_metric=None, feature_types=None,\n",
       "             feature_weights=None, gamma=None, grow_policy=None,\n",
       "             importance_type=None, interaction_constraints=None,\n",
       "             learning_rate=0.1, max_bin=None, max_cat_threshold=None,\n",
       "             max_cat_to_onehot=None, max_delta_step=None, max_depth=None,\n",
       "             max_leaves=None, min_child_weight=None, missing=nan,\n",
       "             monotone_constraints=None, multi_strategy=None, n_estimators=1000,\n",
       "             n_jobs=None, num_parallel_tree=None, ...)"
      ]
     },
     "execution_count": 10,
     "metadata": {},
     "output_type": "execute_result"
    }
   ],
   "source": [
    "model = XGBRegressor(\n",
    "    objective=\"reg:squarederror\",\n",
    "    n_estimators=1000,\n",
    "    learning_rate=0.1,\n",
    "    random_state=42\n",
    ") \n",
    "model.fit(X_train_tfidf, y_train)"
   ]
  },
  {
   "cell_type": "code",
   "execution_count": 18,
   "metadata": {},
   "outputs": [
    {
     "name": "stdout",
     "output_type": "stream",
     "text": [
      "RMSE: 25.60666372467532\n"
     ]
    }
   ],
   "source": [
    "import numpy as np\n",
    "y_pred = model.predict(X_test_tfidf)\n",
    "mse = mean_squared_error(y_test, y_pred)\n",
    "rmse = np.sqrt(mse)\n",
    "print(f\"RMSE: {rmse}\")\n"
   ]
  },
  {
   "cell_type": "code",
   "execution_count": 12,
   "metadata": {},
   "outputs": [
    {
     "name": "stderr",
     "output_type": "stream",
     "text": [
      "[I 2025-03-21 18:36:52,996] A new study created in memory with name: no-name-203acf7a-6a25-4b8d-ac98-2d9edbdf846b\n",
      "[I 2025-03-21 18:37:18,534] Trial 0 finished with value: 27.82259798427788 and parameters: {'n_estimators': 277, 'max_depth': 8, 'learning_rate': 0.29519020026078546, 'subsample': 0.9340062883729057, 'colsample_bytree': 0.9863125171876019, 'gamma': 2.456336327288, 'reg_alpha': 0.09260711127483323, 'reg_lambda': 0.14287807652448126}. Best is trial 0 with value: 27.82259798427788.\n",
      "[I 2025-03-21 18:37:59,823] Trial 1 finished with value: 25.913784654727824 and parameters: {'n_estimators': 505, 'max_depth': 9, 'learning_rate': 0.07867985056591743, 'subsample': 0.8959252292372546, 'colsample_bytree': 0.6899935208270186, 'gamma': 1.5486950123635075, 'reg_alpha': 0.7715241814324901, 'reg_lambda': 0.5074466418319903}. Best is trial 1 with value: 25.913784654727824.\n",
      "[I 2025-03-21 18:38:15,361] Trial 2 finished with value: 26.41972797400392 and parameters: {'n_estimators': 579, 'max_depth': 5, 'learning_rate': 0.14518604950676012, 'subsample': 0.9334428582153168, 'colsample_bytree': 0.6517247646583834, 'gamma': 1.627061733381504, 'reg_alpha': 0.5027181053615091, 'reg_lambda': 0.3839478397876751}. Best is trial 1 with value: 25.913784654727824.\n",
      "[I 2025-03-21 18:39:04,616] Trial 3 finished with value: 28.195222267533282 and parameters: {'n_estimators': 708, 'max_depth': 10, 'learning_rate': 0.29079725055115113, 'subsample': 0.9597928604809974, 'colsample_bytree': 0.813942025140632, 'gamma': 1.6958057700133777, 'reg_alpha': 0.6328826291178002, 'reg_lambda': 0.40043018278785425}. Best is trial 1 with value: 25.913784654727824.\n",
      "[I 2025-03-21 18:39:31,788] Trial 4 finished with value: 25.372274531494373 and parameters: {'n_estimators': 587, 'max_depth': 6, 'learning_rate': 0.03751525795300594, 'subsample': 0.7395836974925907, 'colsample_bytree': 0.6976325264688112, 'gamma': 3.270528063127599, 'reg_alpha': 0.5426682756076593, 'reg_lambda': 0.9813687931121843}. Best is trial 4 with value: 25.372274531494373.\n",
      "[I 2025-03-21 18:39:42,742] Trial 5 finished with value: 25.505043044488843 and parameters: {'n_estimators': 473, 'max_depth': 4, 'learning_rate': 0.07098548244161408, 'subsample': 0.914593384584822, 'colsample_bytree': 0.8766062523523845, 'gamma': 2.296310926564062, 'reg_alpha': 0.2789674899863359, 'reg_lambda': 0.22150564987266796}. Best is trial 4 with value: 25.372274531494373.\n",
      "[I 2025-03-21 18:40:37,224] Trial 6 finished with value: 25.3078561234035 and parameters: {'n_estimators': 949, 'max_depth': 6, 'learning_rate': 0.017830398070978744, 'subsample': 0.9367410656101536, 'colsample_bytree': 0.7446462663657842, 'gamma': 3.848528380583417, 'reg_alpha': 0.07819820847287628, 'reg_lambda': 0.9112874904047432}. Best is trial 6 with value: 25.3078561234035.\n",
      "[I 2025-03-21 18:41:12,601] Trial 7 finished with value: 25.937302385694895 and parameters: {'n_estimators': 403, 'max_depth': 9, 'learning_rate': 0.07034432961727025, 'subsample': 0.7239030583814462, 'colsample_bytree': 0.6851284294399498, 'gamma': 4.1884827957051245, 'reg_alpha': 0.2165070594473818, 'reg_lambda': 0.3609524375813856}. Best is trial 6 with value: 25.3078561234035.\n",
      "[I 2025-03-21 18:42:29,965] Trial 8 finished with value: 25.53435747576437 and parameters: {'n_estimators': 897, 'max_depth': 8, 'learning_rate': 0.026206091261221715, 'subsample': 0.9249947555527335, 'colsample_bytree': 0.6599432419825197, 'gamma': 3.2847935643412116, 'reg_alpha': 0.16279161636599337, 'reg_lambda': 0.9951603412112571}. Best is trial 6 with value: 25.3078561234035.\n",
      "[I 2025-03-21 18:42:44,022] Trial 9 finished with value: 25.91301173692261 and parameters: {'n_estimators': 217, 'max_depth': 6, 'learning_rate': 0.10410464897670985, 'subsample': 0.7292938956644537, 'colsample_bytree': 0.809480182745501, 'gamma': 2.119060244779045, 'reg_alpha': 0.40612838820126407, 'reg_lambda': 0.7931109888782454}. Best is trial 6 with value: 25.3078561234035.\n",
      "[I 2025-03-21 18:42:57,879] Trial 10 finished with value: 24.320234615244363 and parameters: {'n_estimators': 967, 'max_depth': 3, 'learning_rate': 0.015295519181329027, 'subsample': 0.6202699609058118, 'colsample_bytree': 0.9091564318571023, 'gamma': 0.0010392266089604973, 'reg_alpha': 0.9791741442082347, 'reg_lambda': 0.636640703739088}. Best is trial 10 with value: 24.320234615244363.\n",
      "[I 2025-03-21 18:43:11,488] Trial 11 finished with value: 24.166222366729446 and parameters: {'n_estimators': 942, 'max_depth': 3, 'learning_rate': 0.012315780632131441, 'subsample': 0.6136382318466403, 'colsample_bytree': 0.9276090776522317, 'gamma': 0.021815043171913295, 'reg_alpha': 0.9713989127752162, 'reg_lambda': 0.6679676930195775}. Best is trial 11 with value: 24.166222366729446.\n",
      "[I 2025-03-21 18:43:23,288] Trial 12 finished with value: 24.097701120552802 and parameters: {'n_estimators': 816, 'max_depth': 3, 'learning_rate': 0.011053794383156137, 'subsample': 0.625097425803656, 'colsample_bytree': 0.9337256434696137, 'gamma': 0.19247709317374875, 'reg_alpha': 0.9811364811192788, 'reg_lambda': 0.6685846558971221}. Best is trial 12 with value: 24.097701120552802.\n",
      "[I 2025-03-21 18:43:34,915] Trial 13 finished with value: 24.103278140745488 and parameters: {'n_estimators': 772, 'max_depth': 3, 'learning_rate': 0.011044121038448483, 'subsample': 0.6178233811560935, 'colsample_bytree': 0.9984705594729602, 'gamma': 0.06621784290186117, 'reg_alpha': 0.9751070154775866, 'reg_lambda': 0.7018031895701047}. Best is trial 12 with value: 24.097701120552802.\n",
      "[I 2025-03-21 18:43:55,701] Trial 14 finished with value: 25.081592295692833 and parameters: {'n_estimators': 775, 'max_depth': 4, 'learning_rate': 0.02822454905857315, 'subsample': 0.668342663054597, 'colsample_bytree': 0.9965789347648153, 'gamma': 0.7618641882288857, 'reg_alpha': 0.8033192117799701, 'reg_lambda': 0.7126940720760286}. Best is trial 12 with value: 24.097701120552802.\n",
      "[I 2025-03-21 18:44:16,331] Trial 15 finished with value: 24.307186717837777 and parameters: {'n_estimators': 761, 'max_depth': 4, 'learning_rate': 0.010272166187346096, 'subsample': 0.830828006221697, 'colsample_bytree': 0.9459990941377864, 'gamma': 0.8248000367586827, 'reg_alpha': 0.8301895732188054, 'reg_lambda': 0.5623581954251667}. Best is trial 12 with value: 24.097701120552802.\n",
      "[I 2025-03-21 18:44:27,321] Trial 16 finished with value: 24.404533469369042 and parameters: {'n_estimators': 822, 'max_depth': 3, 'learning_rate': 0.0215052263694832, 'subsample': 0.6535662235207058, 'colsample_bytree': 0.8639552051532109, 'gamma': 0.6896001556595915, 'reg_alpha': 0.6955241491379143, 'reg_lambda': 0.7845085988439454}. Best is trial 12 with value: 24.097701120552802.\n",
      "[I 2025-03-21 18:44:52,256] Trial 17 finished with value: 25.457156802350866 and parameters: {'n_estimators': 665, 'max_depth': 5, 'learning_rate': 0.042289695940319484, 'subsample': 0.8042546781594616, 'colsample_bytree': 0.9558033888093342, 'gamma': 4.9496242105448065, 'reg_alpha': 0.9004284223096737, 'reg_lambda': 0.0022717267946867903}. Best is trial 12 with value: 24.097701120552802.\n",
      "[I 2025-03-21 18:45:24,757] Trial 18 finished with value: 24.624146273600484 and parameters: {'n_estimators': 869, 'max_depth': 5, 'learning_rate': 0.010183364789176044, 'subsample': 0.683649598859206, 'colsample_bytree': 0.6072278984988804, 'gamma': 0.5143812406831861, 'reg_alpha': 0.6649536796045139, 'reg_lambda': 0.8318537431987578}. Best is trial 12 with value: 24.097701120552802.\n",
      "[I 2025-03-21 18:45:33,992] Trial 19 finished with value: 24.099501264828547 and parameters: {'n_estimators': 660, 'max_depth': 3, 'learning_rate': 0.014973266798472473, 'subsample': 0.6013860830325588, 'colsample_bytree': 0.8947409748680238, 'gamma': 1.1413880262687166, 'reg_alpha': 0.893706598128185, 'reg_lambda': 0.6242125693078104}. Best is trial 12 with value: 24.097701120552802.\n",
      "[I 2025-03-21 18:46:38,258] Trial 20 finished with value: 25.286601221642 and parameters: {'n_estimators': 663, 'max_depth': 7, 'learning_rate': 0.017280959748950168, 'subsample': 0.8517810861318313, 'colsample_bytree': 0.8604422168299326, 'gamma': 1.2572593892906876, 'reg_alpha': 0.8551172278374048, 'reg_lambda': 0.5658328157257604}. Best is trial 12 with value: 24.097701120552802.\n",
      "[I 2025-03-21 18:46:48,684] Trial 21 finished with value: 24.163149629646643 and parameters: {'n_estimators': 759, 'max_depth': 3, 'learning_rate': 0.013861492292504801, 'subsample': 0.6015084549294512, 'colsample_bytree': 0.903692192116024, 'gamma': 0.38355671002116154, 'reg_alpha': 0.9817867711011985, 'reg_lambda': 0.704071249291888}. Best is trial 12 with value: 24.097701120552802.\n",
      "[I 2025-03-21 18:47:11,060] Trial 22 finished with value: 24.84309186384698 and parameters: {'n_estimators': 848, 'max_depth': 4, 'learning_rate': 0.021416122940134064, 'subsample': 0.6452507775185259, 'colsample_bytree': 0.9621643871293497, 'gamma': 1.0873299299839168, 'reg_alpha': 0.8845287368787624, 'reg_lambda': 0.5978159061267752}. Best is trial 12 with value: 24.097701120552802.\n",
      "[I 2025-03-21 18:47:20,074] Trial 23 finished with value: 24.089117749994845 and parameters: {'n_estimators': 681, 'max_depth': 3, 'learning_rate': 0.0101474486506309, 'subsample': 0.6943736840801578, 'colsample_bytree': 0.8359193583434246, 'gamma': 0.27302769822754563, 'reg_alpha': 0.7420552167856177, 'reg_lambda': 0.4437720096975576}. Best is trial 23 with value: 24.089117749994845.\n",
      "[I 2025-03-21 18:47:36,778] Trial 24 finished with value: 24.462238007765006 and parameters: {'n_estimators': 646, 'max_depth': 4, 'learning_rate': 0.014525605155517155, 'subsample': 0.6934389040976167, 'colsample_bytree': 0.8389208048858543, 'gamma': 1.3083328058545785, 'reg_alpha': 0.7426428923458025, 'reg_lambda': 0.45285311509656323}. Best is trial 23 with value: 24.089117749994845.\n",
      "[I 2025-03-21 18:47:56,061] Trial 25 finished with value: 25.18357197670851 and parameters: {'n_estimators': 516, 'max_depth': 5, 'learning_rate': 0.03275455678884283, 'subsample': 0.7620206585917318, 'colsample_bytree': 0.7793592286469571, 'gamma': 0.36106234453827346, 'reg_alpha': 0.581067956306094, 'reg_lambda': 0.2933787874264857}. Best is trial 23 with value: 24.089117749994845.\n",
      "[I 2025-03-21 18:48:05,175] Trial 26 finished with value: 24.37422291003007 and parameters: {'n_estimators': 709, 'max_depth': 3, 'learning_rate': 0.024392894151537763, 'subsample': 0.6468712540522057, 'colsample_bytree': 0.7664657278553754, 'gamma': 1.055239978168121, 'reg_alpha': 0.7163882354314951, 'reg_lambda': 0.48307128000907906}. Best is trial 23 with value: 24.089117749994845.\n",
      "[I 2025-03-21 18:48:15,602] Trial 27 finished with value: 24.284413827648393 and parameters: {'n_estimators': 373, 'max_depth': 4, 'learning_rate': 0.018163107271350835, 'subsample': 0.7040897477170617, 'colsample_bytree': 0.8967912920778699, 'gamma': 2.90505808369989, 'reg_alpha': 0.9061722631060002, 'reg_lambda': 0.5260988481375193}. Best is trial 23 with value: 24.089117749994845.\n",
      "[I 2025-03-21 18:48:23,056] Trial 28 finished with value: 24.94369194476961 and parameters: {'n_estimators': 562, 'max_depth': 3, 'learning_rate': 0.05251505363248361, 'subsample': 0.6393804676209484, 'colsample_bytree': 0.8481454628342329, 'gamma': 2.0100873988582184, 'reg_alpha': 0.8006618970210375, 'reg_lambda': 0.2950490124294887}. Best is trial 23 with value: 24.089117749994845.\n",
      "[I 2025-03-21 18:49:51,917] Trial 29 finished with value: 25.437682408696677 and parameters: {'n_estimators': 638, 'max_depth': 7, 'learning_rate': 0.012328361489838822, 'subsample': 0.997722554673356, 'colsample_bytree': 0.8343911156028933, 'gamma': 0.3560764129480243, 'reg_alpha': 0.002142561453119085, 'reg_lambda': 0.07657350602630064}. Best is trial 23 with value: 24.089117749994845.\n",
      "[I 2025-03-21 18:50:24,064] Trial 30 finished with value: 25.002919588869734 and parameters: {'n_estimators': 713, 'max_depth': 5, 'learning_rate': 0.01995968699811934, 'subsample': 0.7841533187290018, 'colsample_bytree': 0.8935517427451776, 'gamma': 2.604572968851052, 'reg_alpha': 0.38427000620506796, 'reg_lambda': 0.870207482940773}. Best is trial 23 with value: 24.089117749994845.\n",
      "[I 2025-03-21 18:50:39,240] Trial 31 finished with value: 24.08560220268659 and parameters: {'n_estimators': 795, 'max_depth': 3, 'learning_rate': 0.011381683993033076, 'subsample': 0.6229389452545009, 'colsample_bytree': 0.9748065818485535, 'gamma': 0.03673021234970032, 'reg_alpha': 0.9071719563968507, 'reg_lambda': 0.7363217787471088}. Best is trial 31 with value: 24.08560220268659.\n",
      "[I 2025-03-21 18:50:52,077] Trial 32 finished with value: 24.16826655733263 and parameters: {'n_estimators': 830, 'max_depth': 3, 'learning_rate': 0.013373796941271382, 'subsample': 0.6763388847264107, 'colsample_bytree': 0.9667977720884434, 'gamma': 0.8992656120231974, 'reg_alpha': 0.907357000291958, 'reg_lambda': 0.7528238406490207}. Best is trial 31 with value: 24.08560220268659.\n",
      "[I 2025-03-21 18:51:16,386] Trial 33 finished with value: 24.320265510521352 and parameters: {'n_estimators': 806, 'max_depth': 4, 'learning_rate': 0.010525627641120345, 'subsample': 0.6288138833976484, 'colsample_bytree': 0.9259142219849364, 'gamma': 0.2663923926694591, 'reg_alpha': 0.7716750269607665, 'reg_lambda': 0.611722211403406}. Best is trial 31 with value: 24.08560220268659.\n",
      "[I 2025-03-21 18:51:29,717] Trial 34 finished with value: 24.244407934112264 and parameters: {'n_estimators': 913, 'max_depth': 3, 'learning_rate': 0.015233709602340221, 'subsample': 0.6001245830295556, 'colsample_bytree': 0.9272201665573965, 'gamma': 1.4310634511877642, 'reg_alpha': 0.9270437936744986, 'reg_lambda': 0.4590600079251169}. Best is trial 31 with value: 24.08560220268659.\n",
      "[I 2025-03-21 18:51:45,518] Trial 35 finished with value: 27.719832112283896 and parameters: {'n_estimators': 711, 'max_depth': 4, 'learning_rate': 0.20858119566925834, 'subsample': 0.666775891704989, 'colsample_bytree': 0.9713451991997742, 'gamma': 0.6347932284886042, 'reg_alpha': 0.6210808870547138, 'reg_lambda': 0.6583862846562811}. Best is trial 31 with value: 24.08560220268659.\n",
      "[I 2025-03-21 18:54:17,820] Trial 36 finished with value: 25.16053460302315 and parameters: {'n_estimators': 605, 'max_depth': 10, 'learning_rate': 0.012678744804044649, 'subsample': 0.6945545086623912, 'colsample_bytree': 0.8766710439782305, 'gamma': 1.8783023877198106, 'reg_alpha': 0.8452518726054374, 'reg_lambda': 0.4087644891936679}. Best is trial 31 with value: 24.08560220268659.\n"
     ]
    },
    {
     "name": "stdout",
     "output_type": "stream",
     "text": [
      "Лучшие параметры:\n",
      "{'n_estimators': 795, 'max_depth': 3, 'learning_rate': 0.011381683993033076, 'subsample': 0.6229389452545009, 'colsample_bytree': 0.9748065818485535, 'gamma': 0.03673021234970032, 'reg_alpha': 0.9071719563968507, 'reg_lambda': 0.7363217787471088}\n",
      "Лучший RMSE: 24.0856\n"
     ]
    }
   ],
   "source": [
    "import optuna\n",
    "from xgboost import XGBRegressor\n",
    "from sklearn.model_selection import cross_val_score\n",
    "from sklearn.metrics import mean_squared_error\n",
    "import numpy as np\n",
    "\n",
    "def objective(trial):\n",
    "    params = {\n",
    "        'n_estimators': trial.suggest_int('n_estimators', 200, 1000),\n",
    "        'max_depth': trial.suggest_int('max_depth', 3, 10),\n",
    "        'learning_rate': trial.suggest_float('learning_rate', 0.01, 0.3, log=True),\n",
    "        'subsample': trial.suggest_float('subsample', 0.6, 1.0),\n",
    "        'colsample_bytree': trial.suggest_float('colsample_bytree', 0.6, 1.0),\n",
    "        'gamma': trial.suggest_float('gamma', 0, 5),\n",
    "        'reg_alpha': trial.suggest_float('reg_alpha', 0.0, 1.0),\n",
    "        'reg_lambda': trial.suggest_float('reg_lambda', 0.0, 1.0),\n",
    "        'objective': 'reg:squarederror',\n",
    "        'random_state': 42,\n",
    "        'n_jobs': -1\n",
    "    }\n",
    "\n",
    "    model = XGBRegressor(**params)\n",
    "    \n",
    "    # Кросс-валидация\n",
    "    score = cross_val_score(\n",
    "        model, X_train_tfidf, y_train,\n",
    "        scoring='neg_root_mean_squared_error',\n",
    "        cv=3,\n",
    "        n_jobs=-1\n",
    "    )\n",
    "    \n",
    "    return -score.mean()  # хотим минимизировать RMSE\n",
    "\n",
    "study = optuna.create_study(direction='minimize')\n",
    "study.optimize(objective, n_trials=50, timeout=900)  # 50 запусков или 15 минут\n",
    "\n",
    "print(\"Лучшие параметры:\")\n",
    "print(study.best_params)\n",
    "print(f\"Лучший RMSE: {study.best_value:.4f}\")"
   ]
  },
  {
   "cell_type": "code",
   "execution_count": 16,
   "metadata": {},
   "outputs": [
    {
     "name": "stdout",
     "output_type": "stream",
     "text": [
      "📊 RMSE на тесте: 23.7726\n"
     ]
    }
   ],
   "source": [
    "best_model = XGBRegressor(\n",
    "    **study.best_params,\n",
    "    n_jobs=-1,\n",
    "    random_state=42\n",
    ")\n",
    "\n",
    "best_model.fit(X_train_tfidf, y_train)\n",
    "y_pred = best_model.predict(X_test_tfidf)\n",
    "\n",
    "rmse = mean_squared_error(y_test, y_pred, squared=False)\n",
    "print(f\"📊 RMSE на тесте: {rmse:.4f}\")"
   ]
  }
 ],
 "metadata": {
  "kernelspec": {
   "display_name": "base",
   "language": "python",
   "name": "python3"
  },
  "language_info": {
   "codemirror_mode": {
    "name": "ipython",
    "version": 3
   },
   "file_extension": ".py",
   "mimetype": "text/x-python",
   "name": "python",
   "nbconvert_exporter": "python",
   "pygments_lexer": "ipython3",
   "version": "3.11.5"
  }
 },
 "nbformat": 4,
 "nbformat_minor": 2
}
