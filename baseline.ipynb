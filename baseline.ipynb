{
 "cells": [
  {
   "cell_type": "code",
   "execution_count": 2,
   "metadata": {},
   "outputs": [
    {
     "ename": "ImportError",
     "evalue": "cannot import name 'load_jsons_data' from 'utils' (/Users/mac/Desktop/Recommended System/utils.py)",
     "output_type": "error",
     "traceback": [
      "\u001b[0;31m---------------------------------------------------------------------------\u001b[0m",
      "\u001b[0;31mImportError\u001b[0m                               Traceback (most recent call last)",
      "Cell \u001b[0;32mIn[2], line 12\u001b[0m\n\u001b[1;32m      9\u001b[0m \u001b[38;5;28;01mfrom\u001b[39;00m\u001b[38;5;250m \u001b[39m\u001b[38;5;21;01mxgboost\u001b[39;00m\u001b[38;5;250m \u001b[39m\u001b[38;5;28;01mimport\u001b[39;00m XGBRegressor\n\u001b[1;32m     11\u001b[0m \u001b[38;5;28;01mfrom\u001b[39;00m\u001b[38;5;250m \u001b[39m\u001b[38;5;21;01menv\u001b[39;00m\u001b[38;5;250m \u001b[39m\u001b[38;5;28;01mimport\u001b[39;00m DATA_DIR\n\u001b[0;32m---> 12\u001b[0m \u001b[38;5;28;01mfrom\u001b[39;00m\u001b[38;5;250m \u001b[39m\u001b[38;5;21;01mutils\u001b[39;00m\u001b[38;5;250m \u001b[39m\u001b[38;5;28;01mimport\u001b[39;00m load_jsons_data, delete_parts_of_lyrics\n",
      "\u001b[0;31mImportError\u001b[0m: cannot import name 'load_jsons_data' from 'utils' (/Users/mac/Desktop/Recommended System/utils.py)"
     ]
    }
   ],
   "source": [
    "import numpy as np\n",
    "import optuna\n",
    "\n",
    "from sklearn.feature_extraction.text import TfidfVectorizer\n",
    "from sklearn.model_selection import train_test_split, cross_val_score\n",
    "from sklearn.metrics import mean_squared_error\n",
    "from sklearn.decomposition import TruncatedSVD\n",
    "\n",
    "from xgboost import XGBRegressor\n",
    "\n",
    "from env import DATA_DIR\n",
    "from utils import load_jsons_data, delete_parts_of_lyrics"
   ]
  },
  {
   "cell_type": "code",
   "execution_count": 34,
   "metadata": {},
   "outputs": [],
   "source": [
    "df = load_jsons_data(data_dir=DATA_DIR, \n",
    "                    columns=[\"lyrics\", \"popularity\"])"
   ]
  },
  {
   "cell_type": "code",
   "execution_count": 35,
   "metadata": {},
   "outputs": [],
   "source": [
    "df[\"lyrics\"] = df[\"lyrics\"].str.lower()\n",
    "df[\"lyrics\"] = df[\"lyrics\"].str.replace(r'[^\\w\\s]', '')\n",
    "df[\"lyrics\"] = df[\"lyrics\"].apply(delete_parts_of_lyrics)\n",
    "df[\"lyrics\"] = df[\"lyrics\"].str.replace(r'\\d+', '')\n",
    "df[\"lyrics\"] = df[\"lyrics\"].str.strip()\n",
    "# Может стоит удалить цифры?\n",
    "# Может стоит использовать лемматизацию или стемминг?\n",
    "# Фильтрация стоп-слов?"
   ]
  },
  {
   "cell_type": "code",
   "execution_count": 36,
   "metadata": {},
   "outputs": [],
   "source": [
    "X_train, X_test, y_train, y_test = train_test_split(df[\"lyrics\"], df[\"popularity\"], test_size=0.2, random_state=42)"
   ]
  },
  {
   "cell_type": "code",
   "execution_count": 37,
   "metadata": {},
   "outputs": [],
   "source": [
    "# TF-IDF: используем слова + символы, без `stop_words`\n",
    "word_vectorizer = TfidfVectorizer(ngram_range=(2, 4), \n",
    "                                  max_features=75000, \n",
    "                                  min_df=2, \n",
    "                                  max_df=0.95)\n",
    "char_vectorizer = TfidfVectorizer(analyzer='char_wb', \n",
    "                                  ngram_range=(3, 6), \n",
    "                                  max_features=20000,\n",
    "                                  min_df=2,\n",
    "                                  max_df=0.95)"
   ]
  },
  {
   "cell_type": "code",
   "execution_count": 38,
   "metadata": {},
   "outputs": [],
   "source": [
    "# Обучаем TF-IDF\n",
    "X_train_word = word_vectorizer.fit_transform(X_train)\n",
    "X_train_char = char_vectorizer.fit_transform(X_train)\n",
    "X_train_tfidf = np.hstack((X_train_word.toarray(), X_train_char.toarray()))\n",
    "\n",
    "X_test_word = word_vectorizer.transform(X_test)\n",
    "X_test_char = char_vectorizer.transform(X_test)\n",
    "X_test_tfidf = np.hstack((X_test_word.toarray(), X_test_char.toarray()))"
   ]
  },
  {
   "cell_type": "code",
   "execution_count": 39,
   "metadata": {},
   "outputs": [],
   "source": [
    "# Снижаем размерность (ускоряем XGBoost)\n",
    "svd = TruncatedSVD(n_components=500)\n",
    "X_train_tfidf = svd.fit_transform(X_train_tfidf)\n",
    "X_test_tfidf = svd.transform(X_test_tfidf)"
   ]
  },
  {
   "cell_type": "code",
   "execution_count": 40,
   "metadata": {},
   "outputs": [
    {
     "name": "stderr",
     "output_type": "stream",
     "text": [
      "[I 2025-03-21 23:43:48,883] A new study created in memory with name: no-name-3bda876a-ad9f-4c92-847a-ad3e048be3d5\n",
      "[I 2025-03-21 23:43:59,356] Trial 0 finished with value: 24.231581518446642 and parameters: {'n_estimators': 530, 'max_depth': 4, 'learning_rate': 0.0033423789022136805, 'subsample': 0.9758119413632873, 'colsample_bytree': 0.6081248510260877, 'gamma': 4.984260597354197, 'reg_alpha': 0.30834580989593857, 'reg_lambda': 0.3454978113070515}. Best is trial 0 with value: 24.231581518446642.\n",
      "[I 2025-03-21 23:44:04,296] Trial 1 finished with value: 24.142122392087998 and parameters: {'n_estimators': 786, 'max_depth': 2, 'learning_rate': 0.015651497227233312, 'subsample': 0.7106518901039729, 'colsample_bytree': 0.8350715903082455, 'gamma': 5.601266786091614, 'reg_alpha': 0.45444979247350037, 'reg_lambda': 0.24458239654253877}. Best is trial 1 with value: 24.142122392087998.\n",
      "[I 2025-03-21 23:44:17,630] Trial 2 finished with value: 24.321947196095536 and parameters: {'n_estimators': 797, 'max_depth': 4, 'learning_rate': 0.0018464440348950608, 'subsample': 0.6260515558101879, 'colsample_bytree': 0.6556034728627197, 'gamma': 3.549912208511739, 'reg_alpha': 0.32389365018963645, 'reg_lambda': 0.288020331083347}. Best is trial 1 with value: 24.142122392087998.\n",
      "[I 2025-03-21 23:44:21,007] Trial 3 finished with value: 24.5690466181118 and parameters: {'n_estimators': 564, 'max_depth': 2, 'learning_rate': 0.0024709859940322027, 'subsample': 0.9431949958780976, 'colsample_bytree': 0.8705967380780477, 'gamma': 4.686669432503914, 'reg_alpha': 0.3361257318459278, 'reg_lambda': 0.3457026769925523}. Best is trial 1 with value: 24.142122392087998.\n",
      "[I 2025-03-21 23:44:27,420] Trial 4 finished with value: 24.286314768124942 and parameters: {'n_estimators': 552, 'max_depth': 3, 'learning_rate': 0.02072424386362388, 'subsample': 0.9191672563583032, 'colsample_bytree': 0.953563617864886, 'gamma': 6.256009708861558, 'reg_alpha': 0.36995664528226757, 'reg_lambda': 0.2664619939906152}. Best is trial 1 with value: 24.142122392087998.\n",
      "[I 2025-03-21 23:44:37,011] Trial 5 finished with value: 24.33584395527154 and parameters: {'n_estimators': 889, 'max_depth': 3, 'learning_rate': 0.001831973730595301, 'subsample': 0.625583567003052, 'colsample_bytree': 0.8834778431915926, 'gamma': 6.52818285332655, 'reg_alpha': 0.30378664912194686, 'reg_lambda': 0.3786869946838999}. Best is trial 1 with value: 24.142122392087998.\n",
      "[I 2025-03-21 23:45:00,718] Trial 6 finished with value: 24.287361956974355 and parameters: {'n_estimators': 703, 'max_depth': 5, 'learning_rate': 0.0020504494191342583, 'subsample': 0.8703787001806782, 'colsample_bytree': 0.7742420536426962, 'gamma': 5.659273111466259, 'reg_alpha': 0.4476369615948253, 'reg_lambda': 0.3346230277798371}. Best is trial 1 with value: 24.142122392087998.\n",
      "[I 2025-03-21 23:45:04,800] Trial 7 finished with value: 24.171395655538873 and parameters: {'n_estimators': 694, 'max_depth': 2, 'learning_rate': 0.020981850820341832, 'subsample': 0.9265609039925572, 'colsample_bytree': 0.7936576281092877, 'gamma': 3.5116303151565327, 'reg_alpha': 0.43175245673231766, 'reg_lambda': 0.34022494380356666}. Best is trial 1 with value: 24.142122392087998.\n",
      "[I 2025-03-21 23:45:08,497] Trial 8 finished with value: 24.370344304974765 and parameters: {'n_estimators': 320, 'max_depth': 3, 'learning_rate': 0.0046381494500139595, 'subsample': 0.9927502791955357, 'colsample_bytree': 0.8641826736079927, 'gamma': 6.792279342623074, 'reg_alpha': 0.4258734035613674, 'reg_lambda': 0.2028200816465835}. Best is trial 1 with value: 24.142122392087998.\n",
      "[I 2025-03-21 23:45:44,316] Trial 9 finished with value: 24.367561083176255 and parameters: {'n_estimators': 900, 'max_depth': 5, 'learning_rate': 0.00550067361286341, 'subsample': 0.9094090983559, 'colsample_bytree': 0.9856018063373093, 'gamma': 5.176236812600656, 'reg_alpha': 0.49432893445353177, 'reg_lambda': 0.32526975930079277}. Best is trial 1 with value: 24.142122392087998.\n",
      "[I 2025-03-21 23:45:49,429] Trial 10 finished with value: 24.121018359587037 and parameters: {'n_estimators': 969, 'max_depth': 2, 'learning_rate': 0.009375550628008435, 'subsample': 0.7322224416163636, 'colsample_bytree': 0.7237309169839563, 'gamma': 4.181577834590604, 'reg_alpha': 0.4989840487523697, 'reg_lambda': 0.23238038379603426}. Best is trial 10 with value: 24.121018359587037.\n",
      "[I 2025-03-21 23:45:54,882] Trial 11 finished with value: 24.138447963366872 and parameters: {'n_estimators': 998, 'max_depth': 2, 'learning_rate': 0.010305518692550015, 'subsample': 0.721444026167356, 'colsample_bytree': 0.7238039217951288, 'gamma': 4.36560556262736, 'reg_alpha': 0.49698992935963304, 'reg_lambda': 0.22780915566199486}. Best is trial 10 with value: 24.121018359587037.\n",
      "[I 2025-03-21 23:46:00,667] Trial 12 finished with value: 24.133488884740064 and parameters: {'n_estimators': 995, 'max_depth': 2, 'learning_rate': 0.009382374039535084, 'subsample': 0.7595635228070698, 'colsample_bytree': 0.71228831082413, 'gamma': 4.294097623514177, 'reg_alpha': 0.49967325180869043, 'reg_lambda': 0.20799560384338284}. Best is trial 10 with value: 24.121018359587037.\n",
      "[I 2025-03-21 23:46:06,042] Trial 13 finished with value: 24.127702907255657 and parameters: {'n_estimators': 970, 'max_depth': 2, 'learning_rate': 0.008445980859307345, 'subsample': 0.7947426944375888, 'colsample_bytree': 0.7012761590456933, 'gamma': 3.917140187838981, 'reg_alpha': 0.47084389847141445, 'reg_lambda': 0.2119593771812508}. Best is trial 10 with value: 24.121018359587037.\n",
      "[I 2025-03-21 23:46:14,342] Trial 14 finished with value: 24.67007725606221 and parameters: {'n_estimators': 885, 'max_depth': 3, 'learning_rate': 0.0010123642636495989, 'subsample': 0.8231016389337572, 'colsample_bytree': 0.7102713389015008, 'gamma': 3.0785207621026163, 'reg_alpha': 0.46672807840702474, 'reg_lambda': 0.24888734761366982}. Best is trial 10 with value: 24.121018359587037.\n",
      "[I 2025-03-21 23:46:16,348] Trial 15 finished with value: 24.27779777477099 and parameters: {'n_estimators': 358, 'max_depth': 2, 'learning_rate': 0.008619209929671622, 'subsample': 0.8136875774765784, 'colsample_bytree': 0.6566531586009472, 'gamma': 3.8917797430563525, 'reg_alpha': 0.3992014705459508, 'reg_lambda': 0.2814518088922173}. Best is trial 10 with value: 24.121018359587037.\n",
      "[I 2025-03-21 23:46:30,126] Trial 16 finished with value: 24.99856874559893 and parameters: {'n_estimators': 814, 'max_depth': 4, 'learning_rate': 0.028860541502708576, 'subsample': 0.6849017856715052, 'colsample_bytree': 0.7469378069033867, 'gamma': 4.0387393891721635, 'reg_alpha': 0.47220188710021727, 'reg_lambda': 0.22749583398349182}. Best is trial 10 with value: 24.121018359587037.\n",
      "[I 2025-03-21 23:46:38,548] Trial 17 finished with value: 24.095709944310787 and parameters: {'n_estimators': 940, 'max_depth': 3, 'learning_rate': 0.006254897179209523, 'subsample': 0.7761940670464653, 'colsample_bytree': 0.6642982222066571, 'gamma': 3.4697973731387473, 'reg_alpha': 0.4088225558681374, 'reg_lambda': 0.3069640504894072}. Best is trial 17 with value: 24.095709944310787.\n",
      "[I 2025-03-21 23:46:46,433] Trial 18 finished with value: 24.089663780588655 and parameters: {'n_estimators': 920, 'max_depth': 3, 'learning_rate': 0.005470809185303342, 'subsample': 0.7633548138742803, 'colsample_bytree': 0.6186039368109999, 'gamma': 3.0129090787426422, 'reg_alpha': 0.38662653296224714, 'reg_lambda': 0.3126822497302077}. Best is trial 18 with value: 24.089663780588655.\n",
      "[I 2025-03-21 23:46:50,534] Trial 19 finished with value: 24.180265912649826 and parameters: {'n_estimators': 465, 'max_depth': 3, 'learning_rate': 0.005641061255860567, 'subsample': 0.8657758061055115, 'colsample_bytree': 0.6009403020866599, 'gamma': 3.23070853800262, 'reg_alpha': 0.3863755383937398, 'reg_lambda': 0.3139077146022795}. Best is trial 18 with value: 24.089663780588655.\n",
      "[I 2025-03-21 23:47:02,379] Trial 20 finished with value: 24.121812582160874 and parameters: {'n_estimators': 736, 'max_depth': 4, 'learning_rate': 0.004074135987497946, 'subsample': 0.6671596843852238, 'colsample_bytree': 0.6621627728719226, 'gamma': 3.4731983731627665, 'reg_alpha': 0.36516305718281955, 'reg_lambda': 0.37024700812979155}. Best is trial 18 with value: 24.089663780588655.\n",
      "[I 2025-03-21 23:47:10,793] Trial 21 finished with value: 24.11246634284674 and parameters: {'n_estimators': 923, 'max_depth': 3, 'learning_rate': 0.0069154562846307, 'subsample': 0.7780620506191901, 'colsample_bytree': 0.6315926625017625, 'gamma': 3.031072539344215, 'reg_alpha': 0.4140013569129153, 'reg_lambda': 0.30556241234698694}. Best is trial 18 with value: 24.089663780588655.\n",
      "[I 2025-03-21 23:47:18,330] Trial 22 finished with value: 24.1054274568516 and parameters: {'n_estimators': 854, 'max_depth': 3, 'learning_rate': 0.006440452710065672, 'subsample': 0.7756847179377189, 'colsample_bytree': 0.6342348057905177, 'gamma': 3.068448631044771, 'reg_alpha': 0.4164329392395457, 'reg_lambda': 0.3027377050926296}. Best is trial 18 with value: 24.089663780588655.\n",
      "[I 2025-03-21 23:47:26,193] Trial 23 finished with value: 24.18709350683835 and parameters: {'n_estimators': 822, 'max_depth': 3, 'learning_rate': 0.003192511316714751, 'subsample': 0.8460017768695172, 'colsample_bytree': 0.6796074701371269, 'gamma': 3.620869867826811, 'reg_alpha': 0.38446743051159465, 'reg_lambda': 0.294759802781481}. Best is trial 18 with value: 24.089663780588655.\n",
      "[I 2025-03-21 23:47:33,618] Trial 24 finished with value: 24.25004086324717 and parameters: {'n_estimators': 846, 'max_depth': 3, 'learning_rate': 0.015334709439519196, 'subsample': 0.7591677079125648, 'colsample_bytree': 0.6246090772361022, 'gamma': 3.2759921386203774, 'reg_alpha': 0.3521057241458353, 'reg_lambda': 0.39939557737059084}. Best is trial 18 with value: 24.089663780588655.\n",
      "[I 2025-03-21 23:47:48,984] Trial 25 finished with value: 24.167931953224244 and parameters: {'n_estimators': 923, 'max_depth': 4, 'learning_rate': 0.006381642728126259, 'subsample': 0.7542111037900054, 'colsample_bytree': 0.6781662562597899, 'gamma': 3.014622110212201, 'reg_alpha': 0.40786069900528066, 'reg_lambda': 0.26860319858334863}. Best is trial 18 with value: 24.089663780588655.\n",
      "[I 2025-03-21 23:47:54,980] Trial 26 finished with value: 24.200186518056018 and parameters: {'n_estimators': 632, 'max_depth': 3, 'learning_rate': 0.004103528727730609, 'subsample': 0.6861345954730206, 'colsample_bytree': 0.632252871269933, 'gamma': 3.7380431801544503, 'reg_alpha': 0.394009809315173, 'reg_lambda': 0.31839506318481825}. Best is trial 18 with value: 24.089663780588655.\n",
      "[I 2025-03-21 23:48:08,411] Trial 27 finished with value: 24.14689643294297 and parameters: {'n_estimators': 761, 'max_depth': 4, 'learning_rate': 0.003181877298873816, 'subsample': 0.7891825897088106, 'colsample_bytree': 0.7554960371599322, 'gamma': 3.3763890645045262, 'reg_alpha': 0.42604876534484476, 'reg_lambda': 0.30300800866899275}. Best is trial 18 with value: 24.089663780588655.\n",
      "[I 2025-03-21 23:48:15,712] Trial 28 finished with value: 24.216610425625003 and parameters: {'n_estimators': 843, 'max_depth': 3, 'learning_rate': 0.013374872917682166, 'subsample': 0.8265523277345255, 'colsample_bytree': 0.631961609359783, 'gamma': 4.491954052592292, 'reg_alpha': 0.3715021954819086, 'reg_lambda': 0.27398909476532235}. Best is trial 18 with value: 24.089663780588655.\n",
      "[I 2025-03-21 23:48:23,693] Trial 29 finished with value: 24.111881557326168 and parameters: {'n_estimators': 946, 'max_depth': 3, 'learning_rate': 0.007023270850861308, 'subsample': 0.7389133619041137, 'colsample_bytree': 0.6117621200220157, 'gamma': 4.893917398914925, 'reg_alpha': 0.41363798988398826, 'reg_lambda': 0.36696180593431993}. Best is trial 18 with value: 24.089663780588655.\n",
      "[I 2025-03-21 23:48:34,114] Trial 30 finished with value: 24.126214304011583 and parameters: {'n_estimators': 615, 'max_depth': 4, 'learning_rate': 0.004609914881640579, 'subsample': 0.8491815145777483, 'colsample_bytree': 0.6889845340443153, 'gamma': 3.8118591970444884, 'reg_alpha': 0.44014235202700736, 'reg_lambda': 0.35483672159371404}. Best is trial 18 with value: 24.089663780588655.\n",
      "[I 2025-03-21 23:48:42,453] Trial 31 finished with value: 24.103935260979455 and parameters: {'n_estimators': 929, 'max_depth': 3, 'learning_rate': 0.007217073736712404, 'subsample': 0.7404331653992272, 'colsample_bytree': 0.622743357758278, 'gamma': 4.977925504777444, 'reg_alpha': 0.41295015387691586, 'reg_lambda': 0.35848753245001636}. Best is trial 18 with value: 24.089663780588655.\n",
      "[I 2025-03-21 23:48:50,222] Trial 32 finished with value: 24.18728864634561 and parameters: {'n_estimators': 866, 'max_depth': 3, 'learning_rate': 0.01207353191755184, 'subsample': 0.7752895845725295, 'colsample_bytree': 0.6506656222233859, 'gamma': 5.869100443096533, 'reg_alpha': 0.4072981832689473, 'reg_lambda': 0.3252822268594943}. Best is trial 18 with value: 24.089663780588655.\n",
      "[I 2025-03-21 23:48:58,516] Trial 33 finished with value: 24.122746874653505 and parameters: {'n_estimators': 941, 'max_depth': 3, 'learning_rate': 0.00757076613872551, 'subsample': 0.6960356762588927, 'colsample_bytree': 0.6126901759505047, 'gamma': 3.2567872212011597, 'reg_alpha': 0.3824263104683496, 'reg_lambda': 0.2939794993390846}. Best is trial 18 with value: 24.089663780588655.\n",
      "[I 2025-03-21 23:49:06,030] Trial 34 finished with value: 24.11428671461969 and parameters: {'n_estimators': 788, 'max_depth': 3, 'learning_rate': 0.005961795660317606, 'subsample': 0.6583309052001611, 'colsample_bytree': 0.6625232402657883, 'gamma': 5.2988495093366765, 'reg_alpha': 0.4178911551630596, 'reg_lambda': 0.3512458287111956}. Best is trial 18 with value: 24.089663780588655.\n",
      "[I 2025-03-21 23:49:13,835] Trial 35 finished with value: 24.202474548993138 and parameters: {'n_estimators': 871, 'max_depth': 3, 'learning_rate': 0.011797594768889778, 'subsample': 0.7145306448140755, 'colsample_bytree': 0.6456995648509332, 'gamma': 3.580558859421555, 'reg_alpha': 0.3520298846835514, 'reg_lambda': 0.3094549247875431}. Best is trial 18 with value: 24.089663780588655.\n",
      "[I 2025-03-21 23:49:28,297] Trial 36 finished with value: 24.140125395858888 and parameters: {'n_estimators': 922, 'max_depth': 4, 'learning_rate': 0.004906530709661558, 'subsample': 0.7452194933530114, 'colsample_bytree': 0.6014134406920665, 'gamma': 4.778733682694753, 'reg_alpha': 0.3951653080204871, 'reg_lambda': 0.2524262526147596}. Best is trial 18 with value: 24.089663780588655.\n",
      "[I 2025-03-21 23:49:43,039] Trial 37 finished with value: 24.119859445331134 and parameters: {'n_estimators': 750, 'max_depth': 4, 'learning_rate': 0.003722044495078673, 'subsample': 0.8037996160694492, 'colsample_bytree': 0.8268303171798088, 'gamma': 5.923886310328631, 'reg_alpha': 0.4387632774133211, 'reg_lambda': 0.28555272085724054}. Best is trial 18 with value: 24.089663780588655.\n",
      "[I 2025-03-21 23:49:47,373] Trial 38 finished with value: 24.516239465472243 and parameters: {'n_estimators': 463, 'max_depth': 3, 'learning_rate': 0.002572184025005494, 'subsample': 0.6490310452932986, 'colsample_bytree': 0.6766328353608112, 'gamma': 5.383569106388245, 'reg_alpha': 0.31602803545702285, 'reg_lambda': 0.33117596928323983}. Best is trial 18 with value: 24.089663780588655.\n",
      "[I 2025-03-21 23:49:51,063] Trial 39 finished with value: 24.171868194023705 and parameters: {'n_estimators': 674, 'max_depth': 2, 'learning_rate': 0.007719922889802402, 'subsample': 0.7723981791061776, 'colsample_bytree': 0.7437478203939206, 'gamma': 6.463900440203885, 'reg_alpha': 0.4521630384290899, 'reg_lambda': 0.39861515009744714}. Best is trial 18 with value: 24.089663780588655.\n",
      "[I 2025-03-21 23:49:59,555] Trial 40 finished with value: 24.079825143620596 and parameters: {'n_estimators': 962, 'max_depth': 3, 'learning_rate': 0.005154916098686074, 'subsample': 0.6089620802977611, 'colsample_bytree': 0.6410254253238369, 'gamma': 4.6469510766710656, 'reg_alpha': 0.3602380180296477, 'reg_lambda': 0.3427494154079229}. Best is trial 40 with value: 24.079825143620596.\n",
      "[I 2025-03-21 23:50:08,090] Trial 41 finished with value: 24.087246439709247 and parameters: {'n_estimators': 961, 'max_depth': 3, 'learning_rate': 0.004949305424982931, 'subsample': 0.6131147479846513, 'colsample_bytree': 0.6345034163451728, 'gamma': 4.582495060914395, 'reg_alpha': 0.3338543209997546, 'reg_lambda': 0.34219032830550206}. Best is trial 40 with value: 24.079825143620596.\n",
      "[I 2025-03-21 23:50:16,629] Trial 42 finished with value: 24.106833850015885 and parameters: {'n_estimators': 966, 'max_depth': 3, 'learning_rate': 0.005052201500058655, 'subsample': 0.6260853613481018, 'colsample_bytree': 0.619124406504666, 'gamma': 4.580414669050275, 'reg_alpha': 0.3366530204393624, 'reg_lambda': 0.3398414116497384}. Best is trial 40 with value: 24.079825143620596.\n",
      "[I 2025-03-21 23:50:27,261] Trial 43 finished with value: 24.217263616135046 and parameters: {'n_estimators': 907, 'max_depth': 3, 'learning_rate': 0.002438826790239234, 'subsample': 0.6163066103199577, 'colsample_bytree': 0.9397102819147223, 'gamma': 5.012433847540835, 'reg_alpha': 0.3354381606478464, 'reg_lambda': 0.3600560756578651}. Best is trial 40 with value: 24.079825143620596.\n",
      "[I 2025-03-21 23:50:55,102] Trial 44 finished with value: 24.188558405599654 and parameters: {'n_estimators': 995, 'max_depth': 5, 'learning_rate': 0.0035124166599759, 'subsample': 0.6008840040656465, 'colsample_bytree': 0.6474911438937543, 'gamma': 5.058065447116001, 'reg_alpha': 0.35275318023164354, 'reg_lambda': 0.34823715651078163}. Best is trial 40 with value: 24.079825143620596.\n",
      "[I 2025-03-21 23:51:03,884] Trial 45 finished with value: 24.104826857212107 and parameters: {'n_estimators': 953, 'max_depth': 3, 'learning_rate': 0.004463055314999543, 'subsample': 0.6399220234249918, 'colsample_bytree': 0.6674993568010699, 'gamma': 4.749467483707811, 'reg_alpha': 0.36451534916973505, 'reg_lambda': 0.38614652064180066}. Best is trial 40 with value: 24.079825143620596.\n",
      "[I 2025-03-21 23:51:08,538] Trial 46 finished with value: 24.15054382074743 and parameters: {'n_estimators': 895, 'max_depth': 2, 'learning_rate': 0.005754936567401209, 'subsample': 0.6000939154012921, 'colsample_bytree': 0.6975722715740992, 'gamma': 5.467905575082954, 'reg_alpha': 0.33025275627225925, 'reg_lambda': 0.3375983475685215}. Best is trial 40 with value: 24.079825143620596.\n",
      "[I 2025-03-21 23:51:19,763] Trial 47 finished with value: 24.436912536288208 and parameters: {'n_estimators': 980, 'max_depth': 3, 'learning_rate': 0.0013211195578390349, 'subsample': 0.8970023344171717, 'colsample_bytree': 0.9037605076442792, 'gamma': 4.162803315840462, 'reg_alpha': 0.37712420692383614, 'reg_lambda': 0.3198208050419398}. Best is trial 40 with value: 24.079825143620596.\n",
      "[I 2025-03-21 23:51:28,140] Trial 48 finished with value: 24.20746421689636 and parameters: {'n_estimators': 941, 'max_depth': 3, 'learning_rate': 0.010451916798623674, 'subsample': 0.9524966832642231, 'colsample_bytree': 0.6418025926675003, 'gamma': 4.49107736189824, 'reg_alpha': 0.3437079314163577, 'reg_lambda': 0.3290460730812606}. Best is trial 40 with value: 24.079825143620596.\n",
      "[I 2025-03-21 23:51:32,926] Trial 49 finished with value: 24.35490519283998 and parameters: {'n_estimators': 814, 'max_depth': 2, 'learning_rate': 0.00282971242947424, 'subsample': 0.7069162657875108, 'colsample_bytree': 0.8125025091381537, 'gamma': 5.189221056465503, 'reg_alpha': 0.3159989485204968, 'reg_lambda': 0.3775498163795117}. Best is trial 40 with value: 24.079825143620596.\n",
      "[I 2025-03-21 23:51:41,797] Trial 50 finished with value: 24.131584548163858 and parameters: {'n_estimators': 890, 'max_depth': 3, 'learning_rate': 0.00826938785473481, 'subsample': 0.7299136223981869, 'colsample_bytree': 0.7758057415870995, 'gamma': 4.319423165457709, 'reg_alpha': 0.36152757965984916, 'reg_lambda': 0.3603995300933477}. Best is trial 40 with value: 24.079825143620596.\n",
      "[I 2025-03-21 23:51:50,310] Trial 51 finished with value: 24.104418665707232 and parameters: {'n_estimators': 956, 'max_depth': 3, 'learning_rate': 0.004255964205905277, 'subsample': 0.6406906335609822, 'colsample_bytree': 0.6586630087931711, 'gamma': 4.762191726084859, 'reg_alpha': 0.3593992811974941, 'reg_lambda': 0.3903611907199237}. Best is trial 40 with value: 24.079825143620596.\n",
      "[I 2025-03-21 23:51:58,712] Trial 52 finished with value: 24.093396373680253 and parameters: {'n_estimators': 967, 'max_depth': 3, 'learning_rate': 0.005307176765268455, 'subsample': 0.6323780354411632, 'colsample_bytree': 0.6161593980996692, 'gamma': 4.814890101809642, 'reg_alpha': 0.3754110017119056, 'reg_lambda': 0.3823788134051393}. Best is trial 40 with value: 24.079825143620596.\n",
      "[I 2025-03-21 23:52:07,234] Trial 53 finished with value: 24.101412812858857 and parameters: {'n_estimators': 988, 'max_depth': 3, 'learning_rate': 0.005321231787088696, 'subsample': 0.6692218054800165, 'colsample_bytree': 0.617729419570065, 'gamma': 5.665197073136588, 'reg_alpha': 0.4042346403348791, 'reg_lambda': 0.380993922176251}. Best is trial 40 with value: 24.079825143620596.\n",
      "[I 2025-03-21 23:52:15,711] Trial 54 finished with value: 24.106788095728692 and parameters: {'n_estimators': 982, 'max_depth': 3, 'learning_rate': 0.0054384848859545, 'subsample': 0.6646568280093355, 'colsample_bytree': 0.6031054987374904, 'gamma': 5.588124510447653, 'reg_alpha': 0.38984558690145893, 'reg_lambda': 0.3760678281474003}. Best is trial 40 with value: 24.079825143620596.\n",
      "[I 2025-03-21 23:52:24,236] Trial 55 finished with value: 24.10229862640389 and parameters: {'n_estimators': 997, 'max_depth': 3, 'learning_rate': 0.005125801130041562, 'subsample': 0.6225421684020129, 'colsample_bytree': 0.6176862351283958, 'gamma': 6.148947577120884, 'reg_alpha': 0.3766709380339225, 'reg_lambda': 0.3863427528182756}. Best is trial 40 with value: 24.079825143620596.\n",
      "[I 2025-03-21 23:52:32,796] Trial 56 finished with value: 24.13457223665527 and parameters: {'n_estimators': 906, 'max_depth': 3, 'learning_rate': 0.0037810797587795784, 'subsample': 0.6766156768472018, 'colsample_bytree': 0.7221140056919579, 'gamma': 4.178168296529798, 'reg_alpha': 0.40074328032519274, 'reg_lambda': 0.34661621205315674}. Best is trial 40 with value: 24.079825143620596.\n",
      "[I 2025-03-21 23:52:37,753] Trial 57 finished with value: 24.140058092400817 and parameters: {'n_estimators': 965, 'max_depth': 2, 'learning_rate': 0.00621857518402597, 'subsample': 0.6142188341280899, 'colsample_bytree': 0.6848128300714796, 'gamma': 4.049503810105326, 'reg_alpha': 0.37447472801015286, 'reg_lambda': 0.36736503052202274}. Best is trial 40 with value: 24.079825143620596.\n",
      "[I 2025-03-21 23:52:45,561] Trial 58 finished with value: 24.109241345954317 and parameters: {'n_estimators': 873, 'max_depth': 3, 'learning_rate': 0.00492146016712656, 'subsample': 0.6373902670564449, 'colsample_bytree': 0.6411912557202847, 'gamma': 5.807279308023201, 'reg_alpha': 0.34229493826250434, 'reg_lambda': 0.31553931218940656}. Best is trial 40 with value: 24.079825143620596.\n",
      "[I 2025-03-21 23:53:02,028] Trial 59 finished with value: 24.33979144497974 and parameters: {'n_estimators': 999, 'max_depth': 4, 'learning_rate': 0.009407277187640234, 'subsample': 0.6318358817744908, 'colsample_bytree': 0.6678523696924346, 'gamma': 6.719751850060824, 'reg_alpha': 0.30186308940009277, 'reg_lambda': 0.39170280986568395}. Best is trial 40 with value: 24.079825143620596.\n",
      "[I 2025-03-21 23:53:09,968] Trial 60 finished with value: 24.16395942067439 and parameters: {'n_estimators': 916, 'max_depth': 3, 'learning_rate': 0.0030857823189392184, 'subsample': 0.651340462882154, 'colsample_bytree': 0.6243077865271391, 'gamma': 4.603885047642316, 'reg_alpha': 0.4009135718547063, 'reg_lambda': 0.37147367400303094}. Best is trial 40 with value: 24.079825143620596.\n",
      "[I 2025-03-21 23:53:18,322] Trial 61 finished with value: 24.088222776433827 and parameters: {'n_estimators': 979, 'max_depth': 3, 'learning_rate': 0.005354989428980259, 'subsample': 0.6153866359032271, 'colsample_bytree': 0.6148282475314414, 'gamma': 6.185488564405637, 'reg_alpha': 0.38090023211593615, 'reg_lambda': 0.3810064406200747}. Best is trial 40 with value: 24.079825143620596.\n",
      "[I 2025-03-21 23:53:26,709] Trial 62 finished with value: 24.082084064345498 and parameters: {'n_estimators': 965, 'max_depth': 3, 'learning_rate': 0.006284852534200805, 'subsample': 0.6071072071771983, 'colsample_bytree': 0.6105526625111799, 'gamma': 6.166282019765308, 'reg_alpha': 0.3823380088152326, 'reg_lambda': 0.38413492381267533}. Best is trial 40 with value: 24.079825143620596.\n",
      "[I 2025-03-21 23:53:35,168] Trial 63 finished with value: 24.103771571128238 and parameters: {'n_estimators': 955, 'max_depth': 3, 'learning_rate': 0.0066074768346452446, 'subsample': 0.6131497797354625, 'colsample_bytree': 0.6039804526764782, 'gamma': 6.106971174092349, 'reg_alpha': 0.3833447680847265, 'reg_lambda': 0.29305432581404756}. Best is trial 40 with value: 24.079825143620596.\n",
      "[I 2025-03-21 23:53:44,050] Trial 64 finished with value: 24.109655918186537 and parameters: {'n_estimators': 935, 'max_depth': 3, 'learning_rate': 0.003993225001996754, 'subsample': 0.6023440589330366, 'colsample_bytree': 0.6366551161381646, 'gamma': 6.9565908984384945, 'reg_alpha': 0.3671252816108775, 'reg_lambda': 0.36465766643753644}. Best is trial 40 with value: 24.079825143620596.\n",
      "[I 2025-03-21 23:53:53,051] Trial 65 finished with value: 24.091901763691496 and parameters: {'n_estimators': 967, 'max_depth': 3, 'learning_rate': 0.004439716115635465, 'subsample': 0.6158576234769815, 'colsample_bytree': 0.6485868825712489, 'gamma': 6.323406435897481, 'reg_alpha': 0.3909690610977027, 'reg_lambda': 0.3825751881148488}. Best is trial 40 with value: 24.079825143620596.\n",
      "[I 2025-03-21 23:54:01,970] Trial 66 finished with value: 24.10348182718552 and parameters: {'n_estimators': 971, 'max_depth': 3, 'learning_rate': 0.0044199752400146675, 'subsample': 0.613588334476459, 'colsample_bytree': 0.650550216041608, 'gamma': 6.410024327630138, 'reg_alpha': 0.39292061529762523, 'reg_lambda': 0.38259877016029964}. Best is trial 40 with value: 24.079825143620596.\n",
      "[I 2025-03-21 23:54:09,688] Trial 67 finished with value: 24.105200967550218 and parameters: {'n_estimators': 890, 'max_depth': 3, 'learning_rate': 0.005448104543254915, 'subsample': 0.6512352920073478, 'colsample_bytree': 0.6298981942924573, 'gamma': 6.293544677736642, 'reg_alpha': 0.3561157251985077, 'reg_lambda': 0.3929935913403128}. Best is trial 40 with value: 24.079825143620596.\n",
      "[I 2025-03-21 23:54:14,721] Trial 68 finished with value: 24.189281631764384 and parameters: {'n_estimators': 570, 'max_depth': 3, 'learning_rate': 0.004678576361551294, 'subsample': 0.6270997261752266, 'colsample_bytree': 0.6111484922808396, 'gamma': 6.6791311026904046, 'reg_alpha': 0.3799982294596264, 'reg_lambda': 0.3971994432697899}. Best is trial 40 with value: 24.079825143620596.\n",
      "[I 2025-03-21 23:54:19,792] Trial 69 finished with value: 24.24664259248837 and parameters: {'n_estimators': 972, 'max_depth': 2, 'learning_rate': 0.003556786950944595, 'subsample': 0.685975505126751, 'colsample_bytree': 0.7005983907657102, 'gamma': 5.975452436795481, 'reg_alpha': 0.36992653476900583, 'reg_lambda': 0.3711563395405591}. Best is trial 40 with value: 24.079825143620596.\n",
      "[I 2025-03-21 23:54:27,103] Trial 70 finished with value: 24.123534620146035 and parameters: {'n_estimators': 828, 'max_depth': 3, 'learning_rate': 0.007998944406035166, 'subsample': 0.6409919708611795, 'colsample_bytree': 0.6535935005003555, 'gamma': 6.606099166587909, 'reg_alpha': 0.3872359605908406, 'reg_lambda': 0.3744522935939859}. Best is trial 40 with value: 24.079825143620596.\n",
      "[I 2025-03-21 23:54:35,253] Trial 71 finished with value: 24.078451144811513 and parameters: {'n_estimators': 939, 'max_depth': 3, 'learning_rate': 0.006109546274096846, 'subsample': 0.6085029478519912, 'colsample_bytree': 0.6355797737507763, 'gamma': 6.279166578322638, 'reg_alpha': 0.42298954729251625, 'reg_lambda': 0.3104887586905236}. Best is trial 71 with value: 24.078451144811513.\n",
      "[I 2025-03-21 23:54:43,447] Trial 72 finished with value: 24.076138116980044 and parameters: {'n_estimators': 932, 'max_depth': 3, 'learning_rate': 0.005888180885970952, 'subsample': 0.6090890269311064, 'colsample_bytree': 0.6356377234292379, 'gamma': 6.182573796736076, 'reg_alpha': 0.42201004371006007, 'reg_lambda': 0.32161787647887524}. Best is trial 72 with value: 24.076138116980044.\n",
      "[I 2025-03-21 23:54:51,530] Trial 73 finished with value: 24.101508779423398 and parameters: {'n_estimators': 918, 'max_depth': 3, 'learning_rate': 0.006776239792017687, 'subsample': 0.610614567852667, 'colsample_bytree': 0.6383966469286573, 'gamma': 6.303852563204415, 'reg_alpha': 0.42785104789158973, 'reg_lambda': 0.32572738348048463}. Best is trial 72 with value: 24.076138116980044.\n",
      "[I 2025-03-21 23:54:59,277] Trial 74 finished with value: 24.101582692660852 and parameters: {'n_estimators': 852, 'max_depth': 3, 'learning_rate': 0.005941804433421832, 'subsample': 0.618483316419395, 'colsample_bytree': 0.6719524303426945, 'gamma': 6.068176535320639, 'reg_alpha': 0.4206640707973238, 'reg_lambda': 0.3103469618941927}. Best is trial 72 with value: 24.076138116980044.\n",
      "[I 2025-03-21 23:55:07,141] Trial 75 finished with value: 24.116627711312262 and parameters: {'n_estimators': 938, 'max_depth': 3, 'learning_rate': 0.008723816657750358, 'subsample': 0.606750366973875, 'colsample_bytree': 0.6000938554815799, 'gamma': 6.194400916114236, 'reg_alpha': 0.43322985836863137, 'reg_lambda': 0.2986567731921802}. Best is trial 72 with value: 24.076138116980044.\n",
      "[I 2025-03-21 23:55:16,443] Trial 76 finished with value: 24.13001072544543 and parameters: {'n_estimators': 874, 'max_depth': 3, 'learning_rate': 0.0072432863403905775, 'subsample': 0.6588841174357224, 'colsample_bytree': 0.8661488587245801, 'gamma': 6.442023172019403, 'reg_alpha': 0.3964667470321289, 'reg_lambda': 0.3347782377696863}. Best is trial 72 with value: 24.076138116980044.\n",
      "[I 2025-03-21 23:55:24,691] Trial 77 finished with value: 24.145347584236074 and parameters: {'n_estimators': 912, 'max_depth': 3, 'learning_rate': 0.003926687062825201, 'subsample': 0.9975470758009041, 'colsample_bytree': 0.6240422106769792, 'gamma': 5.774890213252178, 'reg_alpha': 0.42386547442341277, 'reg_lambda': 0.3201076437576613}. Best is trial 72 with value: 24.076138116980044.\n",
      "[I 2025-03-21 23:55:28,879] Trial 78 finished with value: 24.226868608514128 and parameters: {'n_estimators': 384, 'max_depth': 3, 'learning_rate': 0.006053704248669656, 'subsample': 0.6241995739287288, 'colsample_bytree': 0.6533792288217685, 'gamma': 6.05321059460009, 'reg_alpha': 0.3900770326008243, 'reg_lambda': 0.3525976841006186}. Best is trial 72 with value: 24.076138116980044.\n",
      "[I 2025-03-21 23:55:45,607] Trial 79 finished with value: 24.142547906273666 and parameters: {'n_estimators': 944, 'max_depth': 4, 'learning_rate': 0.004611929481899282, 'subsample': 0.649915507500292, 'colsample_bytree': 0.689274821777003, 'gamma': 6.899605923724561, 'reg_alpha': 0.40581392277867273, 'reg_lambda': 0.3453778192163561}. Best is trial 72 with value: 24.076138116980044.\n",
      "[I 2025-03-21 23:55:53,933] Trial 80 finished with value: 24.150319183615323 and parameters: {'n_estimators': 928, 'max_depth': 3, 'learning_rate': 0.0033527273849305052, 'subsample': 0.6754524021297587, 'colsample_bytree': 0.6351903814716081, 'gamma': 6.348570165325116, 'reg_alpha': 0.3474052873938421, 'reg_lambda': 0.3123057208758562}. Best is trial 72 with value: 24.076138116980044.\n",
      "[I 2025-03-21 23:56:02,332] Trial 81 finished with value: 24.09727717678436 and parameters: {'n_estimators': 976, 'max_depth': 3, 'learning_rate': 0.005529810861426085, 'subsample': 0.6328765844641422, 'colsample_bytree': 0.6138459740604667, 'gamma': 6.533481022542241, 'reg_alpha': 0.3704000005907705, 'reg_lambda': 0.38528900908804026}. Best is trial 72 with value: 24.076138116980044.\n",
      "[I 2025-03-21 23:56:10,777] Trial 82 finished with value: 24.089602426482305 and parameters: {'n_estimators': 975, 'max_depth': 3, 'learning_rate': 0.006629854766061412, 'subsample': 0.6019057097758206, 'colsample_bytree': 0.6306181675062167, 'gamma': 6.224459141838163, 'reg_alpha': 0.38270151750389764, 'reg_lambda': 0.3436366292220747}. Best is trial 72 with value: 24.076138116980044.\n",
      "[I 2025-03-21 23:56:19,225] Trial 83 finished with value: 24.076690837117372 and parameters: {'n_estimators': 950, 'max_depth': 3, 'learning_rate': 0.006300354467434719, 'subsample': 0.6026822160399433, 'colsample_bytree': 0.642237962199259, 'gamma': 6.532012009478483, 'reg_alpha': 0.4462065000106008, 'reg_lambda': 0.34293601100031706}. Best is trial 72 with value: 24.076138116980044.\n",
      "[I 2025-03-21 23:56:27,697] Trial 84 finished with value: 24.080634388332513 and parameters: {'n_estimators': 899, 'max_depth': 3, 'learning_rate': 0.006461971942037134, 'subsample': 0.6009438403609136, 'colsample_bytree': 0.6616258314939519, 'gamma': 6.795251717155427, 'reg_alpha': 0.48687032330463054, 'reg_lambda': 0.33107768344768534}. Best is trial 72 with value: 24.076138116980044.\n",
      "[I 2025-03-21 23:56:35,955] Trial 85 finished with value: 24.092165299917866 and parameters: {'n_estimators': 954, 'max_depth': 3, 'learning_rate': 0.006579939554810117, 'subsample': 0.6001230054379892, 'colsample_bytree': 0.6271812444007404, 'gamma': 6.78876730191921, 'reg_alpha': 0.4848281909192619, 'reg_lambda': 0.3408100060787956}. Best is trial 72 with value: 24.076138116980044.\n",
      "[I 2025-03-21 23:57:10,744] Trial 86 finished with value: 24.60708010194902 and parameters: {'n_estimators': 898, 'max_depth': 5, 'learning_rate': 0.009673622242815854, 'subsample': 0.6218198068199378, 'colsample_bytree': 0.998247696215113, 'gamma': 6.552235505415434, 'reg_alpha': 0.4683026128207654, 'reg_lambda': 0.32958573113182843}. Best is trial 72 with value: 24.076138116980044.\n",
      "[I 2025-03-21 23:57:17,765] Trial 87 finished with value: 24.08372025854347 and parameters: {'n_estimators': 718, 'max_depth': 3, 'learning_rate': 0.0071427285821195835, 'subsample': 0.6076106031860752, 'colsample_bytree': 0.6609133197335145, 'gamma': 6.825534395316701, 'reg_alpha': 0.4595725150040602, 'reg_lambda': 0.3427461223448991}. Best is trial 72 with value: 24.076138116980044.\n",
      "[I 2025-03-21 23:57:22,863] Trial 88 finished with value: 24.135962381065525 and parameters: {'n_estimators': 496, 'max_depth': 3, 'learning_rate': 0.0075541296706472345, 'subsample': 0.643887316151634, 'colsample_bytree': 0.6628467213537226, 'gamma': 6.833044620536724, 'reg_alpha': 0.4635646193500169, 'reg_lambda': 0.3340233559443317}. Best is trial 72 with value: 24.076138116980044.\n",
      "[I 2025-03-21 23:57:29,384] Trial 89 finished with value: 24.11659254208443 and parameters: {'n_estimators': 678, 'max_depth': 3, 'learning_rate': 0.00873100924518152, 'subsample': 0.6276316414222488, 'colsample_bytree': 0.6767192075652433, 'gamma': 6.61992031921547, 'reg_alpha': 0.4566550611015854, 'reg_lambda': 0.3377971137654588}. Best is trial 72 with value: 24.076138116980044.\n",
      "[I 2025-03-21 23:57:36,504] Trial 90 finished with value: 24.44726253651469 and parameters: {'n_estimators': 802, 'max_depth': 3, 'learning_rate': 0.022248406523162928, 'subsample': 0.6093329068955448, 'colsample_bytree': 0.6433112326083905, 'gamma': 6.961200127101106, 'reg_alpha': 0.4802644662289636, 'reg_lambda': 0.35665521514716814}. Best is trial 72 with value: 24.076138116980044.\n",
      "[I 2025-03-21 23:57:45,058] Trial 91 finished with value: 24.08251847716386 and parameters: {'n_estimators': 989, 'max_depth': 3, 'learning_rate': 0.007081882373275993, 'subsample': 0.6003797796453246, 'colsample_bytree': 0.629747683041317, 'gamma': 6.2425432449791085, 'reg_alpha': 0.44453032670884596, 'reg_lambda': 0.3433343886505256}. Best is trial 72 with value: 24.076138116980044.\n",
      "[I 2025-03-21 23:57:51,456] Trial 92 finished with value: 24.090240757210907 and parameters: {'n_estimators': 721, 'max_depth': 3, 'learning_rate': 0.007139075482674727, 'subsample': 0.6098370321272081, 'colsample_bytree': 0.6620955560624014, 'gamma': 5.994838190614204, 'reg_alpha': 0.4463663881249524, 'reg_lambda': 0.3489129859788661}. Best is trial 72 with value: 24.076138116980044.\n",
      "[I 2025-03-21 23:58:00,181] Trial 93 finished with value: 24.104754009519656 and parameters: {'n_estimators': 999, 'max_depth': 3, 'learning_rate': 0.005973813725073639, 'subsample': 0.6334541047733795, 'colsample_bytree': 0.6111028975270736, 'gamma': 6.6856900684352505, 'reg_alpha': 0.445155983257755, 'reg_lambda': 0.32554314103550497}. Best is trial 72 with value: 24.076138116980044.\n",
      "[I 2025-03-21 23:58:09,156] Trial 94 finished with value: 24.18394215989167 and parameters: {'n_estimators': 946, 'max_depth': 3, 'learning_rate': 0.010944163871486943, 'subsample': 0.6223942452786292, 'colsample_bytree': 0.709149057692025, 'gamma': 4.42322124182409, 'reg_alpha': 0.4582289362806891, 'reg_lambda': 0.3212046467606284}. Best is trial 72 with value: 24.076138116980044.\n",
      "[I 2025-03-21 23:58:16,405] Trial 95 finished with value: 24.09843990413435 and parameters: {'n_estimators': 773, 'max_depth': 3, 'learning_rate': 0.005008087391749732, 'subsample': 0.6073319296981823, 'colsample_bytree': 0.6438190058847745, 'gamma': 6.478801755688803, 'reg_alpha': 0.4359130898024646, 'reg_lambda': 0.3319237270117598}. Best is trial 72 with value: 24.076138116980044.\n",
      "[I 2025-03-21 23:58:25,015] Trial 96 finished with value: 24.10052247928463 and parameters: {'n_estimators': 986, 'max_depth': 3, 'learning_rate': 0.007900450752174123, 'subsample': 0.6186485863340035, 'colsample_bytree': 0.6549995398238535, 'gamma': 6.392482363350023, 'reg_alpha': 0.4927752921785582, 'reg_lambda': 0.3405916934140623}. Best is trial 72 with value: 24.076138116980044.\n",
      "[I 2025-03-21 23:58:33,130] Trial 97 finished with value: 24.11718648542448 and parameters: {'n_estimators': 933, 'max_depth': 3, 'learning_rate': 0.006260887340270806, 'subsample': 0.6574470741280724, 'colsample_bytree': 0.6247937474443556, 'gamma': 6.745482755154048, 'reg_alpha': 0.4413894007817136, 'reg_lambda': 0.31610633708368885}. Best is trial 72 with value: 24.076138116980044.\n",
      "[I 2025-03-21 23:58:41,350] Trial 98 finished with value: 24.084641798290225 and parameters: {'n_estimators': 907, 'max_depth': 3, 'learning_rate': 0.005764428627655918, 'subsample': 0.6004541288126257, 'colsample_bytree': 0.6891099929497836, 'gamma': 4.6371956857561765, 'reg_alpha': 0.4753168744306779, 'reg_lambda': 0.3629999165040543}. Best is trial 72 with value: 24.076138116980044.\n",
      "[I 2025-03-21 23:58:49,189] Trial 99 finished with value: 24.085733098584942 and parameters: {'n_estimators': 865, 'max_depth': 3, 'learning_rate': 0.007127321164224017, 'subsample': 0.6012063011419901, 'colsample_bytree': 0.6699136396382469, 'gamma': 4.530840003984362, 'reg_alpha': 0.4737070205810575, 'reg_lambda': 0.35077409063213766}. Best is trial 72 with value: 24.076138116980044.\n"
     ]
    },
    {
     "name": "stdout",
     "output_type": "stream",
     "text": [
      "Лучшие параметры:\n",
      "{'n_estimators': 932, 'max_depth': 3, 'learning_rate': 0.005888180885970952, 'subsample': 0.6090890269311064, 'colsample_bytree': 0.6356377234292379, 'gamma': 6.182573796736076, 'reg_alpha': 0.42201004371006007, 'reg_lambda': 0.32161787647887524}\n",
      "Лучший RMSE: 24.0761\n"
     ]
    }
   ],
   "source": [
    "def objective(trial):\n",
    "    params = {\n",
    "        'n_estimators': trial.suggest_int('n_estimators', 300, 1000),\n",
    "        'max_depth': trial.suggest_int('max_depth', 2, 5),\n",
    "        'learning_rate': trial.suggest_float('learning_rate', 0.001, 0.03, log=True),\n",
    "        'subsample': trial.suggest_float('subsample', 0.6, 1.0),\n",
    "        'colsample_bytree': trial.suggest_float('colsample_bytree', 0.6, 1.0),\n",
    "        'gamma': trial.suggest_float('gamma', 3, 7),\n",
    "        'reg_alpha': trial.suggest_float('reg_alpha', 0.3, 0.5),\n",
    "        'reg_lambda': trial.suggest_float('reg_lambda', 0.2, 0.4),\n",
    "        'objective': 'reg:squarederror',\n",
    "        'random_state': 42,\n",
    "        'n_jobs': -1\n",
    "    }\n",
    "\n",
    "    model = XGBRegressor(**params)\n",
    "    \n",
    "    # Кросс-валидация\n",
    "    score = cross_val_score(\n",
    "        model, X_train_tfidf, y_train,\n",
    "        scoring='neg_root_mean_squared_error',\n",
    "        cv=3,\n",
    "        n_jobs=-1\n",
    "    )\n",
    "    \n",
    "    return -score.mean()  # хотим минимизировать RMSE\n",
    "\n",
    "study = optuna.create_study(direction='minimize')\n",
    "study.optimize(objective, n_trials=100, timeout=1500)\n",
    "\n",
    "print(\"Лучшие параметры:\")\n",
    "print(study.best_params)\n",
    "print(f\"Лучший RMSE: {study.best_value:.4f}\")"
   ]
  },
  {
   "cell_type": "code",
   "execution_count": 41,
   "metadata": {},
   "outputs": [
    {
     "name": "stdout",
     "output_type": "stream",
     "text": [
      "📊 RMSE на тесте: 23.4784\n"
     ]
    }
   ],
   "source": [
    "best_model = XGBRegressor(\n",
    "    **study.best_params,\n",
    "    n_jobs=-1,\n",
    "    random_state=42\n",
    ")\n",
    "\n",
    "best_model.fit(X_train_tfidf, y_train)\n",
    "y_pred = best_model.predict(X_test_tfidf)\n",
    "\n",
    "rmse = mean_squared_error(y_test, y_pred, squared=False)\n",
    "print(f\"📊 RMSE на тесте: {rmse:.4f}\")"
   ]
  },
  {
   "cell_type": "code",
   "execution_count": null,
   "metadata": {},
   "outputs": [],
   "source": []
  }
 ],
 "metadata": {
  "kernelspec": {
   "display_name": "Recommended_System-b--jxVTG",
   "language": "python",
   "name": "python3"
  },
  "language_info": {
   "codemirror_mode": {
    "name": "ipython",
    "version": 3
   },
   "file_extension": ".py",
   "mimetype": "text/x-python",
   "name": "python",
   "nbconvert_exporter": "python",
   "pygments_lexer": "ipython3",
   "version": "3.8.20"
  }
 },
 "nbformat": 4,
 "nbformat_minor": 2
}
