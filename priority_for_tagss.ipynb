{
 "cells": [
  {
   "cell_type": "code",
   "execution_count": null,
   "id": "cc205ed3",
   "metadata": {},
   "outputs": [],
   "source": [
    "import priority_for_tags_keyword_extractor as ke\n",
    "import pandas as pd"
   ]
  },
  {
   "cell_type": "code",
   "execution_count": null,
   "id": "2d48815e",
   "metadata": {},
   "outputs": [
    {
     "name": "stderr",
     "output_type": "stream",
     "text": [
      "Comparing TF-IDF / TextRank / KeyBERT:  10%|█         | 1/10 [00:00<00:08,  1.07it/s]"
     ]
    },
    {
     "name": "stdout",
     "output_type": "stream",
     "text": [
      "\n",
      "🎵 003kHBHt9acC62im5UYbFm\n",
      "TF-IDF → ['değil', 'bir', 'bu', 'burası', 'dünya', 'ama', 'daha', 'hadi', 'tabi', 'yeni']\n",
      "TextRank → ['hadi diyon ama', 'burası dünya değil', 'Rüya değil', 'dünya değil', 'değil benim gezegenim', 'değil aga', 'Rüya kim hangi kokoş', 'Rapi hatim ediyorum ama', 'adım ona göre', 'seni saman alevine bile söndürebilirler için bir lanetin\\nSüryani gibi şarap içerim adım bir sanat eseri']\n",
      "KeyBERT → ['2014', 'teletubbie', 'yıkamazsın', 'söndürebilirler', 'ezilebilir', 'ordularını', 'tükür', 'mabedi', 'rağbeti', 'ediyorum']\n"
     ]
    },
    {
     "name": "stderr",
     "output_type": "stream",
     "text": [
      "Comparing TF-IDF / TextRank / KeyBERT:  20%|██        | 2/10 [00:01<00:04,  1.89it/s]"
     ]
    },
    {
     "name": "stdout",
     "output_type": "stream",
     "text": [
      "\n",
      "🎵 003vvx7Niy0yvhvHt4a68B\n",
      "TF-IDF → ['kiss', 'chorus', 'gotta', 'just', 'taking', 'asleep', 'bed', 'cab', 'cage', 'calling']\n",
      "TextRank → ['Pre-Chorus', 'saints', 'Comin', 'bed', 'control', 'his\\n\\n[Pre-Chorus]\\nChest', 'a cab', 'a smoke', 'her dress', 'my cage']\n",
      "KeyBERT → ['asleep', 'kiss', 'bed', 'cab', 'sick', 'jealousy', 'chorus', 'killing', 'falling', 'calling']\n"
     ]
    },
    {
     "name": "stderr",
     "output_type": "stream",
     "text": [
      "Comparing TF-IDF / TextRank / KeyBERT:  30%|███       | 3/10 [00:01<00:03,  2.02it/s]"
     ]
    },
    {
     "name": "stdout",
     "output_type": "stream",
     "text": [
      "\n",
      "🎵 005lwxGU1tms6HGELIcUv9\n",
      "TF-IDF → ['girl', 'kissed', 'liked', 'don', 'felt', 'just', 'try', '120', 'attention', 'boyfriend']\n",
      "TextRank → ['Lyrics[Verse', 'hand', 'ChapStick', 'love', 'tonight', 'a girl', 'the way', 'my discretion', 'my boyfriend', 'her cherry']\n",
      "KeyBERT → ['boyfriend', 'kissed', 'cherry', 'contributorstranslationsitalianotürkçeespañolportuguêsdeutschčeskyi', 'tonight', 'chorus', 'taste', 'girl', 'love', 'drink']\n"
     ]
    },
    {
     "name": "stderr",
     "output_type": "stream",
     "text": [
      "Comparing TF-IDF / TextRank / KeyBERT:  40%|████      | 4/10 [00:01<00:02,  2.49it/s]"
     ]
    },
    {
     "name": "stdout",
     "output_type": "stream",
     "text": [
      "\n",
      "🎵 006oGnrSZevqZTimsD2oh4\n",
      "TF-IDF → ['mı', 'diva', 'nakarat', 'yorgun', 'akarından', 'aklımı', 'ay', 'baktım', 'bana', 'beterinden']\n",
      "TextRank → ['da hani', 'Göğe baktım', 'Korudu mevlâm', 'Böyle içine sığmaz da hani\\nElinde kalbin', 'Diva Yorgun', 'şarkı sözleri', 'Bilmezdim', 'Söyle', 'beterinden\\nKorudu mevlâm aklımı', 'Bana']\n",
      "KeyBERT → ['baktım', 'akarından', 'aklımı', 'tatlı', 'sığmaz', 'bilmezdim', 'haklı', 'biliyordun', 'saklı', 'canım']\n"
     ]
    },
    {
     "name": "stderr",
     "output_type": "stream",
     "text": [
      "Comparing TF-IDF / TextRank / KeyBERT:  50%|█████     | 5/10 [00:02<00:01,  2.73it/s]"
     ]
    },
    {
     "name": "stdout",
     "output_type": "stream",
     "text": [
      "\n",
      "🎵 007JQyyu6DrGza9XX6scAN\n",
      "TF-IDF → ['da', 'dah', 'oh', 'ball', 'break', 'chorus', 'fist', 'just', 'wall', 'wrecking']\n",
      "TextRank → ['Post-Chorus', 'ball', 'top', 'a reckless wrecking ball', 'du-da-dah', '(Bu-da-da-dah', 'the wall', 'a fist', 'my hand', 'the hands']\n",
      "KeyBERT → ['wrecking', 'wreck', 'fist', 'reckless', 'throw', 'sand', 'unruly', 'rock', 'plates', 'ball']\n"
     ]
    },
    {
     "name": "stderr",
     "output_type": "stream",
     "text": [
      "Comparing TF-IDF / TextRank / KeyBERT:  60%|██████    | 6/10 [00:02<00:01,  3.18it/s]"
     ]
    },
    {
     "name": "stdout",
     "output_type": "stream",
     "text": [
      "\n",
      "🎵 008McaJl3WM1UqxxVie9BP\n",
      "TF-IDF → ['like', 'love', 'night', 'buried', 'try', 'verse', 'band', 'come', 'grief', 'gun']\n",
      "TextRank → ['people', 'loves marching band', 'Verse 2', 'a night', 'the night', 'your hand', 'a gun', 'the sound', 'these woods', 'a song']\n",
      "KeyBERT → ['grief', 'sleep', 'tired', 'night', 'woods', 'sing', 'sigh', 'love', 'buried', 'song']\n"
     ]
    },
    {
     "name": "stderr",
     "output_type": "stream",
     "text": [
      "Comparing TF-IDF / TextRank / KeyBERT:  70%|███████   | 7/10 [00:02<00:01,  2.94it/s]"
     ]
    },
    {
     "name": "stdout",
     "output_type": "stream",
     "text": [
      "\n",
      "🎵 009ImBOrIUlWgla8U05RAC\n",
      "TF-IDF → ['unconditionally', 'did', 'just', 'love', 'oh', 'verse', 'apologies', 'bad', 'blink', 'chorus']\n",
      "TextRank → ['apologies', 'Verse', 'your bad days', 'All the dirty laundry', 'your good\\nWalk', 'one time', 'no fear', 'the inside', 'the storm', 'All your insecurities']\n",
      "KeyBERT → ['love', 'insecurities', 'unconditionally', 'storm', 'unconditional', 'apologies', 'fear', 'laundry', 'free', 'chorus']\n"
     ]
    },
    {
     "name": "stderr",
     "output_type": "stream",
     "text": [
      "Comparing TF-IDF / TextRank / KeyBERT:  90%|█████████ | 9/10 [00:03<00:00,  3.77it/s]"
     ]
    },
    {
     "name": "stdout",
     "output_type": "stream",
     "text": [
      "\n",
      "🎵 00EVTGFVlGQ5ZNmiUvR2H8\n",
      "TF-IDF → ['moja', 'la', 'tarea', 'se', 'te', 'por', 'que', 'cuando', 'llover', 'lo']\n",
      "TextRank → ['moja', 'la sombrilla que va', 'Pero qué casualidad que hoy te toca', 'Pero por', 'mojó la', 'la', 'que por mi casa esta lloviendo', 'por qué', 'tarea', 'moja\\nMoja']\n",
      "KeyBERT → ['lloviendo', 'cuando', 'sombrilla', 'letra', 'escuela', 'llego', 'la', 'viene', 'maestra', 'hombre']\n",
      "\n",
      "🎵 00G1BtS8r791C63yZLVc0R\n",
      "TF-IDF → ['easy', 'took', 'way', 'chorus', 'mistake', 'turned', 've', 'verse', 'casting', 'heard']\n",
      "TextRank → ['the easy way', 'The mistake', 'my name', '1', '2', 'I', 'It', 'one', 'you']\n",
      "KeyBERT → ['mistake', 'passing', 'heard', 'chorus', 'verse', 'turned', 'casting', 'easy', 'went', 'took']\n"
     ]
    },
    {
     "name": "stderr",
     "output_type": "stream",
     "text": [
      "Comparing TF-IDF / TextRank / KeyBERT: 100%|██████████| 10/10 [00:03<00:00,  2.91it/s]"
     ]
    },
    {
     "name": "stdout",
     "output_type": "stream",
     "text": [
      "\n",
      "🎵 00I0pcNkN3IOX3fsYbaB4N\n",
      "TF-IDF → ['love', 'right', 'baby', 'dayytona', 'fox', 'infatuation', 'music', 'close', 'continuing', 'gotta']\n",
      "TextRank → ['Love', 'love', 'Dayytona Fox', 'Loving life', 'Infatuation', 'infatuation', 'music', 'life', 'real (Love', 'Continuing']\n",
      "KeyBERT → ['love', 'loving', 'chorus', 'prosperity', 'loyalty', 'infatuation', 'intro', 'music', 'fox', 'interlude']\n"
     ]
    },
    {
     "name": "stderr",
     "output_type": "stream",
     "text": [
      "\n",
      "Comparing TF-IDF / TextRank / KeyBERT:  10%|█         | 2/20 [00:00<00:05,  3.35it/s]"
     ]
    },
    {
     "name": "stdout",
     "output_type": "stream",
     "text": [
      "\n",
      "🎵 003kHBHt9acC62im5UYbFm\n",
      "TF-IDF → ['değil', 'bir', 'ama', 'bu', 'dünya', 'burası', 'hala', 'daha', 'hadi', 'tabi', 'yeni', 'adım', 'benim', 'bile', 'bunu']\n",
      "TextRank → ['hadi diyon ama', 'burası dünya değil', 'Rüya değil', 'Rapi hatim ediyorum ama', 'dünya değil', 'adım ona göre', 'Ben hala sakinim', 'değil benim gezegenim', 'seni saman alevine bile söndürebilirler için bir lanetin\\nSüryani gibi şarap içerim adım bir sanat eseri', 'değil aga', 'Rüya kim hangi kokoş', 'Burası dünya değil', 'yıkamazsın büyük bir mabedi\\nHüsran değil benim diğer adım ona göre', 'Rüya kim', 'sen daha']\n",
      "KeyBERT → ['2014', 'reddedemiyorum', 'teletubbie', 'la', 'duracağız', 'birleşsin', 'mağlupsun', 'yıkamazsın', 'söndürebilirler', 'ezilebilir', 'ordularını', 'dolu', 'depoladı', 'tükür', 'mabedi']\n",
      "\n",
      "🎵 003vvx7Niy0yvhvHt4a68B\n",
      "TF-IDF → ['just', 'kiss', 'cage', 'calling', 'chorus', 'comin', 'doin', 'fine', 'gotta', 'sick', 'taking', 've', 'verse', 'alibi', 'asleep']\n",
      "TextRank → ['Pre-Chorus', 'sick lullabies', 'Mr. Brightside', 'saints', 'Destiny', 'Choking', 'comin', 'control', 'bed', 'Brightside', 'Comin', 'my eager eyes', 'my cage', 'the sea\\nSwimming', 'his\\n\\n[Pre-Chorus]\\nChest']\n",
      "KeyBERT → ['asleep', 'kiss', 'bed', 'choking', 'cab', 'lullabies', 'sick', 'jealousy', 'swimming', 'chorus', 'killing', 'falling', 'destiny', 'interlude', 'calling']\n"
     ]
    },
    {
     "name": "stderr",
     "output_type": "stream",
     "text": [
      "Comparing TF-IDF / TextRank / KeyBERT:  15%|█▌        | 3/20 [00:01<00:07,  2.19it/s]"
     ]
    },
    {
     "name": "stdout",
     "output_type": "stream",
     "text": [
      "\n",
      "🎵 005lwxGU1tms6HGELIcUv9\n",
      "TF-IDF → ['girl', 'kissed', 'don', 'just', 'liked', 'felt', 'try', 'verse', '120', 'attention', 'behave', 'boyfriend', 'brave', 'caught', 'chapstick']\n",
      "TextRank → ['good girls', 'Lyrics[Verse', 'hand', 'ChapStick', 'love', 'tonight', 'my experimental game', 'a girl', 'Just human nature', 'your name', 'My head', 'the way', 'my discretion', 'my boyfriend', 'her cherry']\n",
      "KeyBERT → ['boyfriend', 'kissed', 'cherry', 'contributorstranslationsitalianotürkçeespañolportuguêsdeutschčeskyi', 'tonight', 'girls', 'chorus', 'taste', 'girl', 'love', 'drink', 'lyrics', '120', 'verse', 'lost']\n"
     ]
    },
    {
     "name": "stderr",
     "output_type": "stream",
     "text": [
      "Comparing TF-IDF / TextRank / KeyBERT:  25%|██▌       | 5/20 [00:01<00:04,  3.43it/s]"
     ]
    },
    {
     "name": "stdout",
     "output_type": "stream",
     "text": [
      "\n",
      "🎵 006oGnrSZevqZTimsD2oh4\n",
      "TF-IDF → ['mı', 'ben', 'bi', 'bu', 'bölüm', 'canım', 'diva', 'mü', 'nakarat', 'senden', 'yorgun', 'akarından', 'aklımı', 'ay', 'aymazdım']\n",
      "TextRank → ['da hani', 'senden gelene', 'tut elimi', 'Göğe baktım', 'rüzgârları baharın', 'Korudu mevlâm', 'Böyle içine sığmaz da hani\\nElinde kalbin', 'Diva Yorgun', 'şarkı sözleri', 'Bilmezdim senden önce bunu\\nDeğmezdi', 'Eğlendim', 'canım', 'Söyle', 'Değmezdi', 'beterinden\\nKorudu mevlâm aklımı']\n",
      "KeyBERT → ['saçlarıma', 'rüzgârları', 'razıyım', 'aymazdım', 'baktım', 'akarından', 'baharın', 'aklımı', 'yağdı', 'tatlı', 'sığmaz', 'bilmezdim', 'haklı', 'biliyordun', 'saklı']\n",
      "\n",
      "🎵 007JQyyu6DrGza9XX6scAN\n",
      "TF-IDF → ['da', 'gotta', 'break', 'dah', 'oh', 'wall', 'wanna', 'ball', 'chorus', 'fist', 'hand', 'just', 'verse', 'wrecking', 'aim']\n",
      "TextRank → ['Post-Chorus', 'ball', 'top', 'Tearin', 'a reckless wrecking ball', 'a dedicated hand', 'baby', 'du-da-dah', 'the wall', '(Bu-da-da-dah', 'a battering ram', 'my hand', 'the hands', 'all those pretty porcelain dolls', 'a fist']\n",
      "KeyBERT → ['wrecking', 'battering', 'wreck', 'fist', 'reckless', 'throw', 'sand', 'drummer', 'tearin', 'unruly', 'ram', 'rock', 'plates', 'ball', 'porcelain']\n"
     ]
    },
    {
     "name": "stderr",
     "output_type": "stream",
     "text": [
      "Comparing TF-IDF / TextRank / KeyBERT:  35%|███▌      | 7/20 [00:01<00:02,  4.86it/s]"
     ]
    },
    {
     "name": "stdout",
     "output_type": "stream",
     "text": [
      "\n",
      "🎵 008McaJl3WM1UqxxVie9BP\n",
      "TF-IDF → ['like', 'love', 'night', 'buried', 'try', 'verse', 'band', 'come', 'grief', 'gun', 'hand', 'heard', 'hold', 'land', 'let']\n",
      "TextRank → ['people', 'loves marching band', 'Verse 2', 'a night', 'the night', 'your hand', 'a gun', 'the sound', 'these woods', 'a song', 'my grief', 'the land', '1', 'I', 'They']\n",
      "KeyBERT → ['grief', 'sleep', 'tired', 'night', 'woods', 'sing', 'sigh', 'love', 'buried', 'song', 'murmur', 'smiling', 'marching', 'band', 'gun']\n",
      "\n",
      "🎵 009ImBOrIUlWgla8U05RAC\n",
      "TF-IDF → ['love', 'unconditionally', 'just', 'chorus', 'did', 'fear', 'free', 'let', 'oh', 'unconditional', 'verse', 'apologies', 'bad', 'blink', 'close']\n",
      "TextRank → ['Verse', 'apologies', 'your bad days', 'All the dirty laundry', 'your good\\nWalk', 'no fear', 'the storm', 'one time', 'the inside', 'All your insecurities', '1', '2', 'I', 'it', 'me']\n",
      "KeyBERT → ['love', 'insecurities', 'storm', 'unconditionally', 'unconditional', 'apologies', 'fear', 'laundry', 'free', 'chorus', 'dirty', 'worthy', 'bad', 'verse', 'need']\n"
     ]
    },
    {
     "name": "stderr",
     "output_type": "stream",
     "text": [
      "Comparing TF-IDF / TextRank / KeyBERT:  45%|████▌     | 9/20 [00:02<00:02,  5.05it/s]"
     ]
    },
    {
     "name": "stdout",
     "output_type": "stream",
     "text": [
      "\n",
      "🎵 00EVTGFVlGQ5ZNmiUvR2H8\n",
      "TF-IDF → ['moja', 'la', 'tarea', 'se', 'te', 'por', 'que', 'cuando', 'llover', 'lo', 'maestra', 'mamá', 'pero', 'qué', 'va']\n",
      "TextRank → ['moja', 'la sombrilla que va', 'Pero qué casualidad que hoy te toca', 'Pero por', 'que por mi casa esta lloviendo', 'mojó la', 'la', 'por qué', 'moja\\nMoja', 'Se te moja', 'tarea', 'la tarea\\nMoja', 'la tarea se le moja\\nA dirección', 'Pero', 'mamá']\n",
      "KeyBERT → ['lloviendo', 'cuando', 'sombrilla', 'letra', 'escuela', 'llego', 'la', 'viene', 'maestra', 'hombre', 'mamá', 'intro', 'mojado', 'trajo', 'esta']\n",
      "\n",
      "🎵 00G1BtS8r791C63yZLVc0R\n",
      "TF-IDF → ['easy', 'took', 'way', 'feel', 'memorable', 'wanna', 'chorus', 'mistake', 'turned', 've', 'verse', 'casting', 'heard', 'outro', 'passing']\n",
      "TextRank → ['the easy way', 'The mistake', 'my name', '1', '2', 'I', 'It', 'one', 'something', 'you']\n",
      "KeyBERT → ['mistake', 'outro', 'heard', 'chorus', 'verse', 'memorable', 'passing', 'casting', 'turned', 'easy', 'went', 'took', 've', 'wanna', 'feel']\n"
     ]
    },
    {
     "name": "stderr",
     "output_type": "stream",
     "text": [
      "Comparing TF-IDF / TextRank / KeyBERT:  50%|█████     | 10/20 [00:02<00:02,  4.61it/s]"
     ]
    },
    {
     "name": "stdout",
     "output_type": "stream",
     "text": [
      "\n",
      "🎵 00I0pcNkN3IOX3fsYbaB4N\n",
      "TF-IDF → ['right', 'love', 'dayytona', 'fox', 'baby', 'close', 'gotta', 'infatuation', 'music', 'ah', 'chorus', 'continuing', 'life', 'moving', 'way']\n",
      "TextRank → ['Dayytona Fox', 'Love', 'love', 'Loving life', 'Infatuation', 'infatuation', 'Dayytona Fox & Takeoff', 'music', 'life', 'real (Love', 'tonight', 'Continuing', ', love', 'home', 'prosperity']\n",
      "KeyBERT → ['love', 'loving', 'chorus', 'prosperity', 'loyalty', 'infatuation', 'tonight', 'verse', 'intro', 'music', 'fox', 'takeoff', 'home', 'interlude', 'life']\n"
     ]
    },
    {
     "name": "stderr",
     "output_type": "stream",
     "text": [
      "Comparing TF-IDF / TextRank / KeyBERT:  55%|█████▌    | 11/20 [00:03<00:02,  3.34it/s]"
     ]
    },
    {
     "name": "stdout",
     "output_type": "stream",
     "text": [
      "\n",
      "🎵 00I41xsW6SunZDJ5fB8KAd\n",
      "TF-IDF → ['ooh', 'zone', 'know', 'safe', '20대를', 'break', 'damn', 'gosh', 'intro', 'leg', 'let', 'oh', 'safety', 'verse', 'yeah']\n",
      "TextRank → ['잘', '그래 의미 없이', '교통정리가 안', 'Safety Zone', '살고 있어\\n다 보란 듯', '의미 없이', '있던데', '응답하지만\\n날 돌아보란 듯', '순간 다르게 외로워\\n괴로워', '된', '그', '적', 'yeah', '차들처럼\\n이리 치이고 저리 치이곤 해\\n난 왜 없는데', '20대를']\n",
      "KeyBERT → ['응답하지만', '무궁무진한', '변하고', '안전지대가', '살아가지만', '돌아보란', '교통정리가', '제이홉', '게임마저', '만나지만', '해져가', '커지는', '차들처럼', '아군은', '20대를']\n"
     ]
    },
    {
     "name": "stderr",
     "output_type": "stream",
     "text": [
      "Comparing TF-IDF / TextRank / KeyBERT:  60%|██████    | 12/20 [00:03<00:02,  3.15it/s]"
     ]
    },
    {
     "name": "stdout",
     "output_type": "stream",
     "text": [
      "\n",
      "🎵 00IACUw78cvYRup3xOqvTU\n",
      "TF-IDF → ['ich', 'mein', 'viel', 'brauch', 'du', 'mir', 'soll', 'wie', 'babe', 'bro', 'damit', 'high', 'ist', 'mit', 'nicht']\n",
      "TextRank → ['Wie viel soll ich geben', 'wie viel soll ich', 'Sag mir', 'nicht viel redet', 'der mir hier noch hilft', 'mir immer', 'mein Leben', 'wen zum Reden', 'Bro haut Line nach Line weg\\nIch', 'ist da draußen jеmand', 'Plug damit', 'mein Babe', 'du hin', 'ich bin', 'ist nicht']\n",
      "KeyBERT → ['songtext', 'joshua', 'glaub', 'bro', 'intro', 'hook', 'hier', 'babe', 'aushalt', 'leben', 'hilft', 'sinn', 'opiat', 'plug', 'nicht']\n"
     ]
    },
    {
     "name": "stderr",
     "output_type": "stream",
     "text": [
      "Comparing TF-IDF / TextRank / KeyBERT:  70%|███████   | 14/20 [00:04<00:02,  2.93it/s]"
     ]
    },
    {
     "name": "stdout",
     "output_type": "stream",
     "text": [
      "\n",
      "🎵 00NAQYOP4AmWR549nnYJZu\n",
      "TF-IDF → ['love', 'talkin', 'secrets', 'hear', 'chorus', 'guys', 'lie', 'lies', 'sleep', 'talk', 'time', 'told', 'verse', '155', 'abel']\n",
      "TextRank → ['Dolly Parton', 'Conway Twitty', 'Pre-Chorus', 'Abel', 'Pre', 'Chorus', 'My love', 'my love', 'the “M A N I A', 'the “M A N I A” visuals', 'a lie', 'your lies', '155 ContributorsTranslationsTürkçePortuguêsEspañolPolskiSecrets Lyrics“Secrets', 'the girls mind', 'the secrets']\n",
      "KeyBERT → ['contributorstranslationstürkçeportuguêsespañolpolskisecrets', 'twitty', 'chorus', 'love', 'lyrics', 'dolly', 'song', 'girls', 'verse', 'everybody', 'catch', 'heart', 'secrets', 'desires', 'preview']\n",
      "\n",
      "🎵 00Qum7j2nKb2wKo8floWBy\n",
      "TF-IDF → ['care', 'change', 'don', 'just', 'real', 'chorus', 'feels', 'resist', 'won', 'away', 'chase', 'clouds', 'dreams', 'feel', 'forgives']\n",
      "TextRank → ['Pre-Chorus', 'Glass needles', 'Glass', 'Chorus', 'Chase', 'Pre', 'my holy shroud', 'The sun', 'the hay', '[Chorus', 'the clouds', 'your dreams', '[Verse]\\nChase', 'I', 'That']\n",
      "KeyBERT → ['dreams', 'sun', 'chase', 'chorus', 'clouds', 'hay', 'eternally', 'shroud', 'forgives', 'missed', 'verse', 'resist', 'care', 'glass', 'won']\n"
     ]
    },
    {
     "name": "stderr",
     "output_type": "stream",
     "text": [
      "Comparing TF-IDF / TextRank / KeyBERT:  80%|████████  | 16/20 [00:04<00:01,  3.18it/s]"
     ]
    },
    {
     "name": "stdout",
     "output_type": "stream",
     "text": [
      "\n",
      "🎵 00R0fEFZGb5hyTgF1nrRCq\n",
      "TF-IDF → ['just', 'look', 'need', 'shoulders', 'yeah', 'hip', 'honey', 'hop', 'know', 'ah', 'don', 'jackson', 'like', 'michael', 'afraid']\n",
      "TextRank → ['Michael Jackson', 'Marvelous beat selectors', 'hopeless notes', 'Big marbles', 'scare emcees', 'Busta Rhymes', 'Kendrick Lamar', 'novel spitters', 'Kendrick Lamar & Michael Jackson', 'Stacy', 'authors', 'style', 'deeds', 'dreams', 'first']\n",
      "KeyBERT → ['jackson', 'marbles', 'kendrick', 'busta', 'hop', 'dreams', 'rhymes', 'stacy', 'car', 'novel', 'new', 'intro', 'poltergeist', 'authors', 'honey']\n",
      "\n",
      "🎵 00RLNHc2jkEjUoCUlFgPVT\n",
      "TF-IDF → ['baello', 'louie', 'sane', 'trying', 'chorus', 'know', 'afraid', 'begin', 'brought', 'came', 'carelessly', 'control', 'did', 'feel', 'friend']\n",
      "TextRank → ['Louie Baello', 'Lost control', 'Verse', 'my only friend', 'Post Chorus:', '[Post Chorus', 'the reason', 'my heart', 'the warmth', 'the thoughts', 'your skin', '[Chorus', 'I', 'That', 'You']\n",
      "KeyBERT → ['friend', 'lost', 'chorus', 'carelessly', 'afraid', 'heart', 'tamed', 'trying', 'seek', 'louie', 'verse', 'warmth', 'thoughts', 'run', 'post']\n"
     ]
    },
    {
     "name": "stderr",
     "output_type": "stream",
     "text": [
      "Comparing TF-IDF / TextRank / KeyBERT:  85%|████████▌ | 17/20 [00:05<00:01,  2.92it/s]"
     ]
    },
    {
     "name": "stdout",
     "output_type": "stream",
     "text": [
      "\n",
      "🎵 00RaykzZO1vFk3eSSxHYHV\n",
      "TF-IDF → ['say', 've', 'bang', 'got', 'play', 'seen', 'slang', 'ground', 'comin', 'drugs', 'feels', 'game', 'goin', 'guns', 'hard']\n",
      "TextRank → ['Cemetery Blunts', 'Comin', 'Ridin', 'Razor', 'Graveyard', 'Swervin', 'home\\nRazor blade', 'guns', 'Play', 'Slang', 'my white skin\\nTurn ghost', 'more\\nComin', '73 ContributorsTranslationsРусскийDirt Lyrics[Intro', ', comin', 'my fuckin bones']\n",
      "KeyBERT → ['ghost', 'contributorstranslationsрусскийdirt', 'drugs', 'slang', 'guns', 'bones', 'fuckin', 'burn', 'raindrops', 'razor', 'graveyard', 'lyrics', '73', 'short', 'blunt']\n"
     ]
    },
    {
     "name": "stderr",
     "output_type": "stream",
     "text": [
      "Comparing TF-IDF / TextRank / KeyBERT:  95%|█████████▌| 19/20 [00:06<00:00,  2.84it/s]"
     ]
    },
    {
     "name": "stdout",
     "output_type": "stream",
     "text": [
      "\n",
      "🎵 00U72PHx206wNAyw2TIlLL\n",
      "TF-IDF → ['yeah', 'ain', 'bitch', 'dealer', 'dropped', 'got', 'want', 'came', 'goin', 'kill', 'motherfuckers', 'nigga', 'shawty', 'shit', 'told']\n",
      "TextRank → ['more pills', 'more gas', 'shit', 'Michael Jackson', 'Shawty', 'Bryson Tiller', 'drugs', 'college', 'Thriller', 'Beep', 'Hummer', 'Snakes', 'that shit wack', 'sawyer', 'a killer\\nMichael Jackson']\n",
      "KeyBERT → ['motherfuckers', 'hissin', 'kill', 'pills', 'mack', 'drugs', 'contributordropped', 'bitch', 'bitches', 'dropping', 'blood', 'drop', 'pop', 'killer', 'drug']\n",
      "\n",
      "🎵 00UrlBMkJC1b9C9Fc8ypJN\n",
      "TF-IDF → ['zero', 'calling', 'did', 'colleen', 'make', 'away', 'blasted', 'bouncer', 'called', 'cause', 'come', 'contributorscalling', 'feet', 'girl', 'hero']\n",
      "TextRank → ['Calling Zero', 'Zero', 'Calling', 'Hush Margarita', '2 ContributorsCalling Zero LyricsScary', 'Colleen', 'Honey', 'Blasted', 'today', 'Colleens hero', 'the program\\nHoney', 'the weekend', 'the sun', 'a girl', 'a bouncer six feet']\n",
      "KeyBERT → ['margarita', 'weekend', 'bouncer', 'honey', 'girl', 'love', 'contributorscalling', 'colleen', 'sun', 'lyricsscary', 'song', 'zero', 'loves', 'hero', 'blasted']\n"
     ]
    },
    {
     "name": "stderr",
     "output_type": "stream",
     "text": [
      "Comparing TF-IDF / TextRank / KeyBERT: 100%|██████████| 20/20 [00:06<00:00,  3.12it/s]"
     ]
    },
    {
     "name": "stdout",
     "output_type": "stream",
     "text": [
      "\n",
      "🎵 00V7CT3Hseqd4CMhePjFSr\n",
      "TF-IDF → ['eylər', 'bir', 'bənd', 'baxışla', 'başa', 'birlikdə', 'dünyanın', 'həvəsi', 'keçib', 'məlhəm', 'necə', 'qəlbə', 'sevəndir', 'vurarıq', 'yorulmaz']\n",
      "TextRank → ['çöllər xoş bir', 'çən eylər', 'yüz məlhəm', 'ayrı düşsə', 'çiskin çilər', 'Yar yarından', 'Bulud gələr', 'Birlikdə', 'Yaman gündə', 'Dünyanın', 'vurarıq başa', 'ömrün yolları\\nBirlikdə yorulmaz', 'Könlüm', 'qəm', 'ömrün']\n",
      "KeyBERT → ['gəzərlər', 'firuzədəndir', 'birlikdə', 'göllərdə', 'əlindən', 'sevgilimdən', 'gələr', 'baxışla', 'gündə', 'qəlbə', 'nədəndir', 'açılmayır', 'məlhəm', 'çilər', 'yarından']\n"
     ]
    },
    {
     "name": "stderr",
     "output_type": "stream",
     "text": [
      "\n"
     ]
    },
    {
     "data": {
      "text/html": [
       "<div>\n",
       "<style scoped>\n",
       "    .dataframe tbody tr th:only-of-type {\n",
       "        vertical-align: middle;\n",
       "    }\n",
       "\n",
       "    .dataframe tbody tr th {\n",
       "        vertical-align: top;\n",
       "    }\n",
       "\n",
       "    .dataframe thead th {\n",
       "        text-align: right;\n",
       "    }\n",
       "</style>\n",
       "<table border=\"1\" class=\"dataframe\">\n",
       "  <thead>\n",
       "    <tr style=\"text-align: right;\">\n",
       "      <th></th>\n",
       "      <th>track_id</th>\n",
       "      <th>tfidf</th>\n",
       "      <th>textrank</th>\n",
       "      <th>keybert</th>\n",
       "    </tr>\n",
       "  </thead>\n",
       "  <tbody>\n",
       "    <tr>\n",
       "      <th>0</th>\n",
       "      <td>003kHBHt9acC62im5UYbFm</td>\n",
       "      <td>değil, bir, ama, bu, dünya, burası, hala, daha...</td>\n",
       "      <td>hadi diyon ama, burası dünya değil, Rüya değil...</td>\n",
       "      <td>2014, reddedemiyorum, teletubbie, la, duracağı...</td>\n",
       "    </tr>\n",
       "    <tr>\n",
       "      <th>1</th>\n",
       "      <td>003vvx7Niy0yvhvHt4a68B</td>\n",
       "      <td>just, kiss, cage, calling, chorus, comin, doin...</td>\n",
       "      <td>Pre-Chorus, sick lullabies, Mr. Brightside, sa...</td>\n",
       "      <td>asleep, kiss, bed, choking, cab, lullabies, si...</td>\n",
       "    </tr>\n",
       "    <tr>\n",
       "      <th>2</th>\n",
       "      <td>005lwxGU1tms6HGELIcUv9</td>\n",
       "      <td>girl, kissed, don, just, liked, felt, try, ver...</td>\n",
       "      <td>good girls, Lyrics[Verse, hand, ChapStick, lov...</td>\n",
       "      <td>boyfriend, kissed, cherry, contributorstransla...</td>\n",
       "    </tr>\n",
       "    <tr>\n",
       "      <th>3</th>\n",
       "      <td>006oGnrSZevqZTimsD2oh4</td>\n",
       "      <td>mı, ben, bi, bu, bölüm, canım, diva, mü, nakar...</td>\n",
       "      <td>da hani, senden gelene, tut elimi, Göğe baktım...</td>\n",
       "      <td>saçlarıma, rüzgârları, razıyım, aymazdım, bakt...</td>\n",
       "    </tr>\n",
       "    <tr>\n",
       "      <th>4</th>\n",
       "      <td>007JQyyu6DrGza9XX6scAN</td>\n",
       "      <td>da, gotta, break, dah, oh, wall, wanna, ball, ...</td>\n",
       "      <td>Post-Chorus, ball, top, Tearin, a reckless wre...</td>\n",
       "      <td>wrecking, battering, wreck, fist, reckless, th...</td>\n",
       "    </tr>\n",
       "    <tr>\n",
       "      <th>5</th>\n",
       "      <td>008McaJl3WM1UqxxVie9BP</td>\n",
       "      <td>like, love, night, buried, try, verse, band, c...</td>\n",
       "      <td>people, loves marching band, Verse 2, a night,...</td>\n",
       "      <td>grief, sleep, tired, night, woods, sing, sigh,...</td>\n",
       "    </tr>\n",
       "    <tr>\n",
       "      <th>6</th>\n",
       "      <td>009ImBOrIUlWgla8U05RAC</td>\n",
       "      <td>love, unconditionally, just, chorus, did, fear...</td>\n",
       "      <td>Verse, apologies, your bad days, All the dirty...</td>\n",
       "      <td>love, insecurities, storm, unconditionally, un...</td>\n",
       "    </tr>\n",
       "    <tr>\n",
       "      <th>7</th>\n",
       "      <td>00EVTGFVlGQ5ZNmiUvR2H8</td>\n",
       "      <td>moja, la, tarea, se, te, por, que, cuando, llo...</td>\n",
       "      <td>moja, la sombrilla que va, Pero qué casualidad...</td>\n",
       "      <td>lloviendo, cuando, sombrilla, letra, escuela, ...</td>\n",
       "    </tr>\n",
       "    <tr>\n",
       "      <th>8</th>\n",
       "      <td>00G1BtS8r791C63yZLVc0R</td>\n",
       "      <td>easy, took, way, feel, memorable, wanna, choru...</td>\n",
       "      <td>the easy way, The mistake, my name, 1, 2, I, I...</td>\n",
       "      <td>mistake, outro, heard, chorus, verse, memorabl...</td>\n",
       "    </tr>\n",
       "    <tr>\n",
       "      <th>9</th>\n",
       "      <td>00I0pcNkN3IOX3fsYbaB4N</td>\n",
       "      <td>right, love, dayytona, fox, baby, close, gotta...</td>\n",
       "      <td>Dayytona Fox, Love, love, Loving life, Infatua...</td>\n",
       "      <td>love, loving, chorus, prosperity, loyalty, inf...</td>\n",
       "    </tr>\n",
       "    <tr>\n",
       "      <th>10</th>\n",
       "      <td>00I41xsW6SunZDJ5fB8KAd</td>\n",
       "      <td>ooh, zone, know, safe, 20대를, break, damn, gosh...</td>\n",
       "      <td>잘, 그래 의미 없이, 교통정리가 안, Safety Zone, 살고 있어\\n다 보란...</td>\n",
       "      <td>응답하지만, 무궁무진한, 변하고, 안전지대가, 살아가지만, 돌아보란, 교통정리가, ...</td>\n",
       "    </tr>\n",
       "    <tr>\n",
       "      <th>11</th>\n",
       "      <td>00IACUw78cvYRup3xOqvTU</td>\n",
       "      <td>ich, mein, viel, brauch, du, mir, soll, wie, b...</td>\n",
       "      <td>Wie viel soll ich geben, wie viel soll ich, Sa...</td>\n",
       "      <td>songtext, joshua, glaub, bro, intro, hook, hie...</td>\n",
       "    </tr>\n",
       "    <tr>\n",
       "      <th>12</th>\n",
       "      <td>00NAQYOP4AmWR549nnYJZu</td>\n",
       "      <td>love, talkin, secrets, hear, chorus, guys, lie...</td>\n",
       "      <td>Dolly Parton, Conway Twitty, Pre-Chorus, Abel,...</td>\n",
       "      <td>contributorstranslationstürkçeportuguêsespañol...</td>\n",
       "    </tr>\n",
       "    <tr>\n",
       "      <th>13</th>\n",
       "      <td>00Qum7j2nKb2wKo8floWBy</td>\n",
       "      <td>care, change, don, just, real, chorus, feels, ...</td>\n",
       "      <td>Pre-Chorus, Glass needles, Glass, Chorus, Chas...</td>\n",
       "      <td>dreams, sun, chase, chorus, clouds, hay, etern...</td>\n",
       "    </tr>\n",
       "    <tr>\n",
       "      <th>14</th>\n",
       "      <td>00R0fEFZGb5hyTgF1nrRCq</td>\n",
       "      <td>just, look, need, shoulders, yeah, hip, honey,...</td>\n",
       "      <td>Michael Jackson, Marvelous beat selectors, hop...</td>\n",
       "      <td>jackson, marbles, kendrick, busta, hop, dreams...</td>\n",
       "    </tr>\n",
       "    <tr>\n",
       "      <th>15</th>\n",
       "      <td>00RLNHc2jkEjUoCUlFgPVT</td>\n",
       "      <td>baello, louie, sane, trying, chorus, know, afr...</td>\n",
       "      <td>Louie Baello, Lost control, Verse, my only fri...</td>\n",
       "      <td>friend, lost, chorus, carelessly, afraid, hear...</td>\n",
       "    </tr>\n",
       "    <tr>\n",
       "      <th>16</th>\n",
       "      <td>00RaykzZO1vFk3eSSxHYHV</td>\n",
       "      <td>say, ve, bang, got, play, seen, slang, ground,...</td>\n",
       "      <td>Cemetery Blunts, Comin, Ridin, Razor, Graveyar...</td>\n",
       "      <td>ghost, contributorstranslationsрусскийdirt, dr...</td>\n",
       "    </tr>\n",
       "    <tr>\n",
       "      <th>17</th>\n",
       "      <td>00U72PHx206wNAyw2TIlLL</td>\n",
       "      <td>yeah, ain, bitch, dealer, dropped, got, want, ...</td>\n",
       "      <td>more pills, more gas, shit, Michael Jackson, S...</td>\n",
       "      <td>motherfuckers, hissin, kill, pills, mack, drug...</td>\n",
       "    </tr>\n",
       "    <tr>\n",
       "      <th>18</th>\n",
       "      <td>00UrlBMkJC1b9C9Fc8ypJN</td>\n",
       "      <td>zero, calling, did, colleen, make, away, blast...</td>\n",
       "      <td>Calling Zero, Zero, Calling, Hush Margarita, 2...</td>\n",
       "      <td>margarita, weekend, bouncer, honey, girl, love...</td>\n",
       "    </tr>\n",
       "    <tr>\n",
       "      <th>19</th>\n",
       "      <td>00V7CT3Hseqd4CMhePjFSr</td>\n",
       "      <td>eylər, bir, bənd, baxışla, başa, birlikdə, dün...</td>\n",
       "      <td>çöllər xoş bir, çən eylər, yüz məlhəm, ayrı dü...</td>\n",
       "      <td>gəzərlər, firuzədəndir, birlikdə, göllərdə, əl...</td>\n",
       "    </tr>\n",
       "  </tbody>\n",
       "</table>\n",
       "</div>"
      ],
      "text/plain": [
       "                  track_id                                              tfidf  \\\n",
       "0   003kHBHt9acC62im5UYbFm  değil, bir, ama, bu, dünya, burası, hala, daha...   \n",
       "1   003vvx7Niy0yvhvHt4a68B  just, kiss, cage, calling, chorus, comin, doin...   \n",
       "2   005lwxGU1tms6HGELIcUv9  girl, kissed, don, just, liked, felt, try, ver...   \n",
       "3   006oGnrSZevqZTimsD2oh4  mı, ben, bi, bu, bölüm, canım, diva, mü, nakar...   \n",
       "4   007JQyyu6DrGza9XX6scAN  da, gotta, break, dah, oh, wall, wanna, ball, ...   \n",
       "5   008McaJl3WM1UqxxVie9BP  like, love, night, buried, try, verse, band, c...   \n",
       "6   009ImBOrIUlWgla8U05RAC  love, unconditionally, just, chorus, did, fear...   \n",
       "7   00EVTGFVlGQ5ZNmiUvR2H8  moja, la, tarea, se, te, por, que, cuando, llo...   \n",
       "8   00G1BtS8r791C63yZLVc0R  easy, took, way, feel, memorable, wanna, choru...   \n",
       "9   00I0pcNkN3IOX3fsYbaB4N  right, love, dayytona, fox, baby, close, gotta...   \n",
       "10  00I41xsW6SunZDJ5fB8KAd  ooh, zone, know, safe, 20대를, break, damn, gosh...   \n",
       "11  00IACUw78cvYRup3xOqvTU  ich, mein, viel, brauch, du, mir, soll, wie, b...   \n",
       "12  00NAQYOP4AmWR549nnYJZu  love, talkin, secrets, hear, chorus, guys, lie...   \n",
       "13  00Qum7j2nKb2wKo8floWBy  care, change, don, just, real, chorus, feels, ...   \n",
       "14  00R0fEFZGb5hyTgF1nrRCq  just, look, need, shoulders, yeah, hip, honey,...   \n",
       "15  00RLNHc2jkEjUoCUlFgPVT  baello, louie, sane, trying, chorus, know, afr...   \n",
       "16  00RaykzZO1vFk3eSSxHYHV  say, ve, bang, got, play, seen, slang, ground,...   \n",
       "17  00U72PHx206wNAyw2TIlLL  yeah, ain, bitch, dealer, dropped, got, want, ...   \n",
       "18  00UrlBMkJC1b9C9Fc8ypJN  zero, calling, did, colleen, make, away, blast...   \n",
       "19  00V7CT3Hseqd4CMhePjFSr  eylər, bir, bənd, baxışla, başa, birlikdə, dün...   \n",
       "\n",
       "                                             textrank  \\\n",
       "0   hadi diyon ama, burası dünya değil, Rüya değil...   \n",
       "1   Pre-Chorus, sick lullabies, Mr. Brightside, sa...   \n",
       "2   good girls, Lyrics[Verse, hand, ChapStick, lov...   \n",
       "3   da hani, senden gelene, tut elimi, Göğe baktım...   \n",
       "4   Post-Chorus, ball, top, Tearin, a reckless wre...   \n",
       "5   people, loves marching band, Verse 2, a night,...   \n",
       "6   Verse, apologies, your bad days, All the dirty...   \n",
       "7   moja, la sombrilla que va, Pero qué casualidad...   \n",
       "8   the easy way, The mistake, my name, 1, 2, I, I...   \n",
       "9   Dayytona Fox, Love, love, Loving life, Infatua...   \n",
       "10  잘, 그래 의미 없이, 교통정리가 안, Safety Zone, 살고 있어\\n다 보란...   \n",
       "11  Wie viel soll ich geben, wie viel soll ich, Sa...   \n",
       "12  Dolly Parton, Conway Twitty, Pre-Chorus, Abel,...   \n",
       "13  Pre-Chorus, Glass needles, Glass, Chorus, Chas...   \n",
       "14  Michael Jackson, Marvelous beat selectors, hop...   \n",
       "15  Louie Baello, Lost control, Verse, my only fri...   \n",
       "16  Cemetery Blunts, Comin, Ridin, Razor, Graveyar...   \n",
       "17  more pills, more gas, shit, Michael Jackson, S...   \n",
       "18  Calling Zero, Zero, Calling, Hush Margarita, 2...   \n",
       "19  çöllər xoş bir, çən eylər, yüz məlhəm, ayrı dü...   \n",
       "\n",
       "                                              keybert  \n",
       "0   2014, reddedemiyorum, teletubbie, la, duracağı...  \n",
       "1   asleep, kiss, bed, choking, cab, lullabies, si...  \n",
       "2   boyfriend, kissed, cherry, contributorstransla...  \n",
       "3   saçlarıma, rüzgârları, razıyım, aymazdım, bakt...  \n",
       "4   wrecking, battering, wreck, fist, reckless, th...  \n",
       "5   grief, sleep, tired, night, woods, sing, sigh,...  \n",
       "6   love, insecurities, storm, unconditionally, un...  \n",
       "7   lloviendo, cuando, sombrilla, letra, escuela, ...  \n",
       "8   mistake, outro, heard, chorus, verse, memorabl...  \n",
       "9   love, loving, chorus, prosperity, loyalty, inf...  \n",
       "10  응답하지만, 무궁무진한, 변하고, 안전지대가, 살아가지만, 돌아보란, 교통정리가, ...  \n",
       "11  songtext, joshua, glaub, bro, intro, hook, hie...  \n",
       "12  contributorstranslationstürkçeportuguêsespañol...  \n",
       "13  dreams, sun, chase, chorus, clouds, hay, etern...  \n",
       "14  jackson, marbles, kendrick, busta, hop, dreams...  \n",
       "15  friend, lost, chorus, carelessly, afraid, hear...  \n",
       "16  ghost, contributorstranslationsрусскийdirt, dr...  \n",
       "17  motherfuckers, hissin, kill, pills, mack, drug...  \n",
       "18  margarita, weekend, bouncer, honey, girl, love...  \n",
       "19  gəzərlər, firuzədəndir, birlikdə, göllərdə, əl...  "
      ]
     },
     "execution_count": 5,
     "metadata": {},
     "output_type": "execute_result"
    }
   ],
   "source": [
    "# Запустить обработку с настройками по умолчанию\n",
    "results = ke.process_lyrics()\n",
    "\n",
    "# Или с другими параметрами\n",
    "results = ke.process_lyrics(\n",
    "    lyrics_dir=\"tracks/with_lyrics\", \n",
    "    num_files=20, \n",
    "    max_lines=30, \n",
    "    top_n=15\n",
    ")\n",
    "\n",
    "\n",
    "# Создать таблицу с результатами\n",
    "df = pd.DataFrame([\n",
    "    {\n",
    "        \"track_id\": r[\"track_id\"],\n",
    "        \"tfidf\": \", \".join(r[\"tfidf_tags\"]),\n",
    "        \"textrank\": \", \".join(r[\"textrank_tags\"]),\n",
    "        \"keybert\": \", \".join(r[\"keybert_tags\"])\n",
    "    }\n",
    "    for r in results\n",
    "])\n",
    "\n",
    "# Отображение в интерактивном режиме\n",
    "df"
   ]
  }
 ],
 "metadata": {
  "kernelspec": {
   "display_name": "Lyric2Popularity-6iiCWxZN",
   "language": "python",
   "name": "python3"
  },
  "language_info": {
   "codemirror_mode": {
    "name": "ipython",
    "version": 3
   },
   "file_extension": ".py",
   "mimetype": "text/x-python",
   "name": "python",
   "nbconvert_exporter": "python",
   "pygments_lexer": "ipython3",
   "version": "3.9.6"
  }
 },
 "nbformat": 4,
 "nbformat_minor": 5
}
